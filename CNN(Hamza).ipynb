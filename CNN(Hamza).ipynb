{
  "nbformat": 4,
  "nbformat_minor": 0,
  "metadata": {
    "colab": {
      "provenance": [],
      "authorship_tag": "ABX9TyN9w6x/7ouj8b+hKearjRFK",
      "include_colab_link": true
    },
    "kernelspec": {
      "name": "python3",
      "display_name": "Python 3"
    },
    "language_info": {
      "name": "python"
    }
  },
  "cells": [
    {
      "cell_type": "markdown",
      "metadata": {
        "id": "view-in-github",
        "colab_type": "text"
      },
      "source": [
        "<a href=\"https://colab.research.google.com/github/hamzaodeh/Group-A-DLI-Assignment/blob/main/CNN(Hamza).ipynb\" target=\"_parent\"><img src=\"https://colab.research.google.com/assets/colab-badge.svg\" alt=\"Open In Colab\"/></a>"
      ]
    },
    {
      "cell_type": "code",
      "execution_count": 159,
      "metadata": {
        "colab": {
          "base_uri": "https://localhost:8080/"
        },
        "id": "Ku2l027SWGVA",
        "outputId": "e8c69dd7-8597-443f-f612-2a19abcc9da8"
      },
      "outputs": [
        {
          "output_type": "stream",
          "name": "stdout",
          "text": [
            "2.8.0+cu126\n"
          ]
        }
      ],
      "source": [
        "import torch\n",
        "print(torch.__version__)"
      ]
    },
    {
      "cell_type": "code",
      "source": [
        "import os\n",
        "import pandas as pd\n",
        "import numpy as np\n",
        "import time\n",
        "import torch\n",
        "import torch.nn as nn\n",
        "import torch.optim as optim\n",
        "\n",
        "from opacus import PrivacyEngine\n",
        "from tqdm import tqdm\n",
        "from sklearn.model_selection import train_test_split\n",
        "from sklearn.preprocessing import StandardScaler\n",
        "from sklearn.metrics import accuracy_score, classification_report, confusion_matrix"
      ],
      "metadata": {
        "id": "BGfGqVfxWN9A"
      },
      "execution_count": 160,
      "outputs": []
    },
    {
      "cell_type": "code",
      "source": [
        "import pandas as pd\n",
        "import numpy as np\n",
        "\n",
        "\n",
        "from typing                       import Tuple, List\n",
        "from sklearn.preprocessing import StandardScaler\n",
        "#from sklearn.preprocessing        import RobustScaler\n",
        "from sklearn.utils import resample\n",
        "from torch.utils.data             import DataLoader\n",
        "from opacus.utils.uniform_sampler import UniformWithReplacementSampler\n",
        "\n",
        "\n",
        "class DatasetLoader:\n",
        "\n",
        "    def __init__(self, df: pd.DataFrame, num_clients:int, sample_rate:float, weights:List[float]=None) -> None:\n",
        "\n",
        "        self._num_clients  = num_clients\n",
        "        (self._X_train, self._y_train, self._X_test, self._y_test) = self._load_train_test_data(df)\n",
        "        #self._generator    = prng.create_random_device_generator(\"/dev/urandom\")\n",
        "        self._sample_rate  = sample_rate\n",
        "        self._clients_data = self._assign_data_to_clients(self._X_train, self._y_train, weights)\n",
        "\n",
        "\n",
        "    @property\n",
        "    def clients_data(self) -> dict:\n",
        "        return self._clients_data\n",
        "\n",
        "    def get_train_data(self) -> DataLoader:\n",
        "        train_dataset = [(torch.tensor(self._X_train[i], dtype=torch.float32), torch.tensor(self._y_train[i], dtype=torch.float32)) for i in range(len(self._X_train))]\n",
        "        return DataLoader(train_dataset, batch_size=64, num_workers=1, pin_memory=False)\n",
        "\n",
        "\n",
        "    def get_test_data(self) -> DataLoader:\n",
        "        test_dataset = [(torch.tensor(self._X_test[i], dtype=torch.float32), torch.tensor(self._y_test[i], dtype=torch.float32)) for i in range(len(self._X_test))]\n",
        "        return DataLoader(test_dataset, batch_size=64, num_workers=1, pin_memory=False)\n",
        "\n",
        "    def _load_train_test_data(self, df:pd.DataFrame) -> Tuple[np.ndarray, np.array, np.ndarray, np.array]:\n",
        "\n",
        "        '''\n",
        "        count_class_0, count_class_1 = df.Label.value_counts()\n",
        "\n",
        "        df_class_0 = df[df['Label'] == 0]\n",
        "        df_class_1 = df[df['Label'] == 1]\n",
        "\n",
        "        df_class_1_over = df_class_1.sample(count_class_0, replace=True)\n",
        "        df = pd.concat([df_class_0, df_class_1_over], axis=0)\n",
        "        '''\n",
        "\n",
        "        attack_indices     = df.loc[df.Label == 1].index\n",
        "        normal_indices = df.loc[df.Label == 0].index\n",
        "\n",
        "\n",
        "        attack_instances=np.random.random(len(attack_indices))<0.80\n",
        "        normal_instances=np.random.random(len(normal_indices))<0.80\n",
        "\n",
        "\n",
        "\n",
        "        test_attack = df.iloc[attack_indices[~attack_instances]]\n",
        "        test_normal = df.iloc[normal_indices[~normal_instances]]\n",
        "        test_df = pd.concat([test_attack, test_normal])\n",
        "\n",
        "\n",
        "        train_attack = df.iloc[attack_indices[attack_instances]]\n",
        "        train_normal = df.iloc[normal_indices[normal_instances]]\n",
        "        train_df = pd.concat([train_attack, train_normal])\n",
        "\n",
        "        train_df = train_df.sample(frac=1).reset_index(drop=True)\n",
        "        test_df  = test_df.sample(frac=1).reset_index(drop=True)\n",
        "\n",
        "\n",
        "        attack = train_df.loc[train_df.Label == 1]\n",
        "        normal = train_df.loc[train_df.Label == 0][:len(attack)]\n",
        "        train_df_even = pd.concat([attack, normal])\n",
        "        train_df_even = train_df_even.sample(frac=1).reset_index(drop=True)\n",
        "\n",
        "\n",
        "        X_train = train_df_even.drop('Label', axis=1).values\n",
        "        y_train = train_df_even.Label.values\n",
        "\n",
        "        X_test = test_df.drop('Label', axis=1).values\n",
        "        y_test = test_df.Label.values\n",
        "\n",
        "        scaling = StandardScaler()\n",
        "        X_train = scaling.fit_transform(X_train)\n",
        "        X_test = scaling.transform(X_test)\n",
        "\n",
        "        return X_train, y_train, X_test, y_test\n",
        "\n",
        "    def _assign_data_to_clients(self, X_train:np.ndarray, y_train:np.ndarray, weights:List[float]) -> dict:\n",
        "\n",
        "            num_samples_per_client = X_train.shape[0] // self._num_clients\n",
        "            clients_all_data = {}\n",
        "\n",
        "            for i in range(self._num_clients):\n",
        "                batched_x = self._X_train[i*num_samples_per_client:(i+1)*num_samples_per_client]\n",
        "                batched_y = self._y_train[i*num_samples_per_client:(i+1)*num_samples_per_client]\n",
        "\n",
        "                client_dataset = [(batched_x[i], batched_y[i]) for i in range(len(batched_x))]\n",
        "                data = DataLoader(client_dataset, batch_size=64,\n",
        "                                  num_workers=1, pin_memory=False)\n",
        "\n",
        "                clients_all_data[f'client_{i}'] = data\n",
        "        #else:\n",
        "            # TODO\n",
        "            #clients_all_data = {}\n",
        "            return clients_all_data"
      ],
      "metadata": {
        "id": "HmUiu5YpW_e-"
      },
      "execution_count": 161,
      "outputs": []
    },
    {
      "cell_type": "code",
      "source": [
        "MAX_GRAD_NORM = 1.\n",
        "EPSILON = 20.0\n",
        "#DELTA = 1e-7\n",
        "DELTA = 1e-4\n",
        "EPOCHS = 6\n",
        "#NOISE= 1.3\n",
        "NOISE= 0.5"
      ],
      "metadata": {
        "id": "7YOzABr_WOhC"
      },
      "execution_count": 162,
      "outputs": []
    },
    {
      "cell_type": "code",
      "source": [
        "class Server:\n",
        "    def __init__(self, model):\n",
        "        # Accept a model directly (CNN in this case)\n",
        "        self._model = model\n",
        "        self._client_parameters = []\n",
        "        self._client_samples_processed = []\n",
        "\n",
        "    @property\n",
        "    def parameters(self):\n",
        "        return self._model.parameters()\n",
        "\n",
        "    @property\n",
        "    def model(self):\n",
        "        return self._model\n",
        "\n",
        "    def add_client_parameters(self, parameters, num_samples):\n",
        "        self._client_parameters.append(parameters)\n",
        "        self._client_samples_processed.append(num_samples)\n",
        "\n",
        "    def _weight_scaling_factor(self, i:int) -> float:\n",
        "        global_count = sum(self._client_samples_processed)\n",
        "        local_count  = self._client_samples_processed[i]\n",
        "        return local_count / global_count\n",
        "\n",
        "    def _scale_model_parameters(self, i:int) -> None:\n",
        "        scalar     = self._weight_scaling_factor(i)\n",
        "        parameters = list(self._client_parameters[i])\n",
        "        new_parameters = [parameters[i]*scalar for i in range(len(parameters))]\n",
        "        with torch.no_grad():\n",
        "            for idx, (param, new_param) in enumerate(zip(self._client_parameters[i], new_parameters)):\n",
        "                self._client_parameters[i][idx] = new_param\n",
        "\n",
        "    def aggregate_parameters(self) -> None:\n",
        "        for i in range(len(self._client_parameters)):\n",
        "            self._scale_model_parameters(i)\n",
        "\n",
        "        aggregated_parameters = [torch.zeros(list(self._client_parameters[0])[j].shape, device=device)\n",
        "                                for j in range(len(list(self._client_parameters[0])))]\n",
        "\n",
        "        for j in range(len(list(self._client_parameters[0]))):\n",
        "            for i in range(len(self._client_parameters)):\n",
        "                aggregated_parameters[j] += self._client_parameters[i][j]\n",
        "\n",
        "        with torch.no_grad():\n",
        "            for model_param, new_param in zip(self._model.parameters(), aggregated_parameters):\n",
        "                model_param.data = new_param.view_as(model_param.data)\n",
        "\n",
        "        self._client_parameters        = []\n",
        "        self._client_samples_processed = []\n",
        "\n",
        "\n",
        "class Client:\n",
        "    def __init__(self, train_loader, noise_multiplier, max_grad_norm, DELTA,\n",
        "                 input_features=36, num_classes=2):\n",
        "        self._model      = CNN(input_features=input_features, num_classes=num_classes).to(device)\n",
        "        self._lr         = args.lr\n",
        "        self._loss       = torch.nn.CrossEntropyLoss()\n",
        "\n",
        "        self.train_loader= train_loader\n",
        "        self.privacy_engine = PrivacyEngine(secure_mode=False)\n",
        "        self._optimizer  = torch.optim.SGD(self._model.parameters(), self._lr)\n",
        "\n",
        "        # Make model DP\n",
        "        self._model, self._optimizer, self.train_loader = self.privacy_engine.make_private(\n",
        "            module=self._model,\n",
        "            optimizer= self._optimizer,\n",
        "            data_loader=self.train_loader,\n",
        "            noise_multiplier=noise_multiplier,\n",
        "            max_grad_norm=max_grad_norm,\n",
        "        )\n",
        "\n",
        "    @property\n",
        "    def model(self):\n",
        "        return self._model\n",
        "\n",
        "    @property\n",
        "    def parameters(self):\n",
        "        return self._model.parameters()\n",
        "\n",
        "    def train_one_epoch(self, train_loader: DataLoader, device:torch.device, epoch:int, client:str) -> None:\n",
        "        losses = []\n",
        "        self._model.train()\n",
        "        for x, y in tqdm(train_loader):\n",
        "            x, y = x.to(device).to(torch.float32), y.to(device)\n",
        "            yhat = self._model(x)\n",
        "            self._optimizer.zero_grad()\n",
        "            loss = self._loss(yhat, y.to(torch.long))\n",
        "            loss.backward()\n",
        "            losses.append(loss.item())\n",
        "            self._optimizer.step()\n",
        "        epsilon = self.privacy_engine.get_epsilon(DELTA)\n",
        "        print(\n",
        "            f\"Client: {client} \"\n",
        "            f\"Train Epoch: {epoch} \\t\"\n",
        "            f\"Loss: {np.mean(losses):.6f} \"\n",
        "            f\" | (ε = {epsilon:.2f})\"\n",
        "        )\n",
        "\n",
        "    def update_parameters(self, new_parameters: List[torch.Tensor]):\n",
        "        with torch.no_grad():\n",
        "            for model_param, new_param in zip(self._model.parameters(), new_parameters):\n",
        "                model_param.data = new_param.view_as(model_param.data)\n"
      ],
      "metadata": {
        "id": "P5thgvIkWT9n"
      },
      "execution_count": 163,
      "outputs": []
    },
    {
      "cell_type": "code",
      "source": [
        "def evaluate(model, device, test_loader):\n",
        "    model.eval()\n",
        "    loss = torch.nn.CrossEntropyLoss()\n",
        "    test_loss = 0\n",
        "    correct   = 0\n",
        "\n",
        "    predarray  = torch.zeros(len(test_loader.dataset))\n",
        "    probsarray = torch.zeros((len(test_loader.dataset),2))\n",
        "    actual     = torch.zeros(len(test_loader.dataset))\n",
        "    with torch.no_grad():\n",
        "        for batch_idx, (x, y) in enumerate(tqdm(test_loader)):\n",
        "            #x, y = x.to(device), y.to(device)\n",
        "            x, y = x.to(device).to(torch.float32), y.to(device)\n",
        "            #x, y = x.to(device).to(torch.long), y.to(device).to(torch.long)\n",
        "            yhat = model(x)\n",
        "\n",
        "            test_loss    += loss(yhat, y.to(torch.long)).item()\n",
        "            probabilities = torch.nn.functional.softmax(yhat,1)\n",
        "            predictions   = torch.argmax(probabilities, 1)\n",
        "            correct      += predictions.eq(y.view_as(predictions)).sum().item()\n",
        "\n",
        "            B = 64\n",
        "            predarray[batch_idx*B:min(len(test_loader.dataset), (batch_idx+1)*B)]  = predictions\n",
        "            probsarray[batch_idx*B:min(len(test_loader.dataset), (batch_idx+1)*B)] = probabilities\n",
        "            actual[batch_idx*B:min(len(test_loader.dataset), (batch_idx+1)*B)]     = y\n",
        "\n",
        "    test_loss /= len(test_loader.dataset)\n",
        "\n",
        "    print(\n",
        "        \"\\nTest set: Average loss: {:.4f}, Accuracy: {}/{} ({:.2f}%)\\n\".format(\n",
        "            test_loss,\n",
        "            correct,\n",
        "            len(test_loader.dataset),\n",
        "            100.0 * correct / len(test_loader.dataset),\n",
        "        )\n",
        "    )\n",
        "    return correct / len(test_loader.dataset), predarray, probsarray, actual\n",
        "\n",
        "def plot_confusion_matrix(labels:torch.tensor, predictions:torch.tensor, savefile:str) -> None:\n",
        "    print(\"Confusion matrix on test data:\")\n",
        "    print(confusion_matrix(labels, predictions))\n",
        "    print('Classification Report:')\n",
        "    print(classification_report(labels, predictions))\n"
      ],
      "metadata": {
        "id": "T7pr1Wp4WVRO"
      },
      "execution_count": 164,
      "outputs": []
    },
    {
      "cell_type": "code",
      "source": [
        "import torch\n",
        "\n",
        "from dataclasses import dataclass\n",
        "\n",
        "@dataclass\n",
        "class parameters:\n",
        "    lr: float              = 0.01\n",
        "    device: torch.device   = torch.device(\"cuda\") if torch.cuda.is_available() else torch.device(\"cpu\")\n",
        "    sample_rate: float     = 0.2\n",
        "    #noise_multiplier:float = 1.3\n",
        "    noise_multiplier:float = 0.5\n",
        "    max_grad_norm:float    = 1.1\n",
        "    #DELTA:float     = 1e-7\n",
        "    DELTA:float     = 1e-4\n",
        "args = parameters()"
      ],
      "metadata": {
        "id": "Z_fbD3uoWWje"
      },
      "execution_count": 165,
      "outputs": []
    },
    {
      "cell_type": "code",
      "source": [
        "import os\n",
        "import pandas as pd\n",
        "import numpy as np\n",
        "\n",
        "# Point directly to your dataset\n",
        "csv_file = os.path.join(\"/content/wustl-ehms-2020_with_attacks_categories.csv\")\n",
        "\n",
        "device = args.device\n",
        "sample_rate = args.sample_rate\n",
        "\n",
        "# Load dataset\n",
        "df = pd.read_csv(csv_file)\n",
        "\n",
        "# --- Clean the dataset properly ---\n",
        "# Keep only numeric columns + Label\n",
        "numeric_cols = df.select_dtypes(include=[np.number]).columns.tolist()\n",
        "\n",
        "# Make sure \"Label\" is included (even if it's categorical in some CSVs)\n",
        "if \"Label\" not in numeric_cols and \"Label\" in df.columns:\n",
        "    numeric_cols.append(\"Label\")\n",
        "\n",
        "df = df[numeric_cols].dropna()\n",
        "\n",
        "print(\"Columns kept:\", df.columns.tolist())\n",
        "print(\"Shape after cleaning:\", df.shape)\n",
        "\n",
        "# --- Detect feature size automatically ---\n",
        "input_features = df.shape[1] - 1   # subtract Label column\n",
        "print(f\"Detected input features: {input_features}\")\n",
        "\n",
        "# Initialize your DataLoader\n",
        "dataloader = DatasetLoader(df=df, num_clients=2, sample_rate=sample_rate)\n",
        "\n",
        "# Get train and test loaders\n",
        "train_loader = dataloader.get_train_data()\n",
        "test_loader  = dataloader.get_test_data()\n",
        "\n",
        "# Quick check\n",
        "for X_batch, y_batch in train_loader:\n",
        "    print(\"Train batch X shape:\", X_batch.shape)\n",
        "    print(\"Train batch y shape:\", y_batch.shape)\n",
        "    break\n",
        "\n",
        "# Save input_features for model initialization later"
      ],
      "metadata": {
        "colab": {
          "base_uri": "https://localhost:8080/"
        },
        "id": "OsIqbBCkWX1C",
        "outputId": "990d1a01-ed12-4edb-8343-2d8bc1b7b71c"
      },
      "execution_count": 166,
      "outputs": [
        {
          "output_type": "stream",
          "name": "stdout",
          "text": [
            "Columns kept: ['Dport', 'SrcBytes', 'DstBytes', 'SrcLoad', 'DstLoad', 'SrcGap', 'DstGap', 'SIntPkt', 'DIntPkt', 'SIntPktAct', 'DIntPktAct', 'SrcJitter', 'DstJitter', 'sMaxPktSz', 'dMaxPktSz', 'sMinPktSz', 'dMinPktSz', 'Dur', 'Trans', 'TotPkts', 'TotBytes', 'Load', 'Loss', 'pLoss', 'pSrcLoss', 'pDstLoss', 'Rate', 'Packet_num', 'Temp', 'SpO2', 'Pulse_Rate', 'SYS', 'DIA', 'Heart_rate', 'Resp_Rate', 'ST', 'Label']\n",
            "Shape after cleaning: (16318, 37)\n",
            "Detected input features: 36\n",
            "Train batch X shape: torch.Size([64, 36])\n",
            "Train batch y shape: torch.Size([64])\n"
          ]
        }
      ]
    },
    {
      "cell_type": "code",
      "source": [
        "class CNN(nn.Module):\n",
        "    def __init__(self, input_features, num_classes=2):\n",
        "        super(CNN, self).__init__()\n",
        "\n",
        "        self.input_size = int(np.sqrt(input_features))  # 6\n",
        "        assert self.input_size * self.input_size == input_features, \\\n",
        "            \"Input features must be a perfect square for CNN reshape\"\n",
        "\n",
        "        self.conv1 = nn.Conv2d(1, 16, kernel_size=3, stride=1, padding=1)\n",
        "        self.pool = nn.MaxPool2d(kernel_size=2, stride=2, padding=0)\n",
        "        self.conv2 = nn.Conv2d(16, 32, kernel_size=3, stride=1, padding=1)\n",
        "\n",
        "        # After conv + pooling → [batch, 32, 1, 1]\n",
        "        self.fc1 = nn.Linear(32 * 1 * 1, 64)\n",
        "        self.fc2 = nn.Linear(64, num_classes)\n",
        "\n",
        "    def forward(self, x):\n",
        "        x = x.view(-1, 1, self.input_size, self.input_size)  # [batch, 1, 6, 6]\n",
        "        x = self.pool(F.relu(self.conv1(x)))  # → [batch, 16, 3, 3]\n",
        "        x = self.pool(F.relu(self.conv2(x)))  # → [batch, 32, 1, 1]\n",
        "        x = torch.flatten(x, 1)               # → [batch, 32]\n",
        "        x = F.relu(self.fc1(x))               # → [batch, 64]\n",
        "        x = self.fc2(x)                       # → [batch, 2]\n",
        "        return x"
      ],
      "metadata": {
        "id": "6vyVhksubVYX"
      },
      "execution_count": 167,
      "outputs": []
    },
    {
      "cell_type": "code",
      "source": [
        "# Differential Privacy + CNN (Noise = 0.5)\n",
        "\n",
        "import time\n",
        "from sklearn.metrics import roc_curve, roc_auc_score, confusion_matrix, classification_report, precision_score, recall_score, f1_score\n",
        "import pandas as pd\n",
        "\n",
        "# Timing start\n",
        "start_time = time.time()\n",
        "\n",
        "# Initialize clients\n",
        "clients_data = dataloader.clients_data\n",
        "clients = {\n",
        "    client: Client(train_loader,\n",
        "                   noise_multiplier=0.5,   # DP noise\n",
        "                   max_grad_norm=1,\n",
        "                   DELTA=1e-4)\n",
        "    for client in clients_data\n",
        "}\n",
        "\n",
        "# Initialize server with CNN\n",
        "server = Server(model=CNN(input_features=36, num_classes=2).to(device))\n",
        "\n",
        "# Federated training\n",
        "for epoch in range(100):\n",
        "    for i, (client, client_dataloader) in enumerate(clients_data.items()):\n",
        "        clients[client].update_parameters(server.parameters)\n",
        "        clients[client].train_one_epoch(client_dataloader, device, epoch, client)\n",
        "        server.add_client_parameters(clients[client].parameters, len(client_dataloader.dataset))\n",
        "    server.aggregate_parameters()\n",
        "\n",
        "# Timing end (training)\n",
        "train_time = time.time() - start_time\n",
        "\n",
        "# Evaluate CNN\n",
        "test_start = time.time()\n",
        "accuracy, predictions, probabilities, labels = evaluate(server.model, device, test_loader)\n",
        "test_time = time.time() - test_start\n",
        "\n",
        "# ROC Curve\n",
        "fpr, tpr, thresholds = roc_curve(labels, probabilities[:,1])\n",
        "\n",
        "# Confusion Matrix Plot\n",
        "plot_confusion_matrix(labels, predictions, 'federated_privacy_cnn.png')\n",
        "\n",
        "# Metrics\n",
        "precision = precision_score(labels, predictions)\n",
        "recall = recall_score(labels, predictions)\n",
        "f1 = f1_score(labels, predictions)\n",
        "roc_auc = roc_auc_score(labels, probabilities[:,1])\n",
        "\n",
        "print(\"Final CNN Accuracy:\", accuracy)\n",
        "print(\"ROC AUC:\", roc_auc)\n",
        "print(\"\\nClassification Report:\\n\", classification_report(labels, predictions))\n",
        "\n",
        "# Privacy budget (ε)\n",
        "# Taking ε from last client as representative (all should be similar)\n",
        "epsilon = clients[list(clients.keys())[0]].privacy_engine.get_epsilon(1e-4)\n",
        "\n",
        "# Table Summary\n",
        "results = pd.DataFrame([{\n",
        "    \"Methods\": \"Federated + CNN (DP, noise=0.5)\",\n",
        "    \"Algorithm\": \"CNN\",\n",
        "    \"Accuracy (%)\": round(accuracy * 100, 2),\n",
        "    \"Precision (%)\": round(precision * 100, 2),\n",
        "    \"Recall (%)\": round(recall * 100, 2),\n",
        "    \"F1-Score (%)\": round(f1 * 100, 2),\n",
        "    \"Train Time (s)\": round(train_time, 2),\n",
        "    \"Test Time (s)\": round(test_time, 2),\n",
        "    \"Privacy Budget (ε)\": round(epsilon, 2)\n",
        "}])\n",
        "\n",
        "print(\"\\n=== Results Table ===\")\n",
        "print(results.to_string(index=False))\n"
      ],
      "metadata": {
        "colab": {
          "base_uri": "https://localhost:8080/"
        },
        "id": "7OJWso-yWZVP",
        "outputId": "aba5e79c-4ce4-440d-bdcc-7ce442cd2598"
      },
      "execution_count": 169,
      "outputs": [
        {
          "output_type": "stream",
          "name": "stderr",
          "text": [
            "  0%|          | 0/26 [00:00<?, ?it/s]/tmp/ipython-input-1682663543.py:88: UserWarning: Full backward hook is firing when gradients are computed with respect to module outputs since no inputs require gradients. See https://docs.pytorch.org/docs/main/generated/torch.nn.Module.html#torch.nn.Module.register_full_backward_hook for more details.\n",
            "  loss.backward()\n",
            "100%|██████████| 26/26 [00:00<00:00, 51.85it/s]\n"
          ]
        },
        {
          "output_type": "stream",
          "name": "stdout",
          "text": [
            "Client: client_0 Train Epoch: 0 \tLoss: 0.690524  | (ε = 5.17)\n"
          ]
        },
        {
          "output_type": "stream",
          "name": "stderr",
          "text": [
            "100%|██████████| 26/26 [00:00<00:00, 52.42it/s]\n"
          ]
        },
        {
          "output_type": "stream",
          "name": "stdout",
          "text": [
            "Client: client_1 Train Epoch: 0 \tLoss: 0.690741  | (ε = 5.17)\n"
          ]
        },
        {
          "output_type": "stream",
          "name": "stderr",
          "text": [
            "100%|██████████| 26/26 [00:00<00:00, 53.06it/s]\n"
          ]
        },
        {
          "output_type": "stream",
          "name": "stdout",
          "text": [
            "Client: client_0 Train Epoch: 1 \tLoss: 0.687493  | (ε = 6.19)\n"
          ]
        },
        {
          "output_type": "stream",
          "name": "stderr",
          "text": [
            "100%|██████████| 26/26 [00:00<00:00, 54.83it/s]\n"
          ]
        },
        {
          "output_type": "stream",
          "name": "stdout",
          "text": [
            "Client: client_1 Train Epoch: 1 \tLoss: 0.687781  | (ε = 6.19)\n"
          ]
        },
        {
          "output_type": "stream",
          "name": "stderr",
          "text": [
            "100%|██████████| 26/26 [00:00<00:00, 53.56it/s]\n"
          ]
        },
        {
          "output_type": "stream",
          "name": "stdout",
          "text": [
            "Client: client_0 Train Epoch: 2 \tLoss: 0.683833  | (ε = 6.99)\n"
          ]
        },
        {
          "output_type": "stream",
          "name": "stderr",
          "text": [
            "100%|██████████| 26/26 [00:00<00:00, 54.39it/s]\n"
          ]
        },
        {
          "output_type": "stream",
          "name": "stdout",
          "text": [
            "Client: client_1 Train Epoch: 2 \tLoss: 0.684296  | (ε = 6.99)\n"
          ]
        },
        {
          "output_type": "stream",
          "name": "stderr",
          "text": [
            "100%|██████████| 26/26 [00:00<00:00, 39.10it/s]\n"
          ]
        },
        {
          "output_type": "stream",
          "name": "stdout",
          "text": [
            "Client: client_0 Train Epoch: 3 \tLoss: 0.679763  | (ε = 7.68)\n"
          ]
        },
        {
          "output_type": "stream",
          "name": "stderr",
          "text": [
            "100%|██████████| 26/26 [00:00<00:00, 38.35it/s]\n"
          ]
        },
        {
          "output_type": "stream",
          "name": "stdout",
          "text": [
            "Client: client_1 Train Epoch: 3 \tLoss: 0.680715  | (ε = 7.68)\n"
          ]
        },
        {
          "output_type": "stream",
          "name": "stderr",
          "text": [
            "100%|██████████| 26/26 [00:00<00:00, 53.92it/s]\n"
          ]
        },
        {
          "output_type": "stream",
          "name": "stdout",
          "text": [
            "Client: client_0 Train Epoch: 4 \tLoss: 0.675779  | (ε = 8.29)\n"
          ]
        },
        {
          "output_type": "stream",
          "name": "stderr",
          "text": [
            "100%|██████████| 26/26 [00:00<00:00, 55.50it/s]\n"
          ]
        },
        {
          "output_type": "stream",
          "name": "stdout",
          "text": [
            "Client: client_1 Train Epoch: 4 \tLoss: 0.676981  | (ε = 8.29)\n"
          ]
        },
        {
          "output_type": "stream",
          "name": "stderr",
          "text": [
            "100%|██████████| 26/26 [00:00<00:00, 56.29it/s]\n"
          ]
        },
        {
          "output_type": "stream",
          "name": "stdout",
          "text": [
            "Client: client_0 Train Epoch: 5 \tLoss: 0.671734  | (ε = 8.85)\n"
          ]
        },
        {
          "output_type": "stream",
          "name": "stderr",
          "text": [
            "100%|██████████| 26/26 [00:00<00:00, 57.83it/s]\n"
          ]
        },
        {
          "output_type": "stream",
          "name": "stdout",
          "text": [
            "Client: client_1 Train Epoch: 5 \tLoss: 0.673073  | (ε = 8.85)\n"
          ]
        },
        {
          "output_type": "stream",
          "name": "stderr",
          "text": [
            "100%|██████████| 26/26 [00:00<00:00, 57.95it/s]\n"
          ]
        },
        {
          "output_type": "stream",
          "name": "stdout",
          "text": [
            "Client: client_0 Train Epoch: 6 \tLoss: 0.667043  | (ε = 9.37)\n"
          ]
        },
        {
          "output_type": "stream",
          "name": "stderr",
          "text": [
            "100%|██████████| 26/26 [00:00<00:00, 57.07it/s]\n"
          ]
        },
        {
          "output_type": "stream",
          "name": "stdout",
          "text": [
            "Client: client_1 Train Epoch: 6 \tLoss: 0.668595  | (ε = 9.37)\n"
          ]
        },
        {
          "output_type": "stream",
          "name": "stderr",
          "text": [
            "100%|██████████| 26/26 [00:00<00:00, 55.37it/s]\n"
          ]
        },
        {
          "output_type": "stream",
          "name": "stdout",
          "text": [
            "Client: client_0 Train Epoch: 7 \tLoss: 0.661836  | (ε = 9.87)\n"
          ]
        },
        {
          "output_type": "stream",
          "name": "stderr",
          "text": [
            "100%|██████████| 26/26 [00:00<00:00, 55.67it/s]\n"
          ]
        },
        {
          "output_type": "stream",
          "name": "stdout",
          "text": [
            "Client: client_1 Train Epoch: 7 \tLoss: 0.663610  | (ε = 9.87)\n"
          ]
        },
        {
          "output_type": "stream",
          "name": "stderr",
          "text": [
            "100%|██████████| 26/26 [00:00<00:00, 52.33it/s]\n"
          ]
        },
        {
          "output_type": "stream",
          "name": "stdout",
          "text": [
            "Client: client_0 Train Epoch: 8 \tLoss: 0.655988  | (ε = 10.34)\n"
          ]
        },
        {
          "output_type": "stream",
          "name": "stderr",
          "text": [
            "100%|██████████| 26/26 [00:00<00:00, 55.78it/s]\n"
          ]
        },
        {
          "output_type": "stream",
          "name": "stdout",
          "text": [
            "Client: client_1 Train Epoch: 8 \tLoss: 0.658286  | (ε = 10.34)\n"
          ]
        },
        {
          "output_type": "stream",
          "name": "stderr",
          "text": [
            "100%|██████████| 26/26 [00:00<00:00, 55.75it/s]\n"
          ]
        },
        {
          "output_type": "stream",
          "name": "stdout",
          "text": [
            "Client: client_0 Train Epoch: 9 \tLoss: 0.649795  | (ε = 10.79)\n"
          ]
        },
        {
          "output_type": "stream",
          "name": "stderr",
          "text": [
            "100%|██████████| 26/26 [00:00<00:00, 56.99it/s]\n"
          ]
        },
        {
          "output_type": "stream",
          "name": "stdout",
          "text": [
            "Client: client_1 Train Epoch: 9 \tLoss: 0.652694  | (ε = 10.79)\n"
          ]
        },
        {
          "output_type": "stream",
          "name": "stderr",
          "text": [
            "100%|██████████| 26/26 [00:00<00:00, 43.78it/s]\n"
          ]
        },
        {
          "output_type": "stream",
          "name": "stdout",
          "text": [
            "Client: client_0 Train Epoch: 10 \tLoss: 0.643240  | (ε = 11.22)\n"
          ]
        },
        {
          "output_type": "stream",
          "name": "stderr",
          "text": [
            "100%|██████████| 26/26 [00:00<00:00, 40.13it/s]\n"
          ]
        },
        {
          "output_type": "stream",
          "name": "stdout",
          "text": [
            "Client: client_1 Train Epoch: 10 \tLoss: 0.646820  | (ε = 11.22)\n"
          ]
        },
        {
          "output_type": "stream",
          "name": "stderr",
          "text": [
            "100%|██████████| 26/26 [00:00<00:00, 57.96it/s]\n"
          ]
        },
        {
          "output_type": "stream",
          "name": "stdout",
          "text": [
            "Client: client_0 Train Epoch: 11 \tLoss: 0.636169  | (ε = 11.64)\n"
          ]
        },
        {
          "output_type": "stream",
          "name": "stderr",
          "text": [
            "100%|██████████| 26/26 [00:00<00:00, 60.32it/s]\n"
          ]
        },
        {
          "output_type": "stream",
          "name": "stdout",
          "text": [
            "Client: client_1 Train Epoch: 11 \tLoss: 0.640559  | (ε = 11.64)\n"
          ]
        },
        {
          "output_type": "stream",
          "name": "stderr",
          "text": [
            "100%|██████████| 26/26 [00:00<00:00, 60.18it/s]\n"
          ]
        },
        {
          "output_type": "stream",
          "name": "stdout",
          "text": [
            "Client: client_0 Train Epoch: 12 \tLoss: 0.628634  | (ε = 12.04)\n"
          ]
        },
        {
          "output_type": "stream",
          "name": "stderr",
          "text": [
            "100%|██████████| 26/26 [00:00<00:00, 57.89it/s]\n"
          ]
        },
        {
          "output_type": "stream",
          "name": "stdout",
          "text": [
            "Client: client_1 Train Epoch: 12 \tLoss: 0.634053  | (ε = 12.04)\n"
          ]
        },
        {
          "output_type": "stream",
          "name": "stderr",
          "text": [
            "100%|██████████| 26/26 [00:00<00:00, 59.33it/s]\n"
          ]
        },
        {
          "output_type": "stream",
          "name": "stdout",
          "text": [
            "Client: client_0 Train Epoch: 13 \tLoss: 0.620642  | (ε = 12.44)\n"
          ]
        },
        {
          "output_type": "stream",
          "name": "stderr",
          "text": [
            "100%|██████████| 26/26 [00:00<00:00, 61.62it/s]\n"
          ]
        },
        {
          "output_type": "stream",
          "name": "stdout",
          "text": [
            "Client: client_1 Train Epoch: 13 \tLoss: 0.627429  | (ε = 12.44)\n"
          ]
        },
        {
          "output_type": "stream",
          "name": "stderr",
          "text": [
            "100%|██████████| 26/26 [00:00<00:00, 60.03it/s]\n"
          ]
        },
        {
          "output_type": "stream",
          "name": "stdout",
          "text": [
            "Client: client_0 Train Epoch: 14 \tLoss: 0.612602  | (ε = 12.82)\n"
          ]
        },
        {
          "output_type": "stream",
          "name": "stderr",
          "text": [
            "100%|██████████| 26/26 [00:00<00:00, 59.28it/s]\n"
          ]
        },
        {
          "output_type": "stream",
          "name": "stdout",
          "text": [
            "Client: client_1 Train Epoch: 14 \tLoss: 0.620705  | (ε = 12.82)\n"
          ]
        },
        {
          "output_type": "stream",
          "name": "stderr",
          "text": [
            "100%|██████████| 26/26 [00:00<00:00, 58.58it/s]\n"
          ]
        },
        {
          "output_type": "stream",
          "name": "stdout",
          "text": [
            "Client: client_0 Train Epoch: 15 \tLoss: 0.604511  | (ε = 13.19)\n"
          ]
        },
        {
          "output_type": "stream",
          "name": "stderr",
          "text": [
            "100%|██████████| 26/26 [00:00<00:00, 61.57it/s]\n"
          ]
        },
        {
          "output_type": "stream",
          "name": "stdout",
          "text": [
            "Client: client_1 Train Epoch: 15 \tLoss: 0.614178  | (ε = 13.19)\n"
          ]
        },
        {
          "output_type": "stream",
          "name": "stderr",
          "text": [
            "100%|██████████| 26/26 [00:00<00:00, 58.49it/s]\n"
          ]
        },
        {
          "output_type": "stream",
          "name": "stdout",
          "text": [
            "Client: client_0 Train Epoch: 16 \tLoss: 0.596559  | (ε = 13.56)\n"
          ]
        },
        {
          "output_type": "stream",
          "name": "stderr",
          "text": [
            "100%|██████████| 26/26 [00:00<00:00, 46.84it/s]\n"
          ]
        },
        {
          "output_type": "stream",
          "name": "stdout",
          "text": [
            "Client: client_1 Train Epoch: 16 \tLoss: 0.608106  | (ε = 13.56)\n"
          ]
        },
        {
          "output_type": "stream",
          "name": "stderr",
          "text": [
            "100%|██████████| 26/26 [00:00<00:00, 41.70it/s]\n"
          ]
        },
        {
          "output_type": "stream",
          "name": "stdout",
          "text": [
            "Client: client_0 Train Epoch: 17 \tLoss: 0.589332  | (ε = 13.92)\n"
          ]
        },
        {
          "output_type": "stream",
          "name": "stderr",
          "text": [
            "100%|██████████| 26/26 [00:00<00:00, 62.42it/s]\n"
          ]
        },
        {
          "output_type": "stream",
          "name": "stdout",
          "text": [
            "Client: client_1 Train Epoch: 17 \tLoss: 0.602578  | (ε = 13.92)\n"
          ]
        },
        {
          "output_type": "stream",
          "name": "stderr",
          "text": [
            "100%|██████████| 26/26 [00:00<00:00, 63.02it/s]\n"
          ]
        },
        {
          "output_type": "stream",
          "name": "stdout",
          "text": [
            "Client: client_0 Train Epoch: 18 \tLoss: 0.582418  | (ε = 14.27)\n"
          ]
        },
        {
          "output_type": "stream",
          "name": "stderr",
          "text": [
            "100%|██████████| 26/26 [00:00<00:00, 59.97it/s]\n"
          ]
        },
        {
          "output_type": "stream",
          "name": "stdout",
          "text": [
            "Client: client_1 Train Epoch: 18 \tLoss: 0.597852  | (ε = 14.27)\n"
          ]
        },
        {
          "output_type": "stream",
          "name": "stderr",
          "text": [
            "100%|██████████| 26/26 [00:00<00:00, 61.16it/s]\n"
          ]
        },
        {
          "output_type": "stream",
          "name": "stdout",
          "text": [
            "Client: client_0 Train Epoch: 19 \tLoss: 0.576427  | (ε = 14.62)\n"
          ]
        },
        {
          "output_type": "stream",
          "name": "stderr",
          "text": [
            "100%|██████████| 26/26 [00:00<00:00, 61.53it/s]\n"
          ]
        },
        {
          "output_type": "stream",
          "name": "stdout",
          "text": [
            "Client: client_1 Train Epoch: 19 \tLoss: 0.594317  | (ε = 14.62)\n"
          ]
        },
        {
          "output_type": "stream",
          "name": "stderr",
          "text": [
            "100%|██████████| 26/26 [00:00<00:00, 61.67it/s]\n"
          ]
        },
        {
          "output_type": "stream",
          "name": "stdout",
          "text": [
            "Client: client_0 Train Epoch: 20 \tLoss: 0.571734  | (ε = 14.95)\n"
          ]
        },
        {
          "output_type": "stream",
          "name": "stderr",
          "text": [
            "100%|██████████| 26/26 [00:00<00:00, 58.08it/s]\n"
          ]
        },
        {
          "output_type": "stream",
          "name": "stdout",
          "text": [
            "Client: client_1 Train Epoch: 20 \tLoss: 0.592359  | (ε = 14.95)\n"
          ]
        },
        {
          "output_type": "stream",
          "name": "stderr",
          "text": [
            "100%|██████████| 26/26 [00:00<00:00, 58.84it/s]\n"
          ]
        },
        {
          "output_type": "stream",
          "name": "stdout",
          "text": [
            "Client: client_0 Train Epoch: 21 \tLoss: 0.568879  | (ε = 15.29)\n"
          ]
        },
        {
          "output_type": "stream",
          "name": "stderr",
          "text": [
            "100%|██████████| 26/26 [00:00<00:00, 58.45it/s]\n"
          ]
        },
        {
          "output_type": "stream",
          "name": "stdout",
          "text": [
            "Client: client_1 Train Epoch: 21 \tLoss: 0.592815  | (ε = 15.29)\n"
          ]
        },
        {
          "output_type": "stream",
          "name": "stderr",
          "text": [
            "100%|██████████| 26/26 [00:00<00:00, 59.92it/s]\n"
          ]
        },
        {
          "output_type": "stream",
          "name": "stdout",
          "text": [
            "Client: client_0 Train Epoch: 22 \tLoss: 0.568584  | (ε = 15.62)\n"
          ]
        },
        {
          "output_type": "stream",
          "name": "stderr",
          "text": [
            "100%|██████████| 26/26 [00:00<00:00, 45.08it/s]\n"
          ]
        },
        {
          "output_type": "stream",
          "name": "stdout",
          "text": [
            "Client: client_1 Train Epoch: 22 \tLoss: 0.595519  | (ε = 15.62)\n"
          ]
        },
        {
          "output_type": "stream",
          "name": "stderr",
          "text": [
            "100%|██████████| 26/26 [00:00<00:00, 44.79it/s]\n"
          ]
        },
        {
          "output_type": "stream",
          "name": "stdout",
          "text": [
            "Client: client_0 Train Epoch: 23 \tLoss: 0.570865  | (ε = 15.94)\n"
          ]
        },
        {
          "output_type": "stream",
          "name": "stderr",
          "text": [
            "100%|██████████| 26/26 [00:00<00:00, 63.04it/s]\n"
          ]
        },
        {
          "output_type": "stream",
          "name": "stdout",
          "text": [
            "Client: client_1 Train Epoch: 23 \tLoss: 0.601004  | (ε = 15.94)\n"
          ]
        },
        {
          "output_type": "stream",
          "name": "stderr",
          "text": [
            "100%|██████████| 26/26 [00:00<00:00, 62.71it/s]\n"
          ]
        },
        {
          "output_type": "stream",
          "name": "stdout",
          "text": [
            "Client: client_0 Train Epoch: 24 \tLoss: 0.575668  | (ε = 16.26)\n"
          ]
        },
        {
          "output_type": "stream",
          "name": "stderr",
          "text": [
            "100%|██████████| 26/26 [00:00<00:00, 60.56it/s]\n"
          ]
        },
        {
          "output_type": "stream",
          "name": "stdout",
          "text": [
            "Client: client_1 Train Epoch: 24 \tLoss: 0.609069  | (ε = 16.26)\n"
          ]
        },
        {
          "output_type": "stream",
          "name": "stderr",
          "text": [
            "100%|██████████| 26/26 [00:00<00:00, 63.62it/s]\n"
          ]
        },
        {
          "output_type": "stream",
          "name": "stdout",
          "text": [
            "Client: client_0 Train Epoch: 25 \tLoss: 0.583691  | (ε = 16.57)\n"
          ]
        },
        {
          "output_type": "stream",
          "name": "stderr",
          "text": [
            "100%|██████████| 26/26 [00:00<00:00, 62.10it/s]\n"
          ]
        },
        {
          "output_type": "stream",
          "name": "stdout",
          "text": [
            "Client: client_1 Train Epoch: 25 \tLoss: 0.619879  | (ε = 16.57)\n"
          ]
        },
        {
          "output_type": "stream",
          "name": "stderr",
          "text": [
            "100%|██████████| 26/26 [00:00<00:00, 60.39it/s]\n"
          ]
        },
        {
          "output_type": "stream",
          "name": "stdout",
          "text": [
            "Client: client_0 Train Epoch: 26 \tLoss: 0.594204  | (ε = 16.88)\n"
          ]
        },
        {
          "output_type": "stream",
          "name": "stderr",
          "text": [
            "100%|██████████| 26/26 [00:00<00:00, 57.86it/s]\n"
          ]
        },
        {
          "output_type": "stream",
          "name": "stdout",
          "text": [
            "Client: client_1 Train Epoch: 26 \tLoss: 0.632896  | (ε = 16.88)\n"
          ]
        },
        {
          "output_type": "stream",
          "name": "stderr",
          "text": [
            "100%|██████████| 26/26 [00:00<00:00, 60.17it/s]\n"
          ]
        },
        {
          "output_type": "stream",
          "name": "stdout",
          "text": [
            "Client: client_0 Train Epoch: 27 \tLoss: 0.606589  | (ε = 17.19)\n"
          ]
        },
        {
          "output_type": "stream",
          "name": "stderr",
          "text": [
            "100%|██████████| 26/26 [00:00<00:00, 58.99it/s]\n"
          ]
        },
        {
          "output_type": "stream",
          "name": "stdout",
          "text": [
            "Client: client_1 Train Epoch: 27 \tLoss: 0.647061  | (ε = 17.19)\n"
          ]
        },
        {
          "output_type": "stream",
          "name": "stderr",
          "text": [
            "100%|██████████| 26/26 [00:00<00:00, 60.19it/s]\n"
          ]
        },
        {
          "output_type": "stream",
          "name": "stdout",
          "text": [
            "Client: client_0 Train Epoch: 28 \tLoss: 0.620227  | (ε = 17.50)\n"
          ]
        },
        {
          "output_type": "stream",
          "name": "stderr",
          "text": [
            "100%|██████████| 26/26 [00:00<00:00, 45.17it/s]\n"
          ]
        },
        {
          "output_type": "stream",
          "name": "stdout",
          "text": [
            "Client: client_1 Train Epoch: 28 \tLoss: 0.662175  | (ε = 17.50)\n"
          ]
        },
        {
          "output_type": "stream",
          "name": "stderr",
          "text": [
            "100%|██████████| 26/26 [00:00<00:00, 59.45it/s]\n"
          ]
        },
        {
          "output_type": "stream",
          "name": "stdout",
          "text": [
            "Client: client_0 Train Epoch: 29 \tLoss: 0.634373  | (ε = 17.80)\n"
          ]
        },
        {
          "output_type": "stream",
          "name": "stderr",
          "text": [
            "100%|██████████| 26/26 [00:00<00:00, 59.41it/s]\n"
          ]
        },
        {
          "output_type": "stream",
          "name": "stdout",
          "text": [
            "Client: client_1 Train Epoch: 29 \tLoss: 0.677741  | (ε = 17.80)\n"
          ]
        },
        {
          "output_type": "stream",
          "name": "stderr",
          "text": [
            "100%|██████████| 26/26 [00:00<00:00, 60.45it/s]\n"
          ]
        },
        {
          "output_type": "stream",
          "name": "stdout",
          "text": [
            "Client: client_0 Train Epoch: 30 \tLoss: 0.649472  | (ε = 18.09)\n"
          ]
        },
        {
          "output_type": "stream",
          "name": "stderr",
          "text": [
            "100%|██████████| 26/26 [00:00<00:00, 56.25it/s]\n"
          ]
        },
        {
          "output_type": "stream",
          "name": "stdout",
          "text": [
            "Client: client_1 Train Epoch: 30 \tLoss: 0.693921  | (ε = 18.09)\n"
          ]
        },
        {
          "output_type": "stream",
          "name": "stderr",
          "text": [
            "100%|██████████| 26/26 [00:00<00:00, 56.99it/s]\n"
          ]
        },
        {
          "output_type": "stream",
          "name": "stdout",
          "text": [
            "Client: client_0 Train Epoch: 31 \tLoss: 0.665003  | (ε = 18.39)\n"
          ]
        },
        {
          "output_type": "stream",
          "name": "stderr",
          "text": [
            "100%|██████████| 26/26 [00:00<00:00, 57.00it/s]\n"
          ]
        },
        {
          "output_type": "stream",
          "name": "stdout",
          "text": [
            "Client: client_1 Train Epoch: 31 \tLoss: 0.709457  | (ε = 18.39)\n"
          ]
        },
        {
          "output_type": "stream",
          "name": "stderr",
          "text": [
            "100%|██████████| 26/26 [00:00<00:00, 56.97it/s]\n"
          ]
        },
        {
          "output_type": "stream",
          "name": "stdout",
          "text": [
            "Client: client_0 Train Epoch: 32 \tLoss: 0.680465  | (ε = 18.68)\n"
          ]
        },
        {
          "output_type": "stream",
          "name": "stderr",
          "text": [
            "100%|██████████| 26/26 [00:00<00:00, 56.00it/s]\n"
          ]
        },
        {
          "output_type": "stream",
          "name": "stdout",
          "text": [
            "Client: client_1 Train Epoch: 32 \tLoss: 0.725810  | (ε = 18.68)\n"
          ]
        },
        {
          "output_type": "stream",
          "name": "stderr",
          "text": [
            "100%|██████████| 26/26 [00:00<00:00, 56.73it/s]\n"
          ]
        },
        {
          "output_type": "stream",
          "name": "stdout",
          "text": [
            "Client: client_0 Train Epoch: 33 \tLoss: 0.695922  | (ε = 18.97)\n"
          ]
        },
        {
          "output_type": "stream",
          "name": "stderr",
          "text": [
            "100%|██████████| 26/26 [00:00<00:00, 44.76it/s]\n"
          ]
        },
        {
          "output_type": "stream",
          "name": "stdout",
          "text": [
            "Client: client_1 Train Epoch: 33 \tLoss: 0.741260  | (ε = 18.97)\n"
          ]
        },
        {
          "output_type": "stream",
          "name": "stderr",
          "text": [
            "100%|██████████| 26/26 [00:00<00:00, 39.81it/s]\n"
          ]
        },
        {
          "output_type": "stream",
          "name": "stdout",
          "text": [
            "Client: client_0 Train Epoch: 34 \tLoss: 0.710520  | (ε = 19.25)\n"
          ]
        },
        {
          "output_type": "stream",
          "name": "stderr",
          "text": [
            "100%|██████████| 26/26 [00:00<00:00, 55.75it/s]\n"
          ]
        },
        {
          "output_type": "stream",
          "name": "stdout",
          "text": [
            "Client: client_1 Train Epoch: 34 \tLoss: 0.755113  | (ε = 19.25)\n"
          ]
        },
        {
          "output_type": "stream",
          "name": "stderr",
          "text": [
            "100%|██████████| 26/26 [00:00<00:00, 56.49it/s]\n"
          ]
        },
        {
          "output_type": "stream",
          "name": "stdout",
          "text": [
            "Client: client_0 Train Epoch: 35 \tLoss: 0.724957  | (ε = 19.54)\n"
          ]
        },
        {
          "output_type": "stream",
          "name": "stderr",
          "text": [
            "100%|██████████| 26/26 [00:00<00:00, 57.51it/s]\n"
          ]
        },
        {
          "output_type": "stream",
          "name": "stdout",
          "text": [
            "Client: client_1 Train Epoch: 35 \tLoss: 0.769873  | (ε = 19.54)\n"
          ]
        },
        {
          "output_type": "stream",
          "name": "stderr",
          "text": [
            "100%|██████████| 26/26 [00:00<00:00, 55.87it/s]\n"
          ]
        },
        {
          "output_type": "stream",
          "name": "stdout",
          "text": [
            "Client: client_0 Train Epoch: 36 \tLoss: 0.738766  | (ε = 19.82)\n"
          ]
        },
        {
          "output_type": "stream",
          "name": "stderr",
          "text": [
            "100%|██████████| 26/26 [00:00<00:00, 54.50it/s]\n"
          ]
        },
        {
          "output_type": "stream",
          "name": "stdout",
          "text": [
            "Client: client_1 Train Epoch: 36 \tLoss: 0.782842  | (ε = 19.82)\n"
          ]
        },
        {
          "output_type": "stream",
          "name": "stderr",
          "text": [
            "100%|██████████| 26/26 [00:00<00:00, 57.13it/s]\n"
          ]
        },
        {
          "output_type": "stream",
          "name": "stdout",
          "text": [
            "Client: client_0 Train Epoch: 37 \tLoss: 0.752033  | (ε = 20.09)\n"
          ]
        },
        {
          "output_type": "stream",
          "name": "stderr",
          "text": [
            "100%|██████████| 26/26 [00:00<00:00, 55.23it/s]\n"
          ]
        },
        {
          "output_type": "stream",
          "name": "stdout",
          "text": [
            "Client: client_1 Train Epoch: 37 \tLoss: 0.793666  | (ε = 20.09)\n"
          ]
        },
        {
          "output_type": "stream",
          "name": "stderr",
          "text": [
            "100%|██████████| 26/26 [00:00<00:00, 56.51it/s]\n"
          ]
        },
        {
          "output_type": "stream",
          "name": "stdout",
          "text": [
            "Client: client_0 Train Epoch: 38 \tLoss: 0.762152  | (ε = 20.37)\n"
          ]
        },
        {
          "output_type": "stream",
          "name": "stderr",
          "text": [
            "100%|██████████| 26/26 [00:00<00:00, 60.16it/s]\n"
          ]
        },
        {
          "output_type": "stream",
          "name": "stdout",
          "text": [
            "Client: client_1 Train Epoch: 38 \tLoss: 0.804077  | (ε = 20.37)\n"
          ]
        },
        {
          "output_type": "stream",
          "name": "stderr",
          "text": [
            "100%|██████████| 26/26 [00:00<00:00, 42.67it/s]\n"
          ]
        },
        {
          "output_type": "stream",
          "name": "stdout",
          "text": [
            "Client: client_0 Train Epoch: 39 \tLoss: 0.773028  | (ε = 20.65)\n"
          ]
        },
        {
          "output_type": "stream",
          "name": "stderr",
          "text": [
            "100%|██████████| 26/26 [00:00<00:00, 58.69it/s]\n"
          ]
        },
        {
          "output_type": "stream",
          "name": "stdout",
          "text": [
            "Client: client_1 Train Epoch: 39 \tLoss: 0.814293  | (ε = 20.65)\n"
          ]
        },
        {
          "output_type": "stream",
          "name": "stderr",
          "text": [
            "100%|██████████| 26/26 [00:00<00:00, 57.80it/s]\n"
          ]
        },
        {
          "output_type": "stream",
          "name": "stdout",
          "text": [
            "Client: client_0 Train Epoch: 40 \tLoss: 0.781973  | (ε = 20.92)\n"
          ]
        },
        {
          "output_type": "stream",
          "name": "stderr",
          "text": [
            "100%|██████████| 26/26 [00:00<00:00, 54.04it/s]\n"
          ]
        },
        {
          "output_type": "stream",
          "name": "stdout",
          "text": [
            "Client: client_1 Train Epoch: 40 \tLoss: 0.823113  | (ε = 20.92)\n"
          ]
        },
        {
          "output_type": "stream",
          "name": "stderr",
          "text": [
            "100%|██████████| 26/26 [00:00<00:00, 55.34it/s]\n"
          ]
        },
        {
          "output_type": "stream",
          "name": "stdout",
          "text": [
            "Client: client_0 Train Epoch: 41 \tLoss: 0.791796  | (ε = 21.19)\n"
          ]
        },
        {
          "output_type": "stream",
          "name": "stderr",
          "text": [
            "100%|██████████| 26/26 [00:00<00:00, 56.66it/s]\n"
          ]
        },
        {
          "output_type": "stream",
          "name": "stdout",
          "text": [
            "Client: client_1 Train Epoch: 41 \tLoss: 0.832487  | (ε = 21.19)\n"
          ]
        },
        {
          "output_type": "stream",
          "name": "stderr",
          "text": [
            "100%|██████████| 26/26 [00:00<00:00, 57.34it/s]\n"
          ]
        },
        {
          "output_type": "stream",
          "name": "stdout",
          "text": [
            "Client: client_0 Train Epoch: 42 \tLoss: 0.799815  | (ε = 21.46)\n"
          ]
        },
        {
          "output_type": "stream",
          "name": "stderr",
          "text": [
            "100%|██████████| 26/26 [00:00<00:00, 56.38it/s]\n"
          ]
        },
        {
          "output_type": "stream",
          "name": "stdout",
          "text": [
            "Client: client_1 Train Epoch: 42 \tLoss: 0.839060  | (ε = 21.46)\n"
          ]
        },
        {
          "output_type": "stream",
          "name": "stderr",
          "text": [
            "100%|██████████| 26/26 [00:00<00:00, 55.77it/s]\n"
          ]
        },
        {
          "output_type": "stream",
          "name": "stdout",
          "text": [
            "Client: client_0 Train Epoch: 43 \tLoss: 0.805981  | (ε = 21.72)\n"
          ]
        },
        {
          "output_type": "stream",
          "name": "stderr",
          "text": [
            "100%|██████████| 26/26 [00:00<00:00, 39.10it/s]\n"
          ]
        },
        {
          "output_type": "stream",
          "name": "stdout",
          "text": [
            "Client: client_1 Train Epoch: 43 \tLoss: 0.844693  | (ε = 21.72)\n"
          ]
        },
        {
          "output_type": "stream",
          "name": "stderr",
          "text": [
            "100%|██████████| 26/26 [00:00<00:00, 40.67it/s]\n"
          ]
        },
        {
          "output_type": "stream",
          "name": "stdout",
          "text": [
            "Client: client_0 Train Epoch: 44 \tLoss: 0.811379  | (ε = 21.99)\n"
          ]
        },
        {
          "output_type": "stream",
          "name": "stderr",
          "text": [
            "100%|██████████| 26/26 [00:00<00:00, 54.22it/s]\n"
          ]
        },
        {
          "output_type": "stream",
          "name": "stdout",
          "text": [
            "Client: client_1 Train Epoch: 44 \tLoss: 0.851433  | (ε = 21.99)\n"
          ]
        },
        {
          "output_type": "stream",
          "name": "stderr",
          "text": [
            "100%|██████████| 26/26 [00:00<00:00, 56.12it/s]\n"
          ]
        },
        {
          "output_type": "stream",
          "name": "stdout",
          "text": [
            "Client: client_0 Train Epoch: 45 \tLoss: 0.818916  | (ε = 22.25)\n"
          ]
        },
        {
          "output_type": "stream",
          "name": "stderr",
          "text": [
            "100%|██████████| 26/26 [00:00<00:00, 55.85it/s]\n"
          ]
        },
        {
          "output_type": "stream",
          "name": "stdout",
          "text": [
            "Client: client_1 Train Epoch: 45 \tLoss: 0.857280  | (ε = 22.25)\n"
          ]
        },
        {
          "output_type": "stream",
          "name": "stderr",
          "text": [
            "100%|██████████| 26/26 [00:00<00:00, 54.19it/s]\n"
          ]
        },
        {
          "output_type": "stream",
          "name": "stdout",
          "text": [
            "Client: client_0 Train Epoch: 46 \tLoss: 0.823784  | (ε = 22.51)\n"
          ]
        },
        {
          "output_type": "stream",
          "name": "stderr",
          "text": [
            "100%|██████████| 26/26 [00:00<00:00, 58.04it/s]\n"
          ]
        },
        {
          "output_type": "stream",
          "name": "stdout",
          "text": [
            "Client: client_1 Train Epoch: 46 \tLoss: 0.861610  | (ε = 22.51)\n"
          ]
        },
        {
          "output_type": "stream",
          "name": "stderr",
          "text": [
            "100%|██████████| 26/26 [00:00<00:00, 59.02it/s]\n"
          ]
        },
        {
          "output_type": "stream",
          "name": "stdout",
          "text": [
            "Client: client_0 Train Epoch: 47 \tLoss: 0.828281  | (ε = 22.77)\n"
          ]
        },
        {
          "output_type": "stream",
          "name": "stderr",
          "text": [
            "100%|██████████| 26/26 [00:00<00:00, 59.25it/s]\n"
          ]
        },
        {
          "output_type": "stream",
          "name": "stdout",
          "text": [
            "Client: client_1 Train Epoch: 47 \tLoss: 0.865073  | (ε = 22.77)\n"
          ]
        },
        {
          "output_type": "stream",
          "name": "stderr",
          "text": [
            "100%|██████████| 26/26 [00:00<00:00, 55.69it/s]\n"
          ]
        },
        {
          "output_type": "stream",
          "name": "stdout",
          "text": [
            "Client: client_0 Train Epoch: 48 \tLoss: 0.830776  | (ε = 23.03)\n"
          ]
        },
        {
          "output_type": "stream",
          "name": "stderr",
          "text": [
            "100%|██████████| 26/26 [00:00<00:00, 40.11it/s]\n"
          ]
        },
        {
          "output_type": "stream",
          "name": "stdout",
          "text": [
            "Client: client_1 Train Epoch: 48 \tLoss: 0.867805  | (ε = 23.03)\n"
          ]
        },
        {
          "output_type": "stream",
          "name": "stderr",
          "text": [
            "100%|██████████| 26/26 [00:00<00:00, 53.92it/s]\n"
          ]
        },
        {
          "output_type": "stream",
          "name": "stdout",
          "text": [
            "Client: client_0 Train Epoch: 49 \tLoss: 0.833372  | (ε = 23.28)\n"
          ]
        },
        {
          "output_type": "stream",
          "name": "stderr",
          "text": [
            "100%|██████████| 26/26 [00:00<00:00, 55.59it/s]\n"
          ]
        },
        {
          "output_type": "stream",
          "name": "stdout",
          "text": [
            "Client: client_1 Train Epoch: 49 \tLoss: 0.870563  | (ε = 23.28)\n"
          ]
        },
        {
          "output_type": "stream",
          "name": "stderr",
          "text": [
            "100%|██████████| 26/26 [00:00<00:00, 54.71it/s]\n"
          ]
        },
        {
          "output_type": "stream",
          "name": "stdout",
          "text": [
            "Client: client_0 Train Epoch: 50 \tLoss: 0.835734  | (ε = 23.54)\n"
          ]
        },
        {
          "output_type": "stream",
          "name": "stderr",
          "text": [
            "100%|██████████| 26/26 [00:00<00:00, 56.13it/s]\n"
          ]
        },
        {
          "output_type": "stream",
          "name": "stdout",
          "text": [
            "Client: client_1 Train Epoch: 50 \tLoss: 0.872702  | (ε = 23.54)\n"
          ]
        },
        {
          "output_type": "stream",
          "name": "stderr",
          "text": [
            "100%|██████████| 26/26 [00:00<00:00, 55.52it/s]\n"
          ]
        },
        {
          "output_type": "stream",
          "name": "stdout",
          "text": [
            "Client: client_0 Train Epoch: 51 \tLoss: 0.839342  | (ε = 23.79)\n"
          ]
        },
        {
          "output_type": "stream",
          "name": "stderr",
          "text": [
            "100%|██████████| 26/26 [00:00<00:00, 56.54it/s]\n"
          ]
        },
        {
          "output_type": "stream",
          "name": "stdout",
          "text": [
            "Client: client_1 Train Epoch: 51 \tLoss: 0.875612  | (ε = 23.79)\n"
          ]
        },
        {
          "output_type": "stream",
          "name": "stderr",
          "text": [
            "100%|██████████| 26/26 [00:00<00:00, 59.67it/s]\n"
          ]
        },
        {
          "output_type": "stream",
          "name": "stdout",
          "text": [
            "Client: client_0 Train Epoch: 52 \tLoss: 0.841403  | (ε = 24.04)\n"
          ]
        },
        {
          "output_type": "stream",
          "name": "stderr",
          "text": [
            "100%|██████████| 26/26 [00:00<00:00, 58.51it/s]\n"
          ]
        },
        {
          "output_type": "stream",
          "name": "stdout",
          "text": [
            "Client: client_1 Train Epoch: 52 \tLoss: 0.877769  | (ε = 24.04)\n"
          ]
        },
        {
          "output_type": "stream",
          "name": "stderr",
          "text": [
            "100%|██████████| 26/26 [00:00<00:00, 42.11it/s]\n"
          ]
        },
        {
          "output_type": "stream",
          "name": "stdout",
          "text": [
            "Client: client_0 Train Epoch: 53 \tLoss: 0.844069  | (ε = 24.29)\n"
          ]
        },
        {
          "output_type": "stream",
          "name": "stderr",
          "text": [
            "100%|██████████| 26/26 [00:00<00:00, 54.17it/s]\n"
          ]
        },
        {
          "output_type": "stream",
          "name": "stdout",
          "text": [
            "Client: client_1 Train Epoch: 53 \tLoss: 0.881060  | (ε = 24.29)\n"
          ]
        },
        {
          "output_type": "stream",
          "name": "stderr",
          "text": [
            "100%|██████████| 26/26 [00:00<00:00, 56.73it/s]\n"
          ]
        },
        {
          "output_type": "stream",
          "name": "stdout",
          "text": [
            "Client: client_0 Train Epoch: 54 \tLoss: 0.846376  | (ε = 24.54)\n"
          ]
        },
        {
          "output_type": "stream",
          "name": "stderr",
          "text": [
            "100%|██████████| 26/26 [00:00<00:00, 56.41it/s]\n"
          ]
        },
        {
          "output_type": "stream",
          "name": "stdout",
          "text": [
            "Client: client_1 Train Epoch: 54 \tLoss: 0.882815  | (ε = 24.54)\n"
          ]
        },
        {
          "output_type": "stream",
          "name": "stderr",
          "text": [
            "100%|██████████| 26/26 [00:00<00:00, 57.93it/s]\n"
          ]
        },
        {
          "output_type": "stream",
          "name": "stdout",
          "text": [
            "Client: client_0 Train Epoch: 55 \tLoss: 0.848097  | (ε = 24.79)\n"
          ]
        },
        {
          "output_type": "stream",
          "name": "stderr",
          "text": [
            "100%|██████████| 26/26 [00:00<00:00, 56.07it/s]\n"
          ]
        },
        {
          "output_type": "stream",
          "name": "stdout",
          "text": [
            "Client: client_1 Train Epoch: 55 \tLoss: 0.885233  | (ε = 24.79)\n"
          ]
        },
        {
          "output_type": "stream",
          "name": "stderr",
          "text": [
            "100%|██████████| 26/26 [00:00<00:00, 57.35it/s]\n"
          ]
        },
        {
          "output_type": "stream",
          "name": "stdout",
          "text": [
            "Client: client_0 Train Epoch: 56 \tLoss: 0.850371  | (ε = 25.04)\n"
          ]
        },
        {
          "output_type": "stream",
          "name": "stderr",
          "text": [
            "100%|██████████| 26/26 [00:00<00:00, 56.09it/s]\n"
          ]
        },
        {
          "output_type": "stream",
          "name": "stdout",
          "text": [
            "Client: client_1 Train Epoch: 56 \tLoss: 0.886108  | (ε = 25.04)\n"
          ]
        },
        {
          "output_type": "stream",
          "name": "stderr",
          "text": [
            "100%|██████████| 26/26 [00:00<00:00, 57.24it/s]\n"
          ]
        },
        {
          "output_type": "stream",
          "name": "stdout",
          "text": [
            "Client: client_0 Train Epoch: 57 \tLoss: 0.851707  | (ε = 25.28)\n"
          ]
        },
        {
          "output_type": "stream",
          "name": "stderr",
          "text": [
            "100%|██████████| 26/26 [00:00<00:00, 39.84it/s]\n"
          ]
        },
        {
          "output_type": "stream",
          "name": "stdout",
          "text": [
            "Client: client_1 Train Epoch: 57 \tLoss: 0.887676  | (ε = 25.28)\n"
          ]
        },
        {
          "output_type": "stream",
          "name": "stderr",
          "text": [
            "100%|██████████| 26/26 [00:00<00:00, 57.67it/s]\n"
          ]
        },
        {
          "output_type": "stream",
          "name": "stdout",
          "text": [
            "Client: client_0 Train Epoch: 58 \tLoss: 0.853169  | (ε = 25.53)\n"
          ]
        },
        {
          "output_type": "stream",
          "name": "stderr",
          "text": [
            "100%|██████████| 26/26 [00:00<00:00, 57.00it/s]\n"
          ]
        },
        {
          "output_type": "stream",
          "name": "stdout",
          "text": [
            "Client: client_1 Train Epoch: 58 \tLoss: 0.888999  | (ε = 25.53)\n"
          ]
        },
        {
          "output_type": "stream",
          "name": "stderr",
          "text": [
            "100%|██████████| 26/26 [00:00<00:00, 57.96it/s]\n"
          ]
        },
        {
          "output_type": "stream",
          "name": "stdout",
          "text": [
            "Client: client_0 Train Epoch: 59 \tLoss: 0.853195  | (ε = 25.77)\n"
          ]
        },
        {
          "output_type": "stream",
          "name": "stderr",
          "text": [
            "100%|██████████| 26/26 [00:00<00:00, 54.95it/s]\n"
          ]
        },
        {
          "output_type": "stream",
          "name": "stdout",
          "text": [
            "Client: client_1 Train Epoch: 59 \tLoss: 0.889546  | (ε = 25.77)\n"
          ]
        },
        {
          "output_type": "stream",
          "name": "stderr",
          "text": [
            "100%|██████████| 26/26 [00:00<00:00, 56.87it/s]\n"
          ]
        },
        {
          "output_type": "stream",
          "name": "stdout",
          "text": [
            "Client: client_0 Train Epoch: 60 \tLoss: 0.854242  | (ε = 26.01)\n"
          ]
        },
        {
          "output_type": "stream",
          "name": "stderr",
          "text": [
            "100%|██████████| 26/26 [00:00<00:00, 55.04it/s]\n"
          ]
        },
        {
          "output_type": "stream",
          "name": "stdout",
          "text": [
            "Client: client_1 Train Epoch: 60 \tLoss: 0.891231  | (ε = 26.01)\n"
          ]
        },
        {
          "output_type": "stream",
          "name": "stderr",
          "text": [
            "100%|██████████| 26/26 [00:00<00:00, 56.94it/s]\n"
          ]
        },
        {
          "output_type": "stream",
          "name": "stdout",
          "text": [
            "Client: client_0 Train Epoch: 61 \tLoss: 0.855828  | (ε = 26.25)\n"
          ]
        },
        {
          "output_type": "stream",
          "name": "stderr",
          "text": [
            "100%|██████████| 26/26 [00:00<00:00, 40.28it/s]\n"
          ]
        },
        {
          "output_type": "stream",
          "name": "stdout",
          "text": [
            "Client: client_1 Train Epoch: 61 \tLoss: 0.892012  | (ε = 26.25)\n"
          ]
        },
        {
          "output_type": "stream",
          "name": "stderr",
          "text": [
            "100%|██████████| 26/26 [00:00<00:00, 45.63it/s]\n"
          ]
        },
        {
          "output_type": "stream",
          "name": "stdout",
          "text": [
            "Client: client_0 Train Epoch: 62 \tLoss: 0.855290  | (ε = 26.49)\n"
          ]
        },
        {
          "output_type": "stream",
          "name": "stderr",
          "text": [
            "100%|██████████| 26/26 [00:00<00:00, 54.38it/s]\n"
          ]
        },
        {
          "output_type": "stream",
          "name": "stdout",
          "text": [
            "Client: client_1 Train Epoch: 62 \tLoss: 0.892158  | (ε = 26.49)\n"
          ]
        },
        {
          "output_type": "stream",
          "name": "stderr",
          "text": [
            "100%|██████████| 26/26 [00:00<00:00, 55.64it/s]\n"
          ]
        },
        {
          "output_type": "stream",
          "name": "stdout",
          "text": [
            "Client: client_0 Train Epoch: 63 \tLoss: 0.857009  | (ε = 26.73)\n"
          ]
        },
        {
          "output_type": "stream",
          "name": "stderr",
          "text": [
            "100%|██████████| 26/26 [00:00<00:00, 57.37it/s]\n"
          ]
        },
        {
          "output_type": "stream",
          "name": "stdout",
          "text": [
            "Client: client_1 Train Epoch: 63 \tLoss: 0.894094  | (ε = 26.73)\n"
          ]
        },
        {
          "output_type": "stream",
          "name": "stderr",
          "text": [
            "100%|██████████| 26/26 [00:00<00:00, 55.88it/s]\n"
          ]
        },
        {
          "output_type": "stream",
          "name": "stdout",
          "text": [
            "Client: client_0 Train Epoch: 64 \tLoss: 0.857689  | (ε = 26.97)\n"
          ]
        },
        {
          "output_type": "stream",
          "name": "stderr",
          "text": [
            "100%|██████████| 26/26 [00:00<00:00, 53.41it/s]\n"
          ]
        },
        {
          "output_type": "stream",
          "name": "stdout",
          "text": [
            "Client: client_1 Train Epoch: 64 \tLoss: 0.893678  | (ε = 26.97)\n"
          ]
        },
        {
          "output_type": "stream",
          "name": "stderr",
          "text": [
            "100%|██████████| 26/26 [00:00<00:00, 52.72it/s]\n"
          ]
        },
        {
          "output_type": "stream",
          "name": "stdout",
          "text": [
            "Client: client_0 Train Epoch: 65 \tLoss: 0.857106  | (ε = 27.20)\n"
          ]
        },
        {
          "output_type": "stream",
          "name": "stderr",
          "text": [
            "100%|██████████| 26/26 [00:00<00:00, 45.34it/s]\n"
          ]
        },
        {
          "output_type": "stream",
          "name": "stdout",
          "text": [
            "Client: client_1 Train Epoch: 65 \tLoss: 0.893503  | (ε = 27.20)\n"
          ]
        },
        {
          "output_type": "stream",
          "name": "stderr",
          "text": [
            "100%|██████████| 26/26 [00:00<00:00, 40.06it/s]\n"
          ]
        },
        {
          "output_type": "stream",
          "name": "stdout",
          "text": [
            "Client: client_0 Train Epoch: 66 \tLoss: 0.856127  | (ε = 27.44)\n"
          ]
        },
        {
          "output_type": "stream",
          "name": "stderr",
          "text": [
            "100%|██████████| 26/26 [00:00<00:00, 59.32it/s]\n"
          ]
        },
        {
          "output_type": "stream",
          "name": "stdout",
          "text": [
            "Client: client_1 Train Epoch: 66 \tLoss: 0.893466  | (ε = 27.44)\n"
          ]
        },
        {
          "output_type": "stream",
          "name": "stderr",
          "text": [
            "100%|██████████| 26/26 [00:00<00:00, 58.16it/s]\n"
          ]
        },
        {
          "output_type": "stream",
          "name": "stdout",
          "text": [
            "Client: client_0 Train Epoch: 67 \tLoss: 0.856814  | (ε = 27.68)\n"
          ]
        },
        {
          "output_type": "stream",
          "name": "stderr",
          "text": [
            "100%|██████████| 26/26 [00:00<00:00, 54.46it/s]\n"
          ]
        },
        {
          "output_type": "stream",
          "name": "stdout",
          "text": [
            "Client: client_1 Train Epoch: 67 \tLoss: 0.894623  | (ε = 27.68)\n"
          ]
        },
        {
          "output_type": "stream",
          "name": "stderr",
          "text": [
            "100%|██████████| 26/26 [00:00<00:00, 48.76it/s]\n"
          ]
        },
        {
          "output_type": "stream",
          "name": "stdout",
          "text": [
            "Client: client_0 Train Epoch: 68 \tLoss: 0.858754  | (ε = 27.91)\n"
          ]
        },
        {
          "output_type": "stream",
          "name": "stderr",
          "text": [
            "100%|██████████| 26/26 [00:00<00:00, 52.13it/s]\n"
          ]
        },
        {
          "output_type": "stream",
          "name": "stdout",
          "text": [
            "Client: client_1 Train Epoch: 68 \tLoss: 0.895727  | (ε = 27.91)\n"
          ]
        },
        {
          "output_type": "stream",
          "name": "stderr",
          "text": [
            "100%|██████████| 26/26 [00:00<00:00, 49.44it/s]\n"
          ]
        },
        {
          "output_type": "stream",
          "name": "stdout",
          "text": [
            "Client: client_0 Train Epoch: 69 \tLoss: 0.858228  | (ε = 28.14)\n"
          ]
        },
        {
          "output_type": "stream",
          "name": "stderr",
          "text": [
            "100%|██████████| 26/26 [00:00<00:00, 42.07it/s]\n"
          ]
        },
        {
          "output_type": "stream",
          "name": "stdout",
          "text": [
            "Client: client_1 Train Epoch: 69 \tLoss: 0.895898  | (ε = 28.14)\n"
          ]
        },
        {
          "output_type": "stream",
          "name": "stderr",
          "text": [
            "100%|██████████| 26/26 [00:00<00:00, 54.37it/s]\n"
          ]
        },
        {
          "output_type": "stream",
          "name": "stdout",
          "text": [
            "Client: client_0 Train Epoch: 70 \tLoss: 0.859444  | (ε = 28.37)\n"
          ]
        },
        {
          "output_type": "stream",
          "name": "stderr",
          "text": [
            "100%|██████████| 26/26 [00:00<00:00, 54.66it/s]\n"
          ]
        },
        {
          "output_type": "stream",
          "name": "stdout",
          "text": [
            "Client: client_1 Train Epoch: 70 \tLoss: 0.896640  | (ε = 28.37)\n"
          ]
        },
        {
          "output_type": "stream",
          "name": "stderr",
          "text": [
            "100%|██████████| 26/26 [00:00<00:00, 53.13it/s]\n"
          ]
        },
        {
          "output_type": "stream",
          "name": "stdout",
          "text": [
            "Client: client_0 Train Epoch: 71 \tLoss: 0.860544  | (ε = 28.61)\n"
          ]
        },
        {
          "output_type": "stream",
          "name": "stderr",
          "text": [
            "100%|██████████| 26/26 [00:00<00:00, 54.84it/s]\n"
          ]
        },
        {
          "output_type": "stream",
          "name": "stdout",
          "text": [
            "Client: client_1 Train Epoch: 71 \tLoss: 0.897648  | (ε = 28.61)\n"
          ]
        },
        {
          "output_type": "stream",
          "name": "stderr",
          "text": [
            "100%|██████████| 26/26 [00:00<00:00, 53.75it/s]\n"
          ]
        },
        {
          "output_type": "stream",
          "name": "stdout",
          "text": [
            "Client: client_0 Train Epoch: 72 \tLoss: 0.859777  | (ε = 28.84)\n"
          ]
        },
        {
          "output_type": "stream",
          "name": "stderr",
          "text": [
            "100%|██████████| 26/26 [00:00<00:00, 53.09it/s]\n"
          ]
        },
        {
          "output_type": "stream",
          "name": "stdout",
          "text": [
            "Client: client_1 Train Epoch: 72 \tLoss: 0.896688  | (ε = 28.84)\n"
          ]
        },
        {
          "output_type": "stream",
          "name": "stderr",
          "text": [
            "100%|██████████| 26/26 [00:00<00:00, 35.91it/s]\n"
          ]
        },
        {
          "output_type": "stream",
          "name": "stdout",
          "text": [
            "Client: client_0 Train Epoch: 73 \tLoss: 0.858656  | (ε = 29.06)\n"
          ]
        },
        {
          "output_type": "stream",
          "name": "stderr",
          "text": [
            "100%|██████████| 26/26 [00:00<00:00, 52.71it/s]\n"
          ]
        },
        {
          "output_type": "stream",
          "name": "stdout",
          "text": [
            "Client: client_1 Train Epoch: 73 \tLoss: 0.895833  | (ε = 29.06)\n"
          ]
        },
        {
          "output_type": "stream",
          "name": "stderr",
          "text": [
            "100%|██████████| 26/26 [00:00<00:00, 51.98it/s]\n"
          ]
        },
        {
          "output_type": "stream",
          "name": "stdout",
          "text": [
            "Client: client_0 Train Epoch: 74 \tLoss: 0.857400  | (ε = 29.29)\n"
          ]
        },
        {
          "output_type": "stream",
          "name": "stderr",
          "text": [
            "100%|██████████| 26/26 [00:00<00:00, 51.58it/s]\n"
          ]
        },
        {
          "output_type": "stream",
          "name": "stdout",
          "text": [
            "Client: client_1 Train Epoch: 74 \tLoss: 0.894991  | (ε = 29.29)\n"
          ]
        },
        {
          "output_type": "stream",
          "name": "stderr",
          "text": [
            "100%|██████████| 26/26 [00:00<00:00, 54.94it/s]\n"
          ]
        },
        {
          "output_type": "stream",
          "name": "stdout",
          "text": [
            "Client: client_0 Train Epoch: 75 \tLoss: 0.856390  | (ε = 29.52)\n"
          ]
        },
        {
          "output_type": "stream",
          "name": "stderr",
          "text": [
            "100%|██████████| 26/26 [00:00<00:00, 53.42it/s]\n"
          ]
        },
        {
          "output_type": "stream",
          "name": "stdout",
          "text": [
            "Client: client_1 Train Epoch: 75 \tLoss: 0.893775  | (ε = 29.52)\n"
          ]
        },
        {
          "output_type": "stream",
          "name": "stderr",
          "text": [
            "100%|██████████| 26/26 [00:00<00:00, 42.33it/s]\n"
          ]
        },
        {
          "output_type": "stream",
          "name": "stdout",
          "text": [
            "Client: client_0 Train Epoch: 76 \tLoss: 0.856285  | (ε = 29.75)\n"
          ]
        },
        {
          "output_type": "stream",
          "name": "stderr",
          "text": [
            "100%|██████████| 26/26 [00:00<00:00, 46.40it/s]\n"
          ]
        },
        {
          "output_type": "stream",
          "name": "stdout",
          "text": [
            "Client: client_1 Train Epoch: 76 \tLoss: 0.893325  | (ε = 29.75)\n"
          ]
        },
        {
          "output_type": "stream",
          "name": "stderr",
          "text": [
            "100%|██████████| 26/26 [00:00<00:00, 51.97it/s]\n"
          ]
        },
        {
          "output_type": "stream",
          "name": "stdout",
          "text": [
            "Client: client_0 Train Epoch: 77 \tLoss: 0.854801  | (ε = 29.97)\n"
          ]
        },
        {
          "output_type": "stream",
          "name": "stderr",
          "text": [
            "100%|██████████| 26/26 [00:00<00:00, 49.98it/s]\n"
          ]
        },
        {
          "output_type": "stream",
          "name": "stdout",
          "text": [
            "Client: client_1 Train Epoch: 77 \tLoss: 0.894393  | (ε = 29.97)\n"
          ]
        },
        {
          "output_type": "stream",
          "name": "stderr",
          "text": [
            "100%|██████████| 26/26 [00:00<00:00, 53.54it/s]\n"
          ]
        },
        {
          "output_type": "stream",
          "name": "stdout",
          "text": [
            "Client: client_0 Train Epoch: 78 \tLoss: 0.857904  | (ε = 30.20)\n"
          ]
        },
        {
          "output_type": "stream",
          "name": "stderr",
          "text": [
            "100%|██████████| 26/26 [00:00<00:00, 55.75it/s]\n"
          ]
        },
        {
          "output_type": "stream",
          "name": "stdout",
          "text": [
            "Client: client_1 Train Epoch: 78 \tLoss: 0.894697  | (ε = 30.20)\n"
          ]
        },
        {
          "output_type": "stream",
          "name": "stderr",
          "text": [
            "100%|██████████| 26/26 [00:00<00:00, 55.40it/s]\n"
          ]
        },
        {
          "output_type": "stream",
          "name": "stdout",
          "text": [
            "Client: client_0 Train Epoch: 79 \tLoss: 0.856312  | (ε = 30.42)\n"
          ]
        },
        {
          "output_type": "stream",
          "name": "stderr",
          "text": [
            "100%|██████████| 26/26 [00:00<00:00, 56.53it/s]\n"
          ]
        },
        {
          "output_type": "stream",
          "name": "stdout",
          "text": [
            "Client: client_1 Train Epoch: 79 \tLoss: 0.895251  | (ε = 30.42)\n"
          ]
        },
        {
          "output_type": "stream",
          "name": "stderr",
          "text": [
            "100%|██████████| 26/26 [00:00<00:00, 39.29it/s]\n"
          ]
        },
        {
          "output_type": "stream",
          "name": "stdout",
          "text": [
            "Client: client_0 Train Epoch: 80 \tLoss: 0.857633  | (ε = 30.65)\n"
          ]
        },
        {
          "output_type": "stream",
          "name": "stderr",
          "text": [
            "100%|██████████| 26/26 [00:00<00:00, 57.69it/s]\n"
          ]
        },
        {
          "output_type": "stream",
          "name": "stdout",
          "text": [
            "Client: client_1 Train Epoch: 80 \tLoss: 0.895928  | (ε = 30.65)\n"
          ]
        },
        {
          "output_type": "stream",
          "name": "stderr",
          "text": [
            "100%|██████████| 26/26 [00:00<00:00, 51.52it/s]\n"
          ]
        },
        {
          "output_type": "stream",
          "name": "stdout",
          "text": [
            "Client: client_0 Train Epoch: 81 \tLoss: 0.857426  | (ε = 30.87)\n"
          ]
        },
        {
          "output_type": "stream",
          "name": "stderr",
          "text": [
            "100%|██████████| 26/26 [00:00<00:00, 52.23it/s]\n"
          ]
        },
        {
          "output_type": "stream",
          "name": "stdout",
          "text": [
            "Client: client_1 Train Epoch: 81 \tLoss: 0.894994  | (ε = 30.87)\n"
          ]
        },
        {
          "output_type": "stream",
          "name": "stderr",
          "text": [
            "100%|██████████| 26/26 [00:00<00:00, 53.55it/s]\n"
          ]
        },
        {
          "output_type": "stream",
          "name": "stdout",
          "text": [
            "Client: client_0 Train Epoch: 82 \tLoss: 0.856990  | (ε = 31.09)\n"
          ]
        },
        {
          "output_type": "stream",
          "name": "stderr",
          "text": [
            "100%|██████████| 26/26 [00:00<00:00, 52.41it/s]\n"
          ]
        },
        {
          "output_type": "stream",
          "name": "stdout",
          "text": [
            "Client: client_1 Train Epoch: 82 \tLoss: 0.895946  | (ε = 31.09)\n"
          ]
        },
        {
          "output_type": "stream",
          "name": "stderr",
          "text": [
            "100%|██████████| 26/26 [00:00<00:00, 38.68it/s]\n"
          ]
        },
        {
          "output_type": "stream",
          "name": "stdout",
          "text": [
            "Client: client_0 Train Epoch: 83 \tLoss: 0.858372  | (ε = 31.32)\n"
          ]
        },
        {
          "output_type": "stream",
          "name": "stderr",
          "text": [
            "100%|██████████| 26/26 [00:00<00:00, 56.37it/s]\n"
          ]
        },
        {
          "output_type": "stream",
          "name": "stdout",
          "text": [
            "Client: client_1 Train Epoch: 83 \tLoss: 0.896387  | (ε = 31.32)\n"
          ]
        },
        {
          "output_type": "stream",
          "name": "stderr",
          "text": [
            "100%|██████████| 26/26 [00:00<00:00, 53.29it/s]\n"
          ]
        },
        {
          "output_type": "stream",
          "name": "stdout",
          "text": [
            "Client: client_0 Train Epoch: 84 \tLoss: 0.857947  | (ε = 31.54)\n"
          ]
        },
        {
          "output_type": "stream",
          "name": "stderr",
          "text": [
            "100%|██████████| 26/26 [00:00<00:00, 51.55it/s]\n"
          ]
        },
        {
          "output_type": "stream",
          "name": "stdout",
          "text": [
            "Client: client_1 Train Epoch: 84 \tLoss: 0.896037  | (ε = 31.54)\n"
          ]
        },
        {
          "output_type": "stream",
          "name": "stderr",
          "text": [
            "100%|██████████| 26/26 [00:00<00:00, 50.69it/s]\n"
          ]
        },
        {
          "output_type": "stream",
          "name": "stdout",
          "text": [
            "Client: client_0 Train Epoch: 85 \tLoss: 0.858645  | (ε = 31.76)\n"
          ]
        },
        {
          "output_type": "stream",
          "name": "stderr",
          "text": [
            "100%|██████████| 26/26 [00:00<00:00, 52.25it/s]\n"
          ]
        },
        {
          "output_type": "stream",
          "name": "stdout",
          "text": [
            "Client: client_1 Train Epoch: 85 \tLoss: 0.897623  | (ε = 31.76)\n"
          ]
        },
        {
          "output_type": "stream",
          "name": "stderr",
          "text": [
            "100%|██████████| 26/26 [00:00<00:00, 38.60it/s]\n"
          ]
        },
        {
          "output_type": "stream",
          "name": "stdout",
          "text": [
            "Client: client_0 Train Epoch: 86 \tLoss: 0.859652  | (ε = 31.98)\n"
          ]
        },
        {
          "output_type": "stream",
          "name": "stderr",
          "text": [
            "100%|██████████| 26/26 [00:00<00:00, 52.34it/s]\n"
          ]
        },
        {
          "output_type": "stream",
          "name": "stdout",
          "text": [
            "Client: client_1 Train Epoch: 86 \tLoss: 0.897551  | (ε = 31.98)\n"
          ]
        },
        {
          "output_type": "stream",
          "name": "stderr",
          "text": [
            "100%|██████████| 26/26 [00:00<00:00, 50.68it/s]\n"
          ]
        },
        {
          "output_type": "stream",
          "name": "stdout",
          "text": [
            "Client: client_0 Train Epoch: 87 \tLoss: 0.858349  | (ε = 32.20)\n"
          ]
        },
        {
          "output_type": "stream",
          "name": "stderr",
          "text": [
            "100%|██████████| 26/26 [00:00<00:00, 52.25it/s]\n"
          ]
        },
        {
          "output_type": "stream",
          "name": "stdout",
          "text": [
            "Client: client_1 Train Epoch: 87 \tLoss: 0.897755  | (ε = 32.20)\n"
          ]
        },
        {
          "output_type": "stream",
          "name": "stderr",
          "text": [
            "100%|██████████| 26/26 [00:00<00:00, 51.74it/s]\n"
          ]
        },
        {
          "output_type": "stream",
          "name": "stdout",
          "text": [
            "Client: client_0 Train Epoch: 88 \tLoss: 0.860046  | (ε = 32.42)\n"
          ]
        },
        {
          "output_type": "stream",
          "name": "stderr",
          "text": [
            "100%|██████████| 26/26 [00:00<00:00, 52.89it/s]\n"
          ]
        },
        {
          "output_type": "stream",
          "name": "stdout",
          "text": [
            "Client: client_1 Train Epoch: 88 \tLoss: 0.897626  | (ε = 32.42)\n"
          ]
        },
        {
          "output_type": "stream",
          "name": "stderr",
          "text": [
            "100%|██████████| 26/26 [00:00<00:00, 37.52it/s]\n"
          ]
        },
        {
          "output_type": "stream",
          "name": "stdout",
          "text": [
            "Client: client_0 Train Epoch: 89 \tLoss: 0.860078  | (ε = 32.63)\n"
          ]
        },
        {
          "output_type": "stream",
          "name": "stderr",
          "text": [
            "100%|██████████| 26/26 [00:00<00:00, 49.79it/s]\n"
          ]
        },
        {
          "output_type": "stream",
          "name": "stdout",
          "text": [
            "Client: client_1 Train Epoch: 89 \tLoss: 0.897866  | (ε = 32.63)\n"
          ]
        },
        {
          "output_type": "stream",
          "name": "stderr",
          "text": [
            "100%|██████████| 26/26 [00:00<00:00, 52.34it/s]\n"
          ]
        },
        {
          "output_type": "stream",
          "name": "stdout",
          "text": [
            "Client: client_0 Train Epoch: 90 \tLoss: 0.859205  | (ε = 32.85)\n"
          ]
        },
        {
          "output_type": "stream",
          "name": "stderr",
          "text": [
            "100%|██████████| 26/26 [00:00<00:00, 52.30it/s]\n"
          ]
        },
        {
          "output_type": "stream",
          "name": "stdout",
          "text": [
            "Client: client_1 Train Epoch: 90 \tLoss: 0.897156  | (ε = 32.85)\n"
          ]
        },
        {
          "output_type": "stream",
          "name": "stderr",
          "text": [
            "100%|██████████| 26/26 [00:00<00:00, 53.66it/s]\n"
          ]
        },
        {
          "output_type": "stream",
          "name": "stdout",
          "text": [
            "Client: client_0 Train Epoch: 91 \tLoss: 0.858248  | (ε = 33.07)\n"
          ]
        },
        {
          "output_type": "stream",
          "name": "stderr",
          "text": [
            "100%|██████████| 26/26 [00:00<00:00, 51.78it/s]\n"
          ]
        },
        {
          "output_type": "stream",
          "name": "stdout",
          "text": [
            "Client: client_1 Train Epoch: 91 \tLoss: 0.896339  | (ε = 33.07)\n"
          ]
        },
        {
          "output_type": "stream",
          "name": "stderr",
          "text": [
            "100%|██████████| 26/26 [00:00<00:00, 35.14it/s]\n"
          ]
        },
        {
          "output_type": "stream",
          "name": "stdout",
          "text": [
            "Client: client_0 Train Epoch: 92 \tLoss: 0.858620  | (ε = 33.28)\n"
          ]
        },
        {
          "output_type": "stream",
          "name": "stderr",
          "text": [
            "100%|██████████| 26/26 [00:00<00:00, 54.40it/s]\n"
          ]
        },
        {
          "output_type": "stream",
          "name": "stdout",
          "text": [
            "Client: client_1 Train Epoch: 92 \tLoss: 0.896577  | (ε = 33.28)\n"
          ]
        },
        {
          "output_type": "stream",
          "name": "stderr",
          "text": [
            "100%|██████████| 26/26 [00:00<00:00, 51.82it/s]\n"
          ]
        },
        {
          "output_type": "stream",
          "name": "stdout",
          "text": [
            "Client: client_0 Train Epoch: 93 \tLoss: 0.859202  | (ε = 33.50)\n"
          ]
        },
        {
          "output_type": "stream",
          "name": "stderr",
          "text": [
            "100%|██████████| 26/26 [00:00<00:00, 52.82it/s]\n"
          ]
        },
        {
          "output_type": "stream",
          "name": "stdout",
          "text": [
            "Client: client_1 Train Epoch: 93 \tLoss: 0.897157  | (ε = 33.50)\n"
          ]
        },
        {
          "output_type": "stream",
          "name": "stderr",
          "text": [
            "100%|██████████| 26/26 [00:00<00:00, 50.41it/s]\n"
          ]
        },
        {
          "output_type": "stream",
          "name": "stdout",
          "text": [
            "Client: client_0 Train Epoch: 94 \tLoss: 0.859609  | (ε = 33.71)\n"
          ]
        },
        {
          "output_type": "stream",
          "name": "stderr",
          "text": [
            "100%|██████████| 26/26 [00:00<00:00, 47.39it/s]\n"
          ]
        },
        {
          "output_type": "stream",
          "name": "stdout",
          "text": [
            "Client: client_1 Train Epoch: 94 \tLoss: 0.896870  | (ε = 33.71)\n"
          ]
        },
        {
          "output_type": "stream",
          "name": "stderr",
          "text": [
            "100%|██████████| 26/26 [00:00<00:00, 36.01it/s]\n"
          ]
        },
        {
          "output_type": "stream",
          "name": "stdout",
          "text": [
            "Client: client_0 Train Epoch: 95 \tLoss: 0.860219  | (ε = 33.93)\n"
          ]
        },
        {
          "output_type": "stream",
          "name": "stderr",
          "text": [
            "100%|██████████| 26/26 [00:00<00:00, 50.40it/s]\n"
          ]
        },
        {
          "output_type": "stream",
          "name": "stdout",
          "text": [
            "Client: client_1 Train Epoch: 95 \tLoss: 0.898149  | (ε = 33.93)\n"
          ]
        },
        {
          "output_type": "stream",
          "name": "stderr",
          "text": [
            "100%|██████████| 26/26 [00:00<00:00, 48.85it/s]\n"
          ]
        },
        {
          "output_type": "stream",
          "name": "stdout",
          "text": [
            "Client: client_0 Train Epoch: 96 \tLoss: 0.860160  | (ε = 34.14)\n"
          ]
        },
        {
          "output_type": "stream",
          "name": "stderr",
          "text": [
            "100%|██████████| 26/26 [00:00<00:00, 47.80it/s]\n"
          ]
        },
        {
          "output_type": "stream",
          "name": "stdout",
          "text": [
            "Client: client_1 Train Epoch: 96 \tLoss: 0.897982  | (ε = 34.14)\n"
          ]
        },
        {
          "output_type": "stream",
          "name": "stderr",
          "text": [
            "100%|██████████| 26/26 [00:00<00:00, 47.95it/s]\n"
          ]
        },
        {
          "output_type": "stream",
          "name": "stdout",
          "text": [
            "Client: client_0 Train Epoch: 97 \tLoss: 0.859924  | (ε = 34.36)\n"
          ]
        },
        {
          "output_type": "stream",
          "name": "stderr",
          "text": [
            "100%|██████████| 26/26 [00:00<00:00, 35.72it/s]\n"
          ]
        },
        {
          "output_type": "stream",
          "name": "stdout",
          "text": [
            "Client: client_1 Train Epoch: 97 \tLoss: 0.897724  | (ε = 34.36)\n"
          ]
        },
        {
          "output_type": "stream",
          "name": "stderr",
          "text": [
            "100%|██████████| 26/26 [00:00<00:00, 52.82it/s]\n"
          ]
        },
        {
          "output_type": "stream",
          "name": "stdout",
          "text": [
            "Client: client_0 Train Epoch: 98 \tLoss: 0.861348  | (ε = 34.57)\n"
          ]
        },
        {
          "output_type": "stream",
          "name": "stderr",
          "text": [
            "100%|██████████| 26/26 [00:00<00:00, 53.10it/s]\n"
          ]
        },
        {
          "output_type": "stream",
          "name": "stdout",
          "text": [
            "Client: client_1 Train Epoch: 98 \tLoss: 0.898475  | (ε = 34.57)\n"
          ]
        },
        {
          "output_type": "stream",
          "name": "stderr",
          "text": [
            "100%|██████████| 26/26 [00:00<00:00, 51.38it/s]\n"
          ]
        },
        {
          "output_type": "stream",
          "name": "stdout",
          "text": [
            "Client: client_0 Train Epoch: 99 \tLoss: 0.861249  | (ε = 34.78)\n"
          ]
        },
        {
          "output_type": "stream",
          "name": "stderr",
          "text": [
            "100%|██████████| 26/26 [00:00<00:00, 47.98it/s]\n"
          ]
        },
        {
          "output_type": "stream",
          "name": "stdout",
          "text": [
            "Client: client_1 Train Epoch: 99 \tLoss: 0.897972  | (ε = 34.78)\n"
          ]
        },
        {
          "output_type": "stream",
          "name": "stderr",
          "text": [
            "100%|██████████| 52/52 [00:00<00:00, 150.96it/s]\n"
          ]
        },
        {
          "output_type": "stream",
          "name": "stdout",
          "text": [
            "\n",
            "Test set: Average loss: 0.0075, Accuracy: 2745/3279 (83.71%)\n",
            "\n",
            "Confusion matrix on test data:\n",
            "[[2564  316]\n",
            " [ 218  181]]\n",
            "Classification Report:\n",
            "              precision    recall  f1-score   support\n",
            "\n",
            "         0.0       0.92      0.89      0.91      2880\n",
            "         1.0       0.36      0.45      0.40       399\n",
            "\n",
            "    accuracy                           0.84      3279\n",
            "   macro avg       0.64      0.67      0.65      3279\n",
            "weighted avg       0.85      0.84      0.84      3279\n",
            "\n",
            "Final CNN Accuracy: 0.8371454711802379\n",
            "ROC AUC: 0.772389306599833\n",
            "\n",
            "Classification Report:\n",
            "               precision    recall  f1-score   support\n",
            "\n",
            "         0.0       0.92      0.89      0.91      2880\n",
            "         1.0       0.36      0.45      0.40       399\n",
            "\n",
            "    accuracy                           0.84      3279\n",
            "   macro avg       0.64      0.67      0.65      3279\n",
            "weighted avg       0.85      0.84      0.84      3279\n",
            "\n",
            "\n",
            "=== Results Table ===\n",
            "                        Methods Algorithm  Accuracy (%)  Precision (%)  Recall (%)  F1-Score (%)  Train Time (s)  Test Time (s)  Privacy Budget (ε)\n",
            "Federated + CNN (DP, noise=0.5)       CNN         83.71          36.42       45.36          40.4          293.84           0.35               34.78\n"
          ]
        }
      ]
    }
  ]
}