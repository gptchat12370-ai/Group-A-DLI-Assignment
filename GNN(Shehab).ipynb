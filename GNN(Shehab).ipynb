{
  "nbformat": 4,
  "nbformat_minor": 0,
  "metadata": {
    "colab": {
      "provenance": [],
      "include_colab_link": true
    },
    "kernelspec": {
      "name": "python3",
      "display_name": "Python 3"
    },
    "language_info": {
      "name": "python"
    }
  },
  "cells": [
    {
      "cell_type": "markdown",
      "metadata": {
        "id": "view-in-github",
        "colab_type": "text"
      },
      "source": [
        "<a href=\"https://colab.research.google.com/github/gptchat12370-ai/Group-A-DLI-Assignment/blob/main/GNN(Shehab).ipynb\" target=\"_parent\"><img src=\"https://colab.research.google.com/assets/colab-badge.svg\" alt=\"Open In Colab\"/></a>"
      ]
    },
    {
      "cell_type": "markdown",
      "source": [
        "# **Reference:**\n",
        "Paper Code: https://github.com/zhenlus/GNN-IDS/blob/main/src/gnn_ids_dataset1.ipynb\n",
        "\n",
        "Paper: https://dl.acm.org/doi/10.1145/3664476.3664515\n",
        "\n",
        "Github Link: https://github.com/shihab1/Group-A-DLI-Assignment/blob/main/GNN(Shehab).ipynb\n",
        "\n",
        "Dataset: https://github.com/zhenlus/GNN-IDS/tree/main/datasets/synt"
      ],
      "metadata": {
        "id": "YIixZA2ab_P2"
      }
    },
    {
      "cell_type": "markdown",
      "metadata": {
        "id": "806fed50"
      },
      "source": [
        "### Setup and Library Installation\n",
        "\n",
        "This cell installs the necessary libraries for the project. It first ensures core Colab libraries like `requests`, `numpy`, `fsspec`, and `gcsfs` are in a compatible state. Then, it installs PyTorch with CUDA support for GPU acceleration and PyTorch Geometric dependencies that match the installed PyTorch version. Finally, it installs the top-level `torch-geometric` package without pulling additional dependencies, assuming the dependencies were installed in the previous steps."
      ]
    },
    {
      "cell_type": "code",
      "source": [
        "# ==== Environment Setup (safe for Colab, PyTorch 2.6 + CUDA 12.4) ====\n",
        "\n",
        "# 1. Make sure autoreload doesn't break compiled libs\n",
        "try:\n",
        "    %autoreload 0\n",
        "except:\n",
        "    pass\n",
        "\n",
        "# 2. Clean conflicting packages (old numpy/pandas/ipython/requests)\n",
        "!pip -q uninstall -y numpy pandas numba ipython requests >/dev/null 2>&1\n",
        "\n",
        "# 3. Install core libraries (compatible with Python 3.12 + Colab)\n",
        "!pip -q install --upgrade pip setuptools wheel\n",
        "!pip -q install \"requests==2.32.4\" \"numpy==2.1.3\" \"pandas==2.2.2\" \"ipython==8.26.0\"\n",
        "\n",
        "# 4. Install PyTorch 2.6 + CUDA 12.4\n",
        "!pip -q install --index-url https://download.pytorch.org/whl/cu124 \\\n",
        "    torch==2.6.0 torchvision==0.21.0 torchaudio==2.6.0\n",
        "\n",
        "# 5. Install PyTorch Geometric deps (matching Torch 2.6 + cu124)\n",
        "!pip -q install \\\n",
        "    torch-scatter==2.1.2+pt26cu124 \\\n",
        "    torch-sparse==0.6.18+pt26cu124 \\\n",
        "    torch-cluster==1.6.3+pt26cu124 \\\n",
        "    torch-spline-conv==1.2.2+pt26cu124 \\\n",
        "    -f https://data.pyg.org/whl/torch-2.6.0+cu124.html\n",
        "\n",
        "# 6. Install torch-geometric without pulling mismatched deps\n",
        "!pip -q install --no-deps torch-geometric==2.6.1\n",
        "\n",
        "# ==== Verify everything ====\n",
        "import sys, numpy as np, pandas as pd, torch\n",
        "print(\"Python:\", sys.version)\n",
        "print(\"NumPy:\", np.__version__)\n",
        "print(\"Pandas:\", pd.__version__)\n",
        "print(\"Torch:\", torch.__version__, \"CUDA:\", torch.version.cuda)"
      ],
      "metadata": {
        "colab": {
          "base_uri": "https://localhost:8080/"
        },
        "id": "NVmgXDsda3w8",
        "outputId": "f369cae3-67fa-40fb-ec59-a7d4dbfe0850"
      },
      "execution_count": null,
      "outputs": [
        {
          "output_type": "stream",
          "name": "stderr",
          "text": [
            "[autoreload of IPython.core.ultratb failed: Traceback (most recent call last):\n",
            "  File \"/usr/local/lib/python3.12/dist-packages/IPython/extensions/autoreload.py\", line 325, in check\n",
            "  File \"/usr/local/lib/python3.12/dist-packages/IPython/extensions/autoreload.py\", line 621, in superreload\n",
            "    args = magic_arguments.parse_argstring(self.autoreload, line)\n",
            "        ^^^^^^^^^^^^^^^^^^^^^^^^^^^^^^^^\n",
            "  File \"/usr/local/lib/python3.12/dist-packages/IPython/extensions/autoreload.py\", line 447, in update_generic\n",
            "    - clears the module's namespace before reloading\n",
            "            ^^^^^^^^^^^^\n",
            "  File \"/usr/local/lib/python3.12/dist-packages/IPython/extensions/autoreload.py\", line 399, in update_class\n",
            "    return False\n",
            "           ^^^^^^\n",
            "  File \"/usr/local/lib/python3.12/dist-packages/IPython/extensions/autoreload.py\", line 447, in update_generic\n",
            "    - clears the module's namespace before reloading\n",
            "            ^^^^^^^^^^^^\n",
            "  File \"/usr/local/lib/python3.12/dist-packages/IPython/extensions/autoreload.py\", line 359, in update_function\n",
            "    try:\n",
            "ValueError: __init__() requires a code object with 0 free vars, not 1\n",
            "]\n",
            "Error in sys.excepthook:\n",
            "Traceback (most recent call last):\n",
            "  File \"/usr/local/lib/python3.12/dist-packages/ipykernel/kernelapp.py\", line 202, in excepthook\n",
            "    traceback.print_exception(etype, evalue, tb, file=sys.__stderr__)\n",
            "  File \"/usr/lib/python3.12/traceback.py\", line 124, in print_exception\n",
            "    te = TracebackException(type(value), value, tb, limit=limit, compact=True)\n",
            "         ^^^^^^^^^^^^^^^^^^^^^^^^^^^^^^^^^^^^^^^^^^^^^^^^^^^^^^^^^^^^^^^^^^^^^\n",
            "  File \"/usr/lib/python3.12/traceback.py\", line 733, in __init__\n",
            "    self.stack = StackSummary._extract_from_extended_frame_gen(\n",
            "                 ^^^^^^^^^^^^^^^^^^^^^^^^^^^^^^^^^^^^^^^^^^^^^^\n",
            "  File \"/usr/lib/python3.12/traceback.py\", line 434, in _extract_from_extended_frame_gen\n",
            "    linecache.checkcache(filename)\n",
            "  File \"/usr/local/lib/python3.12/dist-packages/IPython/core/compilerop.py\", line 214, in check_linecache_ipython\n",
            "    linecache.checkcache()\n",
            "  File \"/usr/local/lib/python3.12/dist-packages/IPython/core/compilerop.py\", line 214, in check_linecache_ipython\n",
            "    linecache.checkcache()\n",
            "  File \"/usr/local/lib/python3.12/dist-packages/IPython/core/compilerop.py\", line 214, in check_linecache_ipython\n",
            "    linecache.checkcache()\n",
            "  [Previous line repeated 993 more times]\n",
            "RecursionError: maximum recursion depth exceeded\n",
            "\n",
            "Original exception was:\n",
            "Traceback (most recent call last):\n",
            "  File \"/usr/local/lib/python3.12/dist-packages/IPython/core/interactiveshell.py\", line 3030, in _run_cell\n",
            "    try:\n",
            "         \n",
            "  File \"/usr/local/lib/python3.12/dist-packages/IPython/core/async_helpers.py\", line 78, in _pseudo_sync_runner\n",
            "    attr = getattr(self._obj, key)\n",
            "    ^^^^^^^^^^^^^^^\n",
            "  File \"/usr/local/lib/python3.12/dist-packages/IPython/core/interactiveshell.py\", line 3200, in run_cell_async\n",
            "    store_history : bool\n",
            "                    ^^^^\n",
            "  File \"/usr/local/lib/python3.12/dist-packages/IPython/core/compilerop.py\", line 158, in cache\n",
            "    self._filename_map[name] = number\n",
            "    ^^^^^^^^^^^^^^^^^^\n",
            "AttributeError: '_ColabXCachingCompiler' object has no attribute '_filename_map'\n",
            "\n",
            "During handling of the above exception, another exception occurred:\n",
            "\n",
            "Traceback (most recent call last):\n",
            "  File \"/usr/local/lib/python3.12/dist-packages/IPython/core/interactiveshell.py\", line 2099, in showtraceback\n",
            "    def show_usage_error(self, exc):\n",
            "                              ^^^^^^^\n",
            "AttributeError: 'AttributeError' object has no attribute '_render_traceback_'\n",
            "\n",
            "During handling of the above exception, another exception occurred:\n",
            "\n",
            "Traceback (most recent call last):\n",
            "  File \"/usr/local/lib/python3.12/dist-packages/IPython/core/ultratb.py\", line 1101, in get_records\n",
            "    ColorsNormal = Colors.Normal  # used a lot\n",
            "       ^^^^^^^^^^^^^^^^^^^^^\n",
            "NameError: name '_fixed_getinnerframes' is not defined\n",
            "\n",
            "During handling of the above exception, another exception occurred:\n",
            "\n",
            "Traceback (most recent call last):\n",
            "  File \"/usr/local/lib/python3.12/dist-packages/ipykernel/kernelbase.py\", line 406, in dispatch_shell\n",
            "    await result\n",
            "  File \"/usr/local/lib/python3.12/dist-packages/ipykernel/kernelbase.py\", line 730, in execute_request\n",
            "    reply_content = await reply_content\n",
            "                    ^^^^^^^^^^^^^^^^^^^\n",
            "  File \"/usr/local/lib/python3.12/dist-packages/ipykernel/ipkernel.py\", line 383, in do_execute\n",
            "    res = shell.run_cell(\n",
            "          ^^^^^^^^^^^^^^^\n",
            "  File \"/usr/local/lib/python3.12/dist-packages/ipykernel/zmqshell.py\", line 528, in run_cell\n",
            "    return super().run_cell(*args, **kwargs)\n",
            "           ^^^^^^^^^^^^^^^^^^^^^^^^^^^^^^^^^\n",
            "  File \"/usr/local/lib/python3.12/dist-packages/IPython/core/interactiveshell.py\", line 2975, in run_cell\n",
            "    try:\n",
            "        \n",
            "  File \"/usr/local/lib/python3.12/dist-packages/IPython/core/interactiveshell.py\", line 3037, in _run_cell\n",
            "    raise\n",
            "^^^^^^^^^^\n",
            "  File \"/usr/local/lib/python3.12/dist-packages/IPython/core/interactiveshell.py\", line 2101, in showtraceback\n",
            "    \n",
            "    \n",
            "  File \"/usr/local/lib/python3.12/dist-packages/IPython/core/ultratb.py\", line 1367, in structured_traceback\n",
            "    \n",
            "    \n",
            "  File \"/usr/local/lib/python3.12/dist-packages/IPython/core/ultratb.py\", line 1345, in structured_traceback\n",
            "    return VerboseTB.structured_traceback(\n",
            "           ^^^^^^^^^^^^^^^^^^^^^^^^^^^^^^^\n",
            "  File \"/usr/local/lib/python3.12/dist-packages/IPython/core/ultratb.py\", line 1192, in structured_traceback\n",
            "    formatted_exception = self.format_exception_as_a_whole(etype, evalue, etb, number_of_lines_of_context,\n",
            "                          ^^^^^^^^^^^^^^^^^^^^^^^^^^^^^^^^^^^^^^^^^^^^^^^^^^^^^^^^^^^^^^^^^^^^^^^^^^^^^^^^\n",
            "  File \"/usr/local/lib/python3.12/dist-packages/IPython/core/ultratb.py\", line 1079, in format_exception_as_a_whole\n",
            "    assert isinstance(tb_offset, int)\n",
            "              ^^^^^^^^^^^^^^^^^^^^^^^^\n",
            "  File \"/usr/local/lib/python3.12/dist-packages/IPython/core/ultratb.py\", line 1115, in get_records\n",
            "    \n",
            "NameError: name 'inspect_error' is not defined\n",
            "\n",
            "During handling of the above exception, another exception occurred:\n",
            "\n",
            "Traceback (most recent call last):\n",
            "  File \"/usr/local/lib/python3.12/dist-packages/ipykernel/kernelbase.py\", line 510, in dispatch_queue\n",
            "    await self.process_one()\n",
            "  File \"/usr/local/lib/python3.12/dist-packages/ipykernel/kernelbase.py\", line 499, in process_one\n",
            "    await dispatch(*args)\n",
            "  File \"/usr/local/lib/python3.12/dist-packages/ipykernel/kernelbase.py\", line 408, in dispatch_shell\n",
            "    self.log.error(\"Exception in message handler:\", exc_info=True)\n",
            "  File \"/usr/lib/python3.12/logging/__init__.py\", line 1568, in error\n",
            "    self._log(ERROR, msg, args, **kwargs)\n",
            "  File \"/usr/lib/python3.12/logging/__init__.py\", line 1684, in _log\n",
            "    self.handle(record)\n",
            "  File \"/usr/lib/python3.12/logging/__init__.py\", line 1700, in handle\n",
            "    self.callHandlers(record)\n",
            "  File \"/usr/lib/python3.12/logging/__init__.py\", line 1762, in callHandlers\n",
            "    hdlr.handle(record)\n",
            "  File \"/usr/lib/python3.12/logging/__init__.py\", line 1028, in handle\n",
            "    self.emit(record)\n",
            "  File \"/usr/lib/python3.12/logging/__init__.py\", line 1160, in emit\n",
            "    msg = self.format(record)\n",
            "          ^^^^^^^^^^^^^^^^^^^\n",
            "  File \"/usr/lib/python3.12/logging/__init__.py\", line 999, in format\n",
            "    return fmt.format(record)\n",
            "           ^^^^^^^^^^^^^^^^^^\n",
            "  File \"/usr/local/lib/python3.12/dist-packages/traitlets/config/application.py\", line 144, in format\n",
            "    def format(self, record: logging.LogRecord) -> str:\n",
            "               ^^^^^^^^^^^^^^^^^^^^^^\n",
            "  File \"/usr/lib/python3.12/logging/__init__.py\", line 711, in format\n",
            "    record.exc_text = self.formatException(record.exc_info)\n",
            "                      ^^^^^^^^^^^^^^^^^^^^^^^^^^^^^^^^^^^^^\n",
            "  File \"/usr/lib/python3.12/logging/__init__.py\", line 661, in formatException\n",
            "    traceback.print_exception(ei[0], ei[1], tb, None, sio)\n",
            "  File \"/usr/lib/python3.12/traceback.py\", line 124, in print_exception\n",
            "    te = TracebackException(type(value), value, tb, limit=limit, compact=True)\n",
            "         ^^^^^^^^^^^^^^^^^^^^^^^^^^^^^^^^^^^^^^^^^^^^^^^^^^^^^^^^^^^^^^^^^^^^^\n",
            "  File \"/usr/lib/python3.12/traceback.py\", line 733, in __init__\n",
            "    self.stack = StackSummary._extract_from_extended_frame_gen(\n",
            "                 ^^^^^^^^^^^^^^^^^^^^^^^^^^^^^^^^^^^^^^^^^^^^^^\n",
            "  File \"/usr/lib/python3.12/traceback.py\", line 434, in _extract_from_extended_frame_gen\n",
            "    linecache.checkcache(filename)\n",
            "  File \"/usr/local/lib/python3.12/dist-packages/IPython/core/compilerop.py\", line 214, in check_linecache_ipython\n",
            "    linecache.checkcache()\n",
            "  File \"/usr/local/lib/python3.12/dist-packages/IPython/core/compilerop.py\", line 214, in check_linecache_ipython\n",
            "    linecache.checkcache()\n",
            "  File \"/usr/local/lib/python3.12/dist-packages/IPython/core/compilerop.py\", line 214, in check_linecache_ipython\n",
            "    linecache.checkcache()\n",
            "  [Previous line repeated 972 more times]\n",
            "RecursionError: maximum recursion depth exceeded\n",
            "\n",
            "During handling of the above exception, another exception occurred:\n",
            "\n",
            "Traceback (most recent call last):\n",
            "  File \"/usr/local/lib/python3.12/dist-packages/tornado/ioloop.py\", line 750, in _run_callback\n",
            "    ret = callback()\n",
            "          ^^^^^^^^^^\n",
            "  File \"/usr/local/lib/python3.12/dist-packages/tornado/ioloop.py\", line 774, in _discard_future_result\n",
            "    future.result()\n",
            "  File \"/usr/local/lib/python3.12/dist-packages/ipykernel/kernelbase.py\", line 512, in dispatch_queue\n",
            "    self.log.exception(\"Error in message handler\")\n",
            "  File \"/usr/lib/python3.12/logging/__init__.py\", line 1574, in exception\n",
            "    self.error(msg, *args, exc_info=exc_info, **kwargs)\n",
            "  File \"/usr/lib/python3.12/logging/__init__.py\", line 1568, in error\n",
            "    self._log(ERROR, msg, args, **kwargs)\n",
            "  File \"/usr/lib/python3.12/logging/__init__.py\", line 1684, in _log\n",
            "    self.handle(record)\n",
            "  File \"/usr/lib/python3.12/logging/__init__.py\", line 1700, in handle\n",
            "    self.callHandlers(record)\n",
            "  File \"/usr/lib/python3.12/logging/__init__.py\", line 1762, in callHandlers\n",
            "    hdlr.handle(record)\n",
            "  File \"/usr/lib/python3.12/logging/__init__.py\", line 1028, in handle\n",
            "    self.emit(record)\n",
            "  File \"/usr/lib/python3.12/logging/__init__.py\", line 1160, in emit\n",
            "    msg = self.format(record)\n",
            "          ^^^^^^^^^^^^^^^^^^^\n",
            "  File \"/usr/lib/python3.12/logging/__init__.py\", line 999, in format\n",
            "    return fmt.format(record)\n",
            "           ^^^^^^^^^^^^^^^^^^\n",
            "  File \"/usr/local/lib/python3.12/dist-packages/traitlets/config/application.py\", line 144, in format\n",
            "    def format(self, record: logging.LogRecord) -> str:\n",
            "               ^^^^^^^^^^^^^^^^^^^^^^\n",
            "  File \"/usr/lib/python3.12/logging/__init__.py\", line 711, in format\n",
            "    record.exc_text = self.formatException(record.exc_info)\n",
            "                      ^^^^^^^^^^^^^^^^^^^^^^^^^^^^^^^^^^^^^\n",
            "  File \"/usr/lib/python3.12/logging/__init__.py\", line 661, in formatException\n",
            "    traceback.print_exception(ei[0], ei[1], tb, None, sio)\n",
            "  File \"/usr/lib/python3.12/traceback.py\", line 124, in print_exception\n",
            "    te = TracebackException(type(value), value, tb, limit=limit, compact=True)\n",
            "         ^^^^^^^^^^^^^^^^^^^^^^^^^^^^^^^^^^^^^^^^^^^^^^^^^^^^^^^^^^^^^^^^^^^^^\n",
            "  File \"/usr/lib/python3.12/traceback.py\", line 733, in __init__\n",
            "    self.stack = StackSummary._extract_from_extended_frame_gen(\n",
            "                 ^^^^^^^^^^^^^^^^^^^^^^^^^^^^^^^^^^^^^^^^^^^^^^\n",
            "  File \"/usr/lib/python3.12/traceback.py\", line 434, in _extract_from_extended_frame_gen\n",
            "    linecache.checkcache(filename)\n",
            "  File \"/usr/local/lib/python3.12/dist-packages/IPython/core/compilerop.py\", line 214, in check_linecache_ipython\n",
            "    linecache.checkcache()\n",
            "  File \"/usr/local/lib/python3.12/dist-packages/IPython/core/compilerop.py\", line 214, in check_linecache_ipython\n",
            "    linecache.checkcache()\n",
            "  File \"/usr/local/lib/python3.12/dist-packages/IPython/core/compilerop.py\", line 214, in check_linecache_ipython\n",
            "    linecache.checkcache()\n",
            "  [Previous line repeated 973 more times]\n",
            "RecursionError: maximum recursion depth exceeded\n",
            "\n",
            "During handling of the above exception, another exception occurred:\n",
            "\n",
            "Traceback (most recent call last):\n",
            "  File \"/usr/lib/python3.12/asyncio/events.py\", line 88, in _run\n",
            "    self._context.run(self._callback, *self._args)\n",
            "  File \"/usr/local/lib/python3.12/dist-packages/tornado/ioloop.py\", line 699, in <lambda>\n",
            "    lambda f: self._run_callback(functools.partial(callback, f))\n",
            "              ^^^^^^^^^^^^^^^^^^^^^^^^^^^^^^^^^^^^^^^^^^^^^^^^^^\n",
            "  File \"/usr/local/lib/python3.12/dist-packages/tornado/ioloop.py\", line 770, in _run_callback\n",
            "    app_log.error(\"Exception in callback %r\", callback, exc_info=True)\n",
            "  File \"/usr/lib/python3.12/logging/__init__.py\", line 1568, in error\n",
            "    self._log(ERROR, msg, args, **kwargs)\n",
            "  File \"/usr/lib/python3.12/logging/__init__.py\", line 1684, in _log\n",
            "    self.handle(record)\n",
            "  File \"/usr/lib/python3.12/logging/__init__.py\", line 1700, in handle\n",
            "    self.callHandlers(record)\n",
            "  File \"/usr/lib/python3.12/logging/__init__.py\", line 1762, in callHandlers\n",
            "    hdlr.handle(record)\n",
            "  File \"/usr/lib/python3.12/logging/__init__.py\", line 1028, in handle\n",
            "    self.emit(record)\n",
            "  File \"/usr/lib/python3.12/logging/__init__.py\", line 1160, in emit\n",
            "    msg = self.format(record)\n",
            "          ^^^^^^^^^^^^^^^^^^^\n",
            "  File \"/usr/lib/python3.12/logging/__init__.py\", line 999, in format\n",
            "    return fmt.format(record)\n",
            "           ^^^^^^^^^^^^^^^^^^\n",
            "  File \"/usr/lib/python3.12/logging/__init__.py\", line 711, in format\n",
            "    record.exc_text = self.formatException(record.exc_info)\n",
            "                      ^^^^^^^^^^^^^^^^^^^^^^^^^^^^^^^^^^^^^\n",
            "  File \"/usr/lib/python3.12/logging/__init__.py\", line 661, in formatException\n",
            "    traceback.print_exception(ei[0], ei[1], tb, None, sio)\n",
            "  File \"/usr/lib/python3.12/traceback.py\", line 124, in print_exception\n",
            "    te = TracebackException(type(value), value, tb, limit=limit, compact=True)\n",
            "         ^^^^^^^^^^^^^^^^^^^^^^^^^^^^^^^^^^^^^^^^^^^^^^^^^^^^^^^^^^^^^^^^^^^^^\n",
            "  File \"/usr/lib/python3.12/traceback.py\", line 733, in __init__\n",
            "    self.stack = StackSummary._extract_from_extended_frame_gen(\n",
            "                 ^^^^^^^^^^^^^^^^^^^^^^^^^^^^^^^^^^^^^^^^^^^^^^\n",
            "  File \"/usr/lib/python3.12/traceback.py\", line 434, in _extract_from_extended_frame_gen\n",
            "    linecache.checkcache(filename)\n",
            "  File \"/usr/local/lib/python3.12/dist-packages/IPython/core/compilerop.py\", line 214, in check_linecache_ipython\n",
            "    linecache.checkcache()\n",
            "  File \"/usr/local/lib/python3.12/dist-packages/IPython/core/compilerop.py\", line 214, in check_linecache_ipython\n",
            "    linecache.checkcache()\n",
            "  File \"/usr/local/lib/python3.12/dist-packages/IPython/core/compilerop.py\", line 214, in check_linecache_ipython\n",
            "    linecache.checkcache()\n",
            "  [Previous line repeated 974 more times]\n",
            "RecursionError: maximum recursion depth exceeded\n",
            "\n",
            "During handling of the above exception, another exception occurred:\n",
            "\n",
            "Traceback (most recent call last):\n",
            "  File \"/usr/lib/python3.12/asyncio/base_events.py\", line 1859, in call_exception_handler\n",
            "    self.default_exception_handler(context)\n",
            "  File \"/usr/lib/python3.12/asyncio/base_events.py\", line 1833, in default_exception_handler\n",
            "    logger.error('\\n'.join(log_lines), exc_info=exc_info)\n",
            "  File \"/usr/lib/python3.12/logging/__init__.py\", line 1568, in error\n",
            "    self._log(ERROR, msg, args, **kwargs)\n",
            "  File \"/usr/lib/python3.12/logging/__init__.py\", line 1684, in _log\n",
            "    self.handle(record)\n",
            "  File \"/usr/lib/python3.12/logging/__init__.py\", line 1700, in handle\n",
            "    self.callHandlers(record)\n",
            "  File \"/usr/lib/python3.12/logging/__init__.py\", line 1762, in callHandlers\n",
            "    hdlr.handle(record)\n",
            "  File \"/usr/lib/python3.12/logging/__init__.py\", line 1028, in handle\n",
            "    self.emit(record)\n",
            "  File \"/usr/lib/python3.12/logging/__init__.py\", line 1160, in emit\n",
            "    msg = self.format(record)\n",
            "          ^^^^^^^^^^^^^^^^^^^\n",
            "  File \"/usr/lib/python3.12/logging/__init__.py\", line 999, in format\n",
            "    return fmt.format(record)\n",
            "           ^^^^^^^^^^^^^^^^^^\n",
            "  File \"/usr/lib/python3.12/logging/__init__.py\", line 711, in format\n",
            "    record.exc_text = self.formatException(record.exc_info)\n",
            "                      ^^^^^^^^^^^^^^^^^^^^^^^^^^^^^^^^^^^^^\n",
            "  File \"/usr/lib/python3.12/logging/__init__.py\", line 661, in formatException\n",
            "    traceback.print_exception(ei[0], ei[1], tb, None, sio)\n",
            "  File \"/usr/lib/python3.12/traceback.py\", line 124, in print_exception\n",
            "    te = TracebackException(type(value), value, tb, limit=limit, compact=True)\n",
            "         ^^^^^^^^^^^^^^^^^^^^^^^^^^^^^^^^^^^^^^^^^^^^^^^^^^^^^^^^^^^^^^^^^^^^^\n",
            "  File \"/usr/lib/python3.12/traceback.py\", line 733, in __init__\n",
            "    self.stack = StackSummary._extract_from_extended_frame_gen(\n",
            "                 ^^^^^^^^^^^^^^^^^^^^^^^^^^^^^^^^^^^^^^^^^^^^^^\n",
            "  File \"/usr/lib/python3.12/traceback.py\", line 434, in _extract_from_extended_frame_gen\n",
            "    linecache.checkcache(filename)\n",
            "  File \"/usr/local/lib/python3.12/dist-packages/IPython/core/compilerop.py\", line 214, in check_linecache_ipython\n",
            "    linecache.checkcache()\n",
            "  File \"/usr/local/lib/python3.12/dist-packages/IPython/core/compilerop.py\", line 214, in check_linecache_ipython\n",
            "    linecache.checkcache()\n",
            "  File \"/usr/local/lib/python3.12/dist-packages/IPython/core/compilerop.py\", line 214, in check_linecache_ipython\n",
            "    linecache.checkcache()\n",
            "  [Previous line repeated 974 more times]\n",
            "RecursionError: maximum recursion depth exceeded\n",
            "\n",
            "During handling of the above exception, another exception occurred:\n",
            "\n",
            "Traceback (most recent call last):\n",
            "  File \"<frozen runpy>\", line 198, in _run_module_as_main\n",
            "  File \"<frozen runpy>\", line 88, in _run_code\n",
            "  File \"/usr/local/lib/python3.12/dist-packages/colab_kernel_launcher.py\", line 37, in <module>\n",
            "    ColabKernelApp.launch_instance()\n",
            "  File \"/usr/local/lib/python3.12/dist-packages/traitlets/config/application.py\", line 992, in launch_instance\n",
            "    new_config.merge(self.cli_config)\n",
            "    ^^^^^^^^^^^\n",
            "  File \"/usr/local/lib/python3.12/dist-packages/ipykernel/kernelapp.py\", line 712, in start\n",
            "    self.io_loop.start()\n",
            "  File \"/usr/local/lib/python3.12/dist-packages/tornado/platform/asyncio.py\", line 205, in start\n",
            "    self.asyncio_loop.run_forever()\n",
            "  File \"/usr/lib/python3.12/asyncio/base_events.py\", line 645, in run_forever\n",
            "    self._run_once()\n",
            "  File \"/usr/lib/python3.12/asyncio/base_events.py\", line 1999, in _run_once\n",
            "    handle._run()\n",
            "  File \"/usr/lib/python3.12/asyncio/events.py\", line 102, in _run\n",
            "    self._loop.call_exception_handler(context)\n",
            "  File \"/usr/lib/python3.12/asyncio/base_events.py\", line 1866, in call_exception_handler\n",
            "    logger.error('Exception in default exception handler',\n",
            "  File \"/usr/lib/python3.12/logging/__init__.py\", line 1568, in error\n",
            "    self._log(ERROR, msg, args, **kwargs)\n",
            "  File \"/usr/lib/python3.12/logging/__init__.py\", line 1684, in _log\n",
            "    self.handle(record)\n",
            "  File \"/usr/lib/python3.12/logging/__init__.py\", line 1700, in handle\n",
            "    self.callHandlers(record)\n",
            "  File \"/usr/lib/python3.12/logging/__init__.py\", line 1762, in callHandlers\n",
            "    hdlr.handle(record)\n",
            "  File \"/usr/lib/python3.12/logging/__init__.py\", line 1028, in handle\n",
            "    self.emit(record)\n",
            "  File \"/usr/lib/python3.12/logging/__init__.py\", line 1160, in emit\n",
            "    msg = self.format(record)\n",
            "          ^^^^^^^^^^^^^^^^^^^\n",
            "  File \"/usr/lib/python3.12/logging/__init__.py\", line 999, in format\n",
            "    return fmt.format(record)\n",
            "           ^^^^^^^^^^^^^^^^^^\n",
            "  File \"/usr/lib/python3.12/logging/__init__.py\", line 711, in format\n",
            "    record.exc_text = self.formatException(record.exc_info)\n",
            "                      ^^^^^^^^^^^^^^^^^^^^^^^^^^^^^^^^^^^^^\n",
            "  File \"/usr/lib/python3.12/logging/__init__.py\", line 661, in formatException\n",
            "    traceback.print_exception(ei[0], ei[1], tb, None, sio)\n",
            "  File \"/usr/lib/python3.12/traceback.py\", line 124, in print_exception\n",
            "    te = TracebackException(type(value), value, tb, limit=limit, compact=True)\n",
            "         ^^^^^^^^^^^^^^^^^^^^^^^^^^^^^^^^^^^^^^^^^^^^^^^^^^^^^^^^^^^^^^^^^^^^^\n",
            "  File \"/usr/lib/python3.12/traceback.py\", line 733, in __init__\n",
            "    self.stack = StackSummary._extract_from_extended_frame_gen(\n",
            "                 ^^^^^^^^^^^^^^^^^^^^^^^^^^^^^^^^^^^^^^^^^^^^^^\n",
            "  File \"/usr/lib/python3.12/traceback.py\", line 434, in _extract_from_extended_frame_gen\n",
            "    linecache.checkcache(filename)\n",
            "  File \"/usr/local/lib/python3.12/dist-packages/IPython/core/compilerop.py\", line 214, in check_linecache_ipython\n",
            "    linecache.checkcache()\n",
            "  File \"/usr/local/lib/python3.12/dist-packages/IPython/core/compilerop.py\", line 214, in check_linecache_ipython\n",
            "    linecache.checkcache()\n",
            "  File \"/usr/local/lib/python3.12/dist-packages/IPython/core/compilerop.py\", line 214, in check_linecache_ipython\n",
            "    linecache.checkcache()\n",
            "  [Previous line repeated 975 more times]\n",
            "RecursionError: maximum recursion depth exceeded\n"
          ]
        }
      ]
    },
    {
      "cell_type": "markdown",
      "metadata": {
        "id": "f0ab6b83"
      },
      "source": [
        "### Import Libraries and Setup Autoreload\n",
        "\n",
        "This cell imports various standard Python libraries like `os`, `time`, `random`, `pandas`, and `numpy` for general programming tasks, data manipulation, and numerical operations. It also imports `matplotlib.pyplot` for plotting and visualization.\n",
        "\n",
        "From `sklearn`, it imports `MinMaxScaler` for data scaling and `train_test_split` for splitting data into training, validation, and test sets.\n",
        "\n",
        "It imports `torch` and `torch.nn` for building and training neural networks.\n",
        "\n",
        "Finally, it appends the `/content` directory to the system path and imports custom modules (`ag_utils`, `synthetic_data`, `models`, `model_utils`) likely containing functions for processing attack graph data, generating synthetic data, defining different model architectures (NN, GCN, GAT, GCN_EW), and utility functions for training and evaluating models. The `%load_ext autoreload` and `%autoreload 2` magic commands ensure that changes to these custom modules are automatically reloaded without restarting the kernel."
      ]
    },
    {
      "cell_type": "code",
      "execution_count": null,
      "metadata": {
        "id": "JV144EFFbZpX"
      },
      "outputs": [],
      "source": [
        "%load_ext autoreload\n",
        "%autoreload 2\n",
        "import os\n",
        "import time\n",
        "import random\n",
        "import pandas as pd\n",
        "import numpy as np\n",
        "import matplotlib.pyplot as plt\n",
        "\n",
        "from sklearn.preprocessing import MinMaxScaler\n",
        "from sklearn.model_selection import train_test_split\n",
        "\n",
        "import torch\n",
        "import torch.nn as nn\n",
        "\n",
        "import sys\n",
        "sys.path.append('/content')\n",
        "\n",
        "from ag_utils import Corpus, parse_ag_file, parse_node_properties\n",
        "from synthetic_data import gene_dataset\n",
        "from models import NN, GCN, GAT, GCN_EW\n",
        "from model_utils import train, predict_prob, evaluate_performance"
      ]
    },
    {
      "cell_type": "markdown",
      "metadata": {
        "id": "b2468eaf"
      },
      "source": [
        "### Parse Attack Graph File\n",
        "\n",
        "This cell reads and parses an attack graph file in the .dot format, typically generated by tools like MulVAL.\n",
        "\n",
        "- It specifies the path to the attack graph file (`AttackGraph.dot`).\n",
        "- It calls the `parse_ag_file` function from `ag_utils` to extract nodes, edges, and node properties from the file.\n",
        "- It uses the `parse_node_properties` function to organize the extracted node properties into a dictionary.\n",
        "- It creates a `Corpus` object using the node dictionary to manage node labels and features.\n",
        "- It retrieves the number of tokens, node features, node types, and vocabulary size from the `Corpus` object.\n",
        "- Finally, it prints these statistics, showing the size of the vocabulary, the total number of tokens across all node features, and the shape of the node features tensor."
      ]
    },
    {
      "cell_type": "code",
      "source": [
        "# parse attack graph file generated by MulVAL tool\n",
        "attack_graph_path = '/content/AttackGraph.dot'\n",
        "nodes, edges, node_properties = parse_ag_file(attack_graph_path)\n",
        "node_dict = parse_node_properties(nodes, node_properties)\n",
        "\n",
        "# save node label into corpus object\n",
        "corpus = Corpus(node_dict)\n",
        "num_tokens = corpus.get_num_tokens()\n",
        "node_features = corpus.get_node_features()\n",
        "node_types = corpus.get_node_types()\n",
        "vocab_size = len(corpus.dictionary)\n",
        "print('vocab_size: ', vocab_size)\n",
        "print('num_tokens: ', num_tokens)\n",
        "print('node_features shape: ', node_features.shape)"
      ],
      "metadata": {
        "colab": {
          "base_uri": "https://localhost:8080/"
        },
        "id": "OTYfbNqDexsE",
        "outputId": "d39eef26-a142-43fe-9e41-b6a6e8b69b18"
      },
      "execution_count": null,
      "outputs": [
        {
          "output_type": "stream",
          "name": "stdout",
          "text": [
            "vocab_size:  57\n",
            "num_tokens:  118\n",
            "node_features shape:  torch.Size([26, 57])\n"
          ]
        }
      ]
    },
    {
      "cell_type": "markdown",
      "metadata": {
        "id": "7ba75423"
      },
      "source": [
        "### Attack Graph Statistics\n",
        "\n",
        "This cell calculates and displays statistics about the parsed attack graph.\n",
        "\n",
        "- It determines the total number of nodes from the parsed graph.\n",
        "- It gets the number of features per node from the shape of the `node_features` tensor.\n",
        "- It counts the total number of edges in the graph.\n",
        "- It identifies the \"action nodes\" (likely representing privilege or critical nodes) using the `corpus` object and extracts their indices.\n",
        "- It prints the total number of nodes, the number of node features, the total number of edges, the indices of the action nodes, and the total count of action nodes.\n",
        "- The `action_mask` variable is set to the list of action node indices, which will likely be used later to filter or focus on these specific nodes during model training or evaluation."
      ]
    },
    {
      "cell_type": "code",
      "source": [
        "# statistics of the encoded attack graph\n",
        "num_nodes = len(nodes)\n",
        "print('num_nodes: ', num_nodes)\n",
        "\n",
        "num_node_features = node_features.shape[1]\n",
        "print('num_node_features: ', num_node_features)\n",
        "\n",
        "num_edges = len(edges)\n",
        "print('num_edges: ', num_edges)\n",
        "\n",
        "action_nodes = corpus.get_action_nodes()\n",
        "action_node_idx = list(action_nodes.keys())\n",
        "num_action_nodes = len(action_node_idx)\n",
        "print('action_node_idx: ', action_node_idx)\n",
        "print('num_action_nodes: ', num_action_nodes)\n",
        "\n",
        "# var 'action_mask' is for representing the attack scenarios in attack graph (i.e., the privilege nodes)\n",
        "action_mask = action_node_idx"
      ],
      "metadata": {
        "colab": {
          "base_uri": "https://localhost:8080/"
        },
        "id": "ODq1BzCje2-v",
        "outputId": "0381c852-1dd6-4e25-e356-9c7c275f55cc"
      },
      "execution_count": null,
      "outputs": [
        {
          "output_type": "stream",
          "name": "stdout",
          "text": [
            "num_nodes:  26\n",
            "num_node_features:  57\n",
            "num_edges:  26\n",
            "action_node_idx:  [0, 2, 4, 7, 9, 12, 14]\n",
            "num_action_nodes:  7\n"
          ]
        }
      ]
    },
    {
      "cell_type": "markdown",
      "metadata": {
        "id": "026d251e"
      },
      "source": [
        "### Adjacency Matrix and Edge Index\n",
        "\n",
        "This cell constructs the adjacency matrix and edge index representation of the attack graph, which are common data structures used in graph neural networks.\n",
        "\n",
        "- It initializes a square zero matrix with dimensions equal to the number of nodes to represent the adjacency matrix.\n",
        "- It iterates through the parsed edges. For each edge, it finds the indices of the source and target nodes and sets the corresponding entry in the adjacency matrix to 1, indicating a connection.\n",
        "- It then extracts the `edge_index` from the adjacency matrix. The `nonzero().t().contiguous()` operation finds the coordinates of the non-zero entries (where edges exist), transposes them to get a shape of (2, num_edges), and makes the tensor contiguous in memory.\n",
        "- Finally, it asserts that the shape of the `edge_index` is (2, num_edges), confirming that it correctly represents the source and target nodes for each edge."
      ]
    },
    {
      "cell_type": "code",
      "source": [
        "# adj matrix and edge index\n",
        "adj_matrix = torch.zeros(len(nodes), len(nodes))\n",
        "\n",
        "for edge in edges:\n",
        "    source_node, target_node = edge\n",
        "    source_index = nodes.index(source_node)\n",
        "    target_index = nodes.index(target_node)\n",
        "    adj_matrix[source_index][target_index] = 1\n",
        "\n",
        "edge_index = adj_matrix.nonzero().t().contiguous()\n",
        "\n",
        "assert edge_index.shape[0]==2"
      ],
      "metadata": {
        "id": "3tOL3ktLe7DP"
      },
      "execution_count": null,
      "outputs": []
    },
    {
      "cell_type": "markdown",
      "metadata": {
        "id": "e9c2d6af"
      },
      "source": [
        "### Prepare Synthetic Dataset 1\n",
        "\n",
        "This cell prepares a synthetic dataset (Dataset 1) for training and evaluating the models.\n",
        "\n",
        "- It defines parameters for generating the synthetic data, including the number of benign and malicious samples, the dimension of real-time measurements, and the sampling method ('synthetic').\n",
        "- It calls the `gene_dataset` function from `synthetic_data` to generate the feature matrix `X` and the corresponding labels `Y` based on the specified parameters and the attack graph structure (`action_nodes`).\n",
        "- It calculates the total number of samples.\n",
        "- It applies `MinMaxScaler` to the real-time measurements part of the features to rescale them to a range between 0 and 1.\n",
        "- It then combines the static node features from the attack graph (`node_features`) with the real-time measurements (`X`) by stacking and concatenating them. This creates a combined feature vector for each node in each sample.\n",
        "- Finally, it splits the combined dataset (`X`, `Y`) into training, validation, and test sets using `train_test_split` with a specified test size, random state for reproducibility, and stratification to maintain the proportion of classes in each split. The shapes of the resulting splits are printed."
      ]
    },
    {
      "cell_type": "code",
      "source": [
        "# prepare Dataset 1\n",
        "num_benign = 1500\n",
        "num_malic = 500\n",
        "rt_meas_dim = 78\n",
        "sample_method = 'synthetic'\n",
        "\n",
        "X, Y = gene_dataset(num_benign, num_malic, num_nodes, action_nodes, rt_meas_dim)\n",
        "num_samples = X.shape[0]\n",
        "\n",
        "# rescale the data with min-max scaler\n",
        "scaler = MinMaxScaler(feature_range=(0, 1))\n",
        "X = scaler.fit_transform(X.view(-1, rt_meas_dim))\n",
        "X = torch.from_numpy(X).float().view(num_samples, num_nodes, rt_meas_dim)\n",
        "\n",
        "# associate node features in attack graph with real-time measurements\n",
        "node_feat_ts = torch.stack([node_features for _ in range(len(X))], dim=0)\n",
        "X = torch.cat((node_feat_ts, X), dim=2)\n",
        "\n",
        "# split the data into training, validation and test set\n",
        "X_train, X_test, Y_train, Y_test = train_test_split(X, Y, test_size=0.2, random_state=42, stratify=Y)\n",
        "X_train, X_val, Y_train, Y_val = train_test_split(X_train, Y_train, test_size=0.25, random_state=42, stratify=Y_train)\n",
        "print(X_train.shape, Y_train.shape, X_val.shape, Y_val.shape, X_test.shape, Y_test.shape)"
      ],
      "metadata": {
        "id": "oQO7ypWEfAlL",
        "colab": {
          "base_uri": "https://localhost:8080/"
        },
        "outputId": "e12c1315-d524-4cef-d42f-31856713046a"
      },
      "execution_count": null,
      "outputs": [
        {
          "output_type": "stream",
          "name": "stdout",
          "text": [
            "torch.Size([3000, 26, 135]) torch.Size([3000, 7]) torch.Size([1000, 26, 135]) torch.Size([1000, 7]) torch.Size([1000, 26, 135]) torch.Size([1000, 7])\n"
          ]
        }
      ]
    },
    {
      "cell_type": "markdown",
      "metadata": {
        "id": "51e33f6c"
      },
      "source": [
        "### Load Dataset 1 from Files\n",
        "\n",
        "This cell loads a pre-generated version of Dataset 1 from files, potentially to ensure consistency with results presented in a paper or for faster loading compared to generating it synthetically each time.\n",
        "\n",
        "- It defines the base path for the dataset files.\n",
        "- It loads the training, validation, and test sets for both features (`X`) and labels (`Y`) using `torch.load`, specifying the `sample_method` in the filenames.\n",
        "- It prints the shapes of the loaded tensors to confirm they have been loaded correctly. This suggests that the data generation and splitting in the previous cell might be an alternative or preparation step, and this cell is used to load a specific version of the dataset for the subsequent model training and evaluation."
      ]
    },
    {
      "cell_type": "code",
      "source": [
        "# load Dataset 1 used in the paper\n",
        "data_path = '/content/datasets/'\n",
        "X_train = torch.load(data_path+'X_train-{}.pth'.format(sample_method))\n",
        "X_val   = torch.load(data_path+'X_val-{}.pth'.format(sample_method))\n",
        "X_test  = torch.load(data_path+'X_test-{}.pth'.format(sample_method))\n",
        "Y_train = torch.load(data_path+'Y_train-{}.pth'.format(sample_method))\n",
        "Y_val   = torch.load(data_path+'Y_val-{}.pth'.format(sample_method))\n",
        "Y_test  = torch.load(data_path+'Y_test-{}.pth'.format(sample_method))\n",
        "print(X_train.shape, Y_train.shape, X_val.shape, Y_val.shape, X_test.shape, Y_test.shape)"
      ],
      "metadata": {
        "id": "BufB1IkefGzJ",
        "colab": {
          "base_uri": "https://localhost:8080/"
        },
        "outputId": "85ee4783-eeef-40ad-c646-5114a12beed3"
      },
      "execution_count": null,
      "outputs": [
        {
          "output_type": "stream",
          "name": "stdout",
          "text": [
            "torch.Size([3000, 26, 135]) torch.Size([3000, 7]) torch.Size([1000, 26, 135]) torch.Size([1000, 7]) torch.Size([1000, 26, 135]) torch.Size([1000, 7])\n"
          ]
        }
      ]
    },
    {
      "cell_type": "markdown",
      "metadata": {
        "id": "ba3376f2"
      },
      "source": [
        "### Train the NN Model\n",
        "\n",
        "This cell trains the basic Neural Network (NN) model using the loaded Dataset 1.\n",
        "\n",
        "- It defines hyperparameters for the model and training process, including the input dimension (`in_dim`), hidden dimension (`hidden_dim`), output dimension (`out_dim`), learning rate (`lr`), and the device for training (`cpu` in this case). The input dimension is dynamically set based on the shape of the training data `X_train`.\n",
        "- It initializes the `NN` model with the specified dimensions. It also assigns a name ('NN') and the `action_mask` to the model object.\n",
        "- It sets the number of training epochs and prints the model architecture.\n",
        "- It calls the `train` function (likely from the `model_utils` module) to train the `model_NN`. This function presumably handles the training loop, including forward passes, loss calculation, backward passes, and optimizer updates. It also likely tracks training and validation performance (loss and accuracy) over epochs.\n",
        "- It records the start and end times of the training process and prints the time cost.\n",
        "- Finally, it prints the last recorded training and validation accuracies from the `model_NN.stat` dictionary."
      ]
    },
    {
      "cell_type": "code",
      "source": [
        "# hyperparameters for training\n",
        "in_dim = X_train.shape[-1]  # Use the actual input dim\n",
        "hidden_dim = 20\n",
        "out_dim = 1\n",
        "lr = 0.001\n",
        "device = 'cpu'\n",
        "\n",
        "# Model initialization (only NN)\n",
        "model_NN = NN(in_dim, hidden_dim, out_dim)  # <-- use in_dim, not rt_meas_dim\n",
        "model_NN.name = 'NN'\n",
        "model_NN.action_mask = action_mask\n",
        "\n",
        "num_epochs = 200  # Approximate early stopping point in paper\n",
        "\n",
        "print(f'{model_NN.name} start training...')\n",
        "time_start = time.time()\n",
        "print('model: ', model_NN)\n",
        "\n",
        "train(model_NN, lr, num_epochs, X_train, Y_train, X_val, Y_val, edge_index, in_dim, device)\n",
        "\n",
        "time_end = time.time()\n",
        "print('time cost: ', time_end - time_start)\n",
        "print(f'{model_NN.name} training finished!')\n",
        "\n",
        "print(f'{model_NN.name} accuracy on training set: {model_NN.stat[\"acc_train\"][-1]}')\n",
        "print(f'{model_NN.name} accuracy on validation set: {model_NN.stat[\"acc_val\"][-1]}')"
      ],
      "metadata": {
        "colab": {
          "base_uri": "https://localhost:8080/"
        },
        "id": "h18psscdwRgC",
        "outputId": "969cb9b1-e0a1-47eb-8bc2-eb3d39e01418"
      },
      "execution_count": null,
      "outputs": [
        {
          "output_type": "stream",
          "name": "stdout",
          "text": [
            "NN start training...\n",
            "model:  NN(\n",
            "  (lin1): Linear(in_features=135, out_features=20, bias=True)\n",
            "  (lin2): Linear(in_features=20, out_features=20, bias=True)\n",
            "  (out_layer): Linear(in_features=20, out_features=1, bias=True)\n",
            ")\n",
            "Epoch: 010, Training Loss: 0.5147, Traning Accuracy: 0.8631, Validation Loss: 0.5413, Validation Accuracy: 0.8614\n",
            "Epoch: 020, Training Loss: 0.3809, Traning Accuracy: 0.9010, Validation Loss: 0.4188, Validation Accuracy: 0.8997\n",
            "Epoch: 030, Training Loss: 0.3104, Traning Accuracy: 0.9260, Validation Loss: 0.3519, Validation Accuracy: 0.9230\n",
            "Epoch: 040, Training Loss: 0.2775, Traning Accuracy: 0.9373, Validation Loss: 0.3361, Validation Accuracy: 0.9326\n",
            "Epoch: 050, Training Loss: 0.2504, Traning Accuracy: 0.9461, Validation Loss: 0.3224, Validation Accuracy: 0.9396\n",
            "Epoch: 060, Training Loss: 0.2291, Traning Accuracy: 0.9508, Validation Loss: 0.3172, Validation Accuracy: 0.9450\n",
            "Epoch: 070, Training Loss: 0.2163, Traning Accuracy: 0.9538, Validation Loss: 0.3179, Validation Accuracy: 0.9490\n",
            "Epoch: 080, Training Loss: 0.2059, Traning Accuracy: 0.9551, Validation Loss: 0.3151, Validation Accuracy: 0.9509\n",
            "Epoch: 090, Training Loss: 0.1990, Traning Accuracy: 0.9572, Validation Loss: 0.3180, Validation Accuracy: 0.9520\n",
            "Epoch: 100, Training Loss: 0.1912, Traning Accuracy: 0.9578, Validation Loss: 0.3165, Validation Accuracy: 0.9521\n",
            "Epoch: 110, Training Loss: 0.1845, Traning Accuracy: 0.9586, Validation Loss: 0.3178, Validation Accuracy: 0.9523\n",
            "Epoch: 120, Training Loss: 0.1767, Traning Accuracy: 0.9577, Validation Loss: 0.3139, Validation Accuracy: 0.9513\n",
            "Epoch: 130, Training Loss: 0.1694, Traning Accuracy: 0.9592, Validation Loss: 0.3119, Validation Accuracy: 0.9529\n",
            "Epoch: 140, Training Loss: 0.1599, Traning Accuracy: 0.9607, Validation Loss: 0.3034, Validation Accuracy: 0.9540\n",
            "Epoch: 150, Training Loss: 0.1494, Traning Accuracy: 0.9597, Validation Loss: 0.2870, Validation Accuracy: 0.9540\n",
            "Epoch: 160, Training Loss: 0.1437, Traning Accuracy: 0.9591, Validation Loss: 0.2801, Validation Accuracy: 0.9530\n",
            "Epoch: 170, Training Loss: 0.1383, Traning Accuracy: 0.9602, Validation Loss: 0.2764, Validation Accuracy: 0.9546\n",
            "Epoch: 180, Training Loss: 0.1337, Traning Accuracy: 0.9611, Validation Loss: 0.2747, Validation Accuracy: 0.9550\n",
            "Epoch: 190, Training Loss: 0.1288, Traning Accuracy: 0.9633, Validation Loss: 0.2737, Validation Accuracy: 0.9561\n",
            "Epoch: 200, Training Loss: 0.1302, Traning Accuracy: 0.9606, Validation Loss: 0.2729, Validation Accuracy: 0.9534\n",
            "time cost:  47.682836294174194\n",
            "NN training finished!\n",
            "NN accuracy on training set: 0.9605714285714285\n",
            "NN accuracy on validation set: 0.9534285714285714\n"
          ]
        }
      ]
    },
    {
      "cell_type": "markdown",
      "metadata": {
        "id": "0955e84e"
      },
      "source": [
        "### Evaluate the Trained NN Model\n",
        "\n",
        "This cell evaluates the performance of the trained basic Neural Network (NN) model on the test set.\n",
        "\n",
        "- It defines a function `evaluate_trained_nn` that takes the trained `model`, test features `X_test`, test labels `Y_test`, device, and a prediction `threshold` as input.\n",
        "- Inside the function, it sets the model to evaluation mode (`model.eval()`) and moves it to the specified device.\n",
        "- It performs a forward pass on the test data to get the raw `logits`.\n",
        "- It handles potential differences in the shape of `logits` (e.g., (B, N) or (B, N, 1)).\n",
        "- It uses the `action_mask` to select the logits and true labels corresponding to the vulnerable nodes.\n",
        "- It calculates the probabilities by applying the sigmoid function to the selected logits.\n",
        "- It converts the true labels to a flattened numpy array.\n",
        "- It generates binary predictions based on the specified `threshold`.\n",
        "- It calculates various evaluation metrics (TP, FP, TN, FN, precision, recall, F1-score, FPR, FNR, and AUC) based on the predicted and true labels.\n",
        "- It returns a pandas DataFrame containing these metrics for the NN model.\n",
        "- Finally, it calls the `evaluate_trained_nn` function with the trained `model_NN`, test data, device, and a threshold of 0.5, and prints the resulting DataFrame."
      ]
    },
    {
      "cell_type": "code",
      "source": [
        "import torch\n",
        "import pandas as pd\n",
        "from sklearn.metrics import precision_score, recall_score, f1_score, roc_auc_score\n",
        "import numpy as np\n",
        "\n",
        "@torch.no_grad()\n",
        "def evaluate_trained_nn(model, X_test, Y_test, device='cpu', threshold=0.5):\n",
        "    model.eval()\n",
        "    model.to(device)\n",
        "    X_test = X_test.to(device)\n",
        "    Y_test = Y_test.to(device)\n",
        "\n",
        "    # Forward pass\n",
        "    logits = model(X_test)  # (B, N) or (B, N, 1)\n",
        "    if logits.ndim == 3 and logits.size(-1) == 1:\n",
        "        logits = logits.squeeze(-1)\n",
        "\n",
        "    # Indices of vulnerable nodes (list)\n",
        "    idx = torch.as_tensor(model.action_mask, dtype=torch.long, device=device)\n",
        "\n",
        "    # Align node dimension between logits and labels\n",
        "    N_logits = logits.shape[1]\n",
        "    N_labels = Y_test.shape[1]\n",
        "\n",
        "    if N_logits == N_labels:\n",
        "        # Both are full graphs -> index both\n",
        "        logits_sel = logits.index_select(1, idx)\n",
        "        Y_sel     = Y_test.index_select(1, idx)\n",
        "    elif N_labels == idx.numel() and N_logits > N_labels:\n",
        "        # Labels already masked to vulnerable nodes -> only index logits\n",
        "        logits_sel = logits.index_select(1, idx)\n",
        "        Y_sel     = Y_test\n",
        "    elif N_logits == idx.numel() and N_labels > N_logits:\n",
        "        # Logits already masked (rare) -> only index labels\n",
        "        logits_sel = logits\n",
        "        Y_sel     = Y_test.index_select(1, idx)\n",
        "    else:\n",
        "        raise ValueError(\n",
        "            f\"Mismatch: logits nodes={N_logits}, labels nodes={N_labels}, \"\n",
        "            f\"indices={idx.numel()}. Can't align automatically.\"\n",
        "        )\n",
        "\n",
        "    # Probabilities & predictions\n",
        "    probs = torch.sigmoid(logits_sel).detach().cpu().numpy().ravel()\n",
        "    y_true = Y_sel.detach().cpu().numpy().astype(int).ravel()\n",
        "    preds = (probs >= threshold).astype(int)\n",
        "\n",
        "    # Metrics (micro/pooled)\n",
        "    TP = int(((preds == 1) & (y_true == 1)).sum())\n",
        "    FP = int(((preds == 1) & (y_true == 0)).sum())\n",
        "    TN = int(((preds == 0) & (y_true == 0)).sum())\n",
        "    FN = int(((preds == 0) & (y_true == 1)).sum())\n",
        "\n",
        "    precision = TP / (TP + FP + 1e-12)\n",
        "    recall    = TP / (TP + FN + 1e-12)\n",
        "    f1        = 2 * precision * recall / (precision + recall + 1e-12)\n",
        "    fpr       = FP / (FP + TN + 1e-12)\n",
        "    fnr       = FN / (FN + TP + 1e-12)\n",
        "    auc       = roc_auc_score(y_true, probs) if len(np.unique(y_true)) == 2 else float('nan')\n",
        "\n",
        "    # Paper-style DataFrame\n",
        "    return pd.DataFrame([{\n",
        "        'Model': 'NN',\n",
        "        'Precision': round(precision * 100, 2),\n",
        "        'Recall':    round(recall * 100, 2),\n",
        "        'F1-score':  round(f1 * 100, 2),\n",
        "        'AUC':       round(auc * 100, 2),\n",
        "        'FPR':       round(fpr * 100, 2),\n",
        "        'FNR':       round(fnr * 100, 2),\n",
        "        'TP': TP, 'FP': FP, 'TN': TN, 'FN': FN\n",
        "    }])\n",
        "\n",
        "# ---- Usage after training ----\n",
        "df_nn = evaluate_trained_nn(model_NN, X_test, Y_test, device=device, threshold=0.5)\n",
        "print(df_nn)"
      ],
      "metadata": {
        "colab": {
          "base_uri": "https://localhost:8080/"
        },
        "id": "-7kgeONsxHxO",
        "outputId": "5f2b917f-ce11-41e3-982c-a54d54d5a7b0"
      },
      "execution_count": null,
      "outputs": [
        {
          "output_type": "stream",
          "name": "stdout",
          "text": [
            "  Model  Precision  Recall  F1-score    AUC   FPR   FNR   TP   FP    TN  FN\n",
            "0    NN      68.82   95.86     80.12  98.83  4.83  4.14  671  304  5996  29\n"
          ]
        }
      ]
    },
    {
      "cell_type": "markdown",
      "metadata": {
        "id": "9a786b24"
      },
      "source": [
        "### Individual Case Analysis Setup\n",
        "\n",
        "This cell sets up for analyzing an individual case from the test set, likely to understand the model's predictions and potentially use explainability techniques on a specific example.\n",
        "\n",
        "- It initializes a flag `found` to `False`.\n",
        "- It enters a `while` loop that continues until a suitable case is found.\n",
        "- Inside the loop, it randomly selects an index (`indi_case_id`) from the test set.\n",
        "- It checks if the true label for the selected case (`Y_test[indi_case_id]`) indicates the presence of a malicious activity (sum of labels is not zero). This is done to ensure the selected case is an interesting one with at least one vulnerable node affected.\n",
        "- If a malicious case is found, the flag `found` is set to `True`, and the loop terminates.\n",
        "- The index of the selected individual case is printed.\n",
        "- The feature vector for the selected case (`X_test[indi_case_id]`) is extracted and an extra dimension is added using `unsqueeze(0)` to make it compatible with model inputs which typically expect a batch dimension (even for a single sample)."
      ]
    },
    {
      "cell_type": "code",
      "source": [
        "from torch_geometric.data import Data\n",
        "from torch_geometric.explain import GNNExplainer, Explainer\n",
        "\n",
        "# individual case analysis\n",
        "found = False\n",
        "while not found:\n",
        "    indi_case_id = torch.randint(0, X_test.shape[0], (1,)).item()\n",
        "    y_true = Y_test[indi_case_id]\n",
        "    if y_true.sum() != 0:\n",
        "        found = True\n",
        "        print('indi_case_id: ', indi_case_id)\n",
        "\n",
        "indi_case_x = X_test[indi_case_id]\n",
        "indi_case_x = indi_case_x.unsqueeze(0)"
      ],
      "metadata": {
        "id": "pBIBaXb7ftCu",
        "colab": {
          "base_uri": "https://localhost:8080/"
        },
        "outputId": "d7561852-4e9f-44e2-a5fd-211ae14a49d7"
      },
      "execution_count": null,
      "outputs": [
        {
          "output_type": "stream",
          "name": "stdout",
          "text": [
            "indi_case_id:  68\n"
          ]
        }
      ]
    },
    {
      "cell_type": "markdown",
      "source": [
        "# **Improvments for Better NN**"
      ],
      "metadata": {
        "id": "9aaHUIvu8g_Y"
      }
    },
    {
      "cell_type": "markdown",
      "metadata": {
        "id": "3a4d9480"
      },
      "source": [
        "### Helper Functions and Tensor Alignment\n",
        "\n",
        "This cell defines several helper functions designed to improve the training and evaluation process, particularly for handling the structure of the data and model outputs in the context of attack graphs.\n",
        "\n",
        "- It imports necessary libraries from `torch` and `sklearn.metrics`.\n",
        "- It sets the device to 'cuda' if available, otherwise 'cpu'.\n",
        "- `set_seed`: A utility function to set random seeds for reproducibility across different libraries (`random`, `numpy`, `torch`).\n",
        "- `_to_idx_tensor`: Ensures an action mask is a PyTorch tensor on the correct device.\n",
        "- `_align_logits_labels`: This crucial function aligns the model's output logits (which might be for all nodes in the graph) and the true labels (which might only be for the \"action nodes\") so they refer to the same set of nodes before calculating loss or metrics. It handles different scenarios of input shapes.\n",
        "- `_compute_pos_weight`: Calculates the positive class weight for the BCEWithLogitsLoss, focusing only on the action nodes to address potential class imbalance.\n",
        "- `val_auc`: Computes the Area Under the ROC Curve (AUC) on the validation set. It iterates through the data in batches, uses `_align_logits_labels` to get relevant probabilities and labels, and then calculates the AUC.\n",
        "- `collect_probs_and_labels`: Collects predicted probabilities and true labels for a given dataset (e.g., validation or test set) by iterating through batches and using `_align_logits_labels`.\n",
        "- `find_best_threshold`: Finds the optimal classification threshold on a validation set that maximizes a specified metric (default is accuracy). It searches across a range of threshold values."
      ]
    },
    {
      "cell_type": "code",
      "source": [
        "# ==== CELL 1 (fixed): Helpers & alignment ====\n",
        "import math, copy, numpy as np, torch, torch.nn as nn\n",
        "from torch.utils.data import TensorDataset, DataLoader\n",
        "from sklearn.metrics import roc_auc_score\n",
        "\n",
        "device = 'cuda' if torch.cuda.is_available() else 'cpu'\n",
        "print(\"Device:\", device)\n",
        "\n",
        "def set_seed(seed=42):\n",
        "    import random\n",
        "    random.seed(seed); np.random.seed(seed); torch.manual_seed(seed)\n",
        "    if torch.cuda.is_available():\n",
        "        torch.cuda.manual_seed_all(seed)\n",
        "        torch.backends.cudnn.deterministic = True\n",
        "        torch.backends.cudnn.benchmark = False\n",
        "\n",
        "idx_action = torch.as_tensor(action_mask, dtype=torch.long)\n",
        "\n",
        "def align_logits_labels(logits, Y, idx_action):\n",
        "    \"\"\"\n",
        "    Make logits and Y refer to the same node set (either full-graph or action-only).\n",
        "    Handles these cases:\n",
        "      - both full -> index both by action indices\n",
        "      - labels action-only, logits full -> index logits\n",
        "      - logits action-only, labels full -> index labels\n",
        "      - both action-only -> pass through\n",
        "    \"\"\"\n",
        "    if logits.ndim == 3 and logits.size(-1) == 1:\n",
        "        logits = logits.squeeze(-1)\n",
        "\n",
        "    Nl = logits.shape[1]\n",
        "    Ny = Y.shape[1]\n",
        "    Ia = idx_action.numel()\n",
        "    idx = idx_action.to(logits.device)\n",
        "\n",
        "    if Nl == Ny:\n",
        "        if Ny == Ia:\n",
        "            return logits, Y                  # both already action-only\n",
        "        else:\n",
        "            return logits.index_select(1, idx), Y.index_select(1, idx)  # both full\n",
        "    elif Ny == Ia and Nl > Ny:\n",
        "        return logits.index_select(1, idx), Y  # labels action-only, logits full\n",
        "    elif Nl == Ia and Ny > Nl:\n",
        "        return logits, Y.index_select(1, idx)  # logits action-only, labels full\n",
        "    else:\n",
        "        raise ValueError(f\"Cannot align: logits nodes={Nl}, labels nodes={Ny}, action={Ia}\")\n",
        "\n",
        "def compute_pos_weight(Y):\n",
        "    \"\"\"\n",
        "    Compute pos_weight over action nodes WITHOUT blindly re-indexing if Y is already masked.\n",
        "    \"\"\"\n",
        "    y = Y\n",
        "    if y.ndim == 3: y = y.squeeze(-1)\n",
        "    Ia = idx_action.numel()\n",
        "    if y.shape[1] != Ia and y.shape[1] > Ia:\n",
        "        y = y.index_select(1, idx_action.to(y.device))  # y was full -> make action-only\n",
        "    # else: already action-only\n",
        "\n",
        "    pos = y.sum().item()\n",
        "    neg = y.numel() - pos\n",
        "    if pos < 1:\n",
        "        return torch.tensor(1.0, dtype=torch.float32, device=device)\n",
        "    return torch.tensor(neg / pos, dtype=torch.float32, device=device)\n",
        "\n",
        "@torch.no_grad()\n",
        "def val_auc(model, Xv, Yv, batch_size=256):\n",
        "    model.eval()\n",
        "    probs_all, y_all = [], []\n",
        "    for i in range(0, Xv.shape[0], batch_size):\n",
        "        xb = Xv[i:i+batch_size].to(device)\n",
        "        yb = Yv[i:i+batch_size].to(device).float()\n",
        "        logits = model(xb)\n",
        "        logits_sel, y_sel = align_logits_labels(logits, yb, idx_action)\n",
        "        probs = torch.sigmoid(logits_sel)\n",
        "        probs_all.append(probs.detach().cpu().flatten().numpy())\n",
        "        y_all.append(y_sel.detach().cpu().flatten().numpy())\n",
        "    y = np.concatenate(y_all)\n",
        "    p = np.concatenate(probs_all)\n",
        "    if len(np.unique(y)) < 2:\n",
        "        return float('nan')\n",
        "    return roc_auc_score(y, p)\n",
        "\n",
        "@torch.no_grad()\n",
        "def collect_probs_and_labels(model, X, Y, batch_size=256):\n",
        "    model.eval()\n",
        "    pa, ya = [], []\n",
        "    for i in range(0, X.shape[0], batch_size):\n",
        "        xb = X[i:i+batch_size].to(device)\n",
        "        yb = Y[i:i+batch_size].to(device).float()\n",
        "        logits = model(xb)\n",
        "        logits_sel, y_sel = align_logits_labels(logits, yb, idx_action)\n",
        "        pa.append(torch.sigmoid(logits_sel).detach().cpu().numpy().ravel())\n",
        "        ya.append(y_sel.detach().cpu().numpy().ravel())\n",
        "    return np.concatenate(pa), np.concatenate(ya)\n",
        "\n",
        "def find_best_threshold(y_true, y_prob, metric=\"acc\"):\n",
        "    best_t, best_v = 0.5, -1\n",
        "    for t in np.linspace(0.05, 0.95, 91):\n",
        "        pred = (y_prob >= t).astype(int)\n",
        "        if metric == \"f1\":\n",
        "            tp = ((pred==1)&(y_true==1)).sum()\n",
        "            fp = ((pred==1)&(y_true==0)).sum()\n",
        "            fn = ((pred==0)&(y_true==1)).sum()\n",
        "            prec = tp/(tp+fp+1e-12); rec = tp/(tp+fn+1e-12)\n",
        "            val = 2*prec*rec/(prec+rec+1e-12)\n",
        "        else:\n",
        "            val = (pred==y_true).mean()\n",
        "        if val > best_v:\n",
        "            best_v, best_t = val, float(t)\n",
        "    return best_t, best_v"
      ],
      "metadata": {
        "colab": {
          "base_uri": "https://localhost:8080/"
        },
        "id": "YPvlSteDu5Rs",
        "outputId": "b6a3044c-5d24-499f-863d-2aac69d5db82"
      },
      "execution_count": null,
      "outputs": [
        {
          "output_type": "stream",
          "name": "stdout",
          "text": [
            "Device: cpu\n"
          ]
        }
      ]
    },
    {
      "cell_type": "markdown",
      "metadata": {
        "id": "9069284e"
      },
      "source": [
        "### Improvements for Better NN\n",
        "\n",
        "This is a markdown cell serving as a heading to indicate that the following code cells will focus on improving the Neural Network model's performance."
      ]
    },
    {
      "cell_type": "markdown",
      "metadata": {
        "id": "118a13ae"
      },
      "source": [
        "### Better Neural Network Model Architecture\n",
        "\n",
        "This cell defines a new and improved Neural Network model called `BetterNN`.\n",
        "\n",
        "- It inherits from `torch.nn.Module`.\n",
        "- The architecture includes two linear layers with Batch Normalization and GELU activation, followed by a Dropout layer.\n",
        "- A residual connection is added between the output of the first block and the input to the final output layer.\n",
        "- The `forward` method reshapes the input tensor from (Batch, Nodes, Features) to (Batch * Nodes, Features) to apply the same MLP independently to each node's features.\n",
        "- After passing through the layers, the output is reshaped back to (Batch, Nodes, Output_dim) and the last dimension is squeezed if it's 1, resulting in (Batch, Nodes).\n",
        "- The model stores its name (\"BetterNN\") and the `action_mask`."
      ]
    },
    {
      "cell_type": "code",
      "source": [
        "# ==== CELL 2: Better NN ====\n",
        "class BetterNN(nn.Module):\n",
        "    \"\"\"\n",
        "    A stronger per-node MLP:\n",
        "    [Linear -> BN -> GELU -> Dropout] x 2 + residual + Linear(out)\n",
        "    It processes each node's features and outputs a logit per node.\n",
        "    \"\"\"\n",
        "    def __init__(self, in_dim, hidden=128, out_dim=1, p_drop=0.25):\n",
        "        super().__init__()\n",
        "        self.fc1 = nn.Linear(in_dim, hidden)\n",
        "        self.bn1 = nn.BatchNorm1d(hidden)\n",
        "        self.fc2 = nn.Linear(hidden, hidden)\n",
        "        self.bn2 = nn.BatchNorm1d(hidden)\n",
        "        self.act = nn.GELU()\n",
        "        self.drop = nn.Dropout(p_drop)\n",
        "        self.out = nn.Linear(hidden, out_dim)\n",
        "        self.name = \"BetterNN\"\n",
        "        self.action_mask = action_mask  # keep for your evaluator\n",
        "\n",
        "    def forward(self, x):\n",
        "        # x: (B, N, D) -> flatten nodes into the batch, apply same MLP to each node\n",
        "        B, N, D = x.shape\n",
        "        x = x.view(B*N, D)\n",
        "        h1 = self.drop(self.act(self.bn1(self.fc1(x))))\n",
        "        h2 = self.drop(self.act(self.bn2(self.fc2(h1))))\n",
        "        h = h1 + h2  # residual connection\n",
        "        out = self.out(h)  # (B*N, 1)\n",
        "        out = out.view(B, N, -1).squeeze(-1)  # (B, N)\n",
        "        return out"
      ],
      "metadata": {
        "id": "cPDlNy_U8-XF"
      },
      "execution_count": null,
      "outputs": []
    },
    {
      "cell_type": "markdown",
      "metadata": {
        "id": "1e7b17a3"
      },
      "source": [
        "### Training Function for Better NN\n",
        "\n",
        "This cell defines a more advanced training function specifically for the `BetterNN` model, incorporating features like early stopping, learning rate scheduling (OneCycleLR), and mixed precision training (if CUDA is available).\n",
        "\n",
        "- It takes training and validation data (`Xtr`, `Ytr`, `Xval`, `Yval`), model parameters (`in_dim`, `hidden`), optimizer parameters (`lr`, `weight_decay`), training parameters (`batch_size`, `epochs`, `patience`), and a random seed.\n",
        "- It sets the random seed for reproducibility.\n",
        "- It initializes the `BetterNN` model and moves it to the selected `device`.\n",
        "- It calculates the positive class weight using `compute_pos_weight` for the `BCEWithLogitsLoss` to handle class imbalance.\n",
        "- It creates `TensorDataset` and `DataLoader` objects for the training and validation data.\n",
        "- It sets up the AdamW optimizer and the OneCycleLR learning rate scheduler.\n",
        "- It initializes variables for tracking the best validation AUC and early stopping patience.\n",
        "- It initializes a `GradScaler` for mixed precision training if CUDA is available.\n",
        "- The training loop iterates for the specified number of epochs.\n",
        "- Inside the loop, it sets the model to training mode, iterates through the training data loader, performs forward and backward passes with mixed precision (if enabled), updates the optimizer and scheduler.\n",
        "- After each epoch, it evaluates the model's AUC on the validation set using `val_auc`.\n",
        "- It checks for improvement in validation AUC and saves the best model state.\n",
        "- If validation AUC does not improve for `patience` epochs, early stopping is triggered.\n",
        "- After training (or early stopping), it loads the best model state.\n",
        "- Finally, it performs threshold calibration on the validation set using `collect_probs_and_labels` and `find_best_threshold` to find the best threshold for maximizing accuracy. It prints the best threshold and the corresponding validation accuracy and returns the trained model, the best threshold, and the best validation AUC."
      ]
    },
    {
      "cell_type": "code",
      "source": [
        "# ==== CELL 3 (fixed): Training with early stopping & scheduler ====\n",
        "def train_better_nn(\n",
        "    Xtr, Ytr, Xval, Yval,\n",
        "    in_dim, hidden=128, lr=2e-3, weight_decay=1e-2,\n",
        "    batch_size=128, epochs=80, patience=15, seed=42\n",
        "):\n",
        "    set_seed(seed)\n",
        "    model = BetterNN(in_dim=in_dim, hidden=hidden).to(device)\n",
        "    pos_w = compute_pos_weight(Ytr)\n",
        "    criterion = nn.BCEWithLogitsLoss(pos_weight=pos_w)\n",
        "\n",
        "    ds_tr = TensorDataset(Xtr, Ytr)\n",
        "    ds_va = TensorDataset(Xval, Yval)\n",
        "    dl_tr = DataLoader(ds_tr, batch_size=batch_size, shuffle=True, drop_last=False)\n",
        "    dl_va = DataLoader(ds_va, batch_size=batch_size, shuffle=False, drop_last=False)\n",
        "\n",
        "    optimizer = torch.optim.AdamW(model.parameters(), lr=lr, weight_decay=weight_decay)\n",
        "    steps_per_epoch = max(1, len(dl_tr))\n",
        "    scheduler = torch.optim.lr_scheduler.OneCycleLR(\n",
        "        optimizer, max_lr=lr, epochs=epochs, steps_per_epoch=steps_per_epoch\n",
        "    )\n",
        "\n",
        "    best_auc = -1\n",
        "    best_state = None\n",
        "    wait = 0\n",
        "\n",
        "    scaler = torch.cuda.amp.GradScaler(enabled=(device=='cuda'))\n",
        "\n",
        "    for ep in range(1, epochs+1):\n",
        "        model.train()\n",
        "        total_loss = 0.0\n",
        "\n",
        "        for xb, yb in dl_tr:\n",
        "            xb = xb.to(device)\n",
        "            yb = yb.to(device).float()\n",
        "\n",
        "            optimizer.zero_grad(set_to_none=True)\n",
        "            with torch.cuda.amp.autocast(enabled=(device=='cuda')):\n",
        "                logits = model(xb)                                # (B, N) or (B, #action)\n",
        "                logits_sel, y_sel = align_logits_labels(logits, yb, idx_action)\n",
        "                loss = criterion(logits_sel, y_sel)\n",
        "\n",
        "            scaler.scale(loss).backward()\n",
        "            scaler.step(optimizer)\n",
        "            scaler.update()\n",
        "            scheduler.step()\n",
        "            total_loss += loss.item()\n",
        "\n",
        "        va_auc = val_auc(model, Xval, Yval)\n",
        "        print(f\"Epoch {ep:03d} | train_loss={total_loss/len(dl_tr):.4f} | val_AUC={va_auc:.4f}\")\n",
        "\n",
        "        if va_auc > best_auc:\n",
        "            best_auc = va_auc\n",
        "            best_state = copy.deepcopy(model.state_dict())\n",
        "            wait = 0\n",
        "        else:\n",
        "            wait += 1\n",
        "            if wait >= patience:\n",
        "                print(f\"Early stopping at epoch {ep}. Best val AUC = {best_auc:.4f}\")\n",
        "                break\n",
        "\n",
        "    if best_state is not None:\n",
        "        model.load_state_dict(best_state)\n",
        "\n",
        "    # Threshold calibration\n",
        "    p_val, y_val = collect_probs_and_labels(model, Xval, Yval)\n",
        "    best_thr, best_metric = find_best_threshold(y_val, p_val, metric=\"acc\")\n",
        "    print(f\"Best threshold on val = {best_thr:.2f} (val-acc={best_metric*100:.2f}%)\")\n",
        "\n",
        "    return model, best_thr, best_auc"
      ],
      "metadata": {
        "id": "OiK21tAJ9HKW"
      },
      "execution_count": null,
      "outputs": []
    },
    {
      "cell_type": "markdown",
      "metadata": {
        "id": "795b91f9"
      },
      "source": [
        "### Train a Single Stronger BetterNN Model\n",
        "\n",
        "This cell trains an instance of the `BetterNN` model using the improved training function defined in the previous cell.\n",
        "\n",
        "- It gets the input dimension from the training data shape.\n",
        "- It calls the `train_better_nn` function with the training and validation data, specifying hyperparameters like hidden dimension, learning rate, weight decay, batch size, number of epochs, and patience for early stopping.\n",
        "- The `train_better_nn` function returns the trained model (`model_bnn`), the best threshold found on the validation set (`thr_bnn`), and the best validation AUC (`valAUC`).\n",
        "- The output shows the training progress, including the loss and validation AUC for each epoch, and indicates when early stopping occurs. It also prints the best threshold found on the validation set and the corresponding validation accuracy."
      ]
    },
    {
      "cell_type": "code",
      "source": [
        "# ==== CELL 4: Single strong model ====\n",
        "in_dim = X_train.shape[-1]\n",
        "model_bnn, thr_bnn, valAUC = train_better_nn(\n",
        "    X_train, Y_train, X_val, Y_val,\n",
        "    in_dim=in_dim,\n",
        "    hidden=128,      # try 128 or 192\n",
        "    lr=2e-3,         # a bit higher for OneCycle\n",
        "    weight_decay=1e-2,\n",
        "    batch_size=128,\n",
        "    epochs=120,      # give it time; early stopping will cut it\n",
        "    patience=20,\n",
        "    seed=42\n",
        ")"
      ],
      "metadata": {
        "colab": {
          "base_uri": "https://localhost:8080/"
        },
        "id": "7M4IwDXS9LrZ",
        "outputId": "d87943c4-19dc-4c48-eff8-20866ab89954"
      },
      "execution_count": null,
      "outputs": [
        {
          "output_type": "stream",
          "name": "stderr",
          "text": [
            "/tmp/ipython-input-1453774956.py:27: FutureWarning: `torch.cuda.amp.GradScaler(args...)` is deprecated. Please use `torch.amp.GradScaler('cuda', args...)` instead.\n",
            "  scaler = torch.cuda.amp.GradScaler(enabled=(device=='cuda'))\n",
            "/tmp/ipython-input-1453774956.py:38: FutureWarning: `torch.cuda.amp.autocast(args...)` is deprecated. Please use `torch.amp.autocast('cuda', args...)` instead.\n",
            "  with torch.cuda.amp.autocast(enabled=(device=='cuda')):\n"
          ]
        },
        {
          "output_type": "stream",
          "name": "stdout",
          "text": [
            "Epoch 001 | train_loss=1.2618 | val_AUC=0.6641\n"
          ]
        },
        {
          "output_type": "stream",
          "name": "stderr",
          "text": [
            "/tmp/ipython-input-1453774956.py:38: FutureWarning: `torch.cuda.amp.autocast(args...)` is deprecated. Please use `torch.amp.autocast('cuda', args...)` instead.\n",
            "  with torch.cuda.amp.autocast(enabled=(device=='cuda')):\n"
          ]
        },
        {
          "output_type": "stream",
          "name": "stdout",
          "text": [
            "Epoch 002 | train_loss=1.1805 | val_AUC=0.7880\n"
          ]
        },
        {
          "output_type": "stream",
          "name": "stderr",
          "text": [
            "/tmp/ipython-input-1453774956.py:38: FutureWarning: `torch.cuda.amp.autocast(args...)` is deprecated. Please use `torch.amp.autocast('cuda', args...)` instead.\n",
            "  with torch.cuda.amp.autocast(enabled=(device=='cuda')):\n"
          ]
        },
        {
          "output_type": "stream",
          "name": "stdout",
          "text": [
            "Epoch 003 | train_loss=1.1073 | val_AUC=0.8519\n"
          ]
        },
        {
          "output_type": "stream",
          "name": "stderr",
          "text": [
            "/tmp/ipython-input-1453774956.py:38: FutureWarning: `torch.cuda.amp.autocast(args...)` is deprecated. Please use `torch.amp.autocast('cuda', args...)` instead.\n",
            "  with torch.cuda.amp.autocast(enabled=(device=='cuda')):\n"
          ]
        },
        {
          "output_type": "stream",
          "name": "stdout",
          "text": [
            "Epoch 004 | train_loss=1.0300 | val_AUC=0.8870\n"
          ]
        },
        {
          "output_type": "stream",
          "name": "stderr",
          "text": [
            "/tmp/ipython-input-1453774956.py:38: FutureWarning: `torch.cuda.amp.autocast(args...)` is deprecated. Please use `torch.amp.autocast('cuda', args...)` instead.\n",
            "  with torch.cuda.amp.autocast(enabled=(device=='cuda')):\n"
          ]
        },
        {
          "output_type": "stream",
          "name": "stdout",
          "text": [
            "Epoch 005 | train_loss=0.9470 | val_AUC=0.9088\n"
          ]
        },
        {
          "output_type": "stream",
          "name": "stderr",
          "text": [
            "/tmp/ipython-input-1453774956.py:38: FutureWarning: `torch.cuda.amp.autocast(args...)` is deprecated. Please use `torch.amp.autocast('cuda', args...)` instead.\n",
            "  with torch.cuda.amp.autocast(enabled=(device=='cuda')):\n"
          ]
        },
        {
          "output_type": "stream",
          "name": "stdout",
          "text": [
            "Epoch 006 | train_loss=0.8414 | val_AUC=0.9291\n"
          ]
        },
        {
          "output_type": "stream",
          "name": "stderr",
          "text": [
            "/tmp/ipython-input-1453774956.py:38: FutureWarning: `torch.cuda.amp.autocast(args...)` is deprecated. Please use `torch.amp.autocast('cuda', args...)` instead.\n",
            "  with torch.cuda.amp.autocast(enabled=(device=='cuda')):\n"
          ]
        },
        {
          "output_type": "stream",
          "name": "stdout",
          "text": [
            "Epoch 007 | train_loss=0.7380 | val_AUC=0.9496\n"
          ]
        },
        {
          "output_type": "stream",
          "name": "stderr",
          "text": [
            "/tmp/ipython-input-1453774956.py:38: FutureWarning: `torch.cuda.amp.autocast(args...)` is deprecated. Please use `torch.amp.autocast('cuda', args...)` instead.\n",
            "  with torch.cuda.amp.autocast(enabled=(device=='cuda')):\n"
          ]
        },
        {
          "output_type": "stream",
          "name": "stdout",
          "text": [
            "Epoch 008 | train_loss=0.6368 | val_AUC=0.9658\n"
          ]
        },
        {
          "output_type": "stream",
          "name": "stderr",
          "text": [
            "/tmp/ipython-input-1453774956.py:38: FutureWarning: `torch.cuda.amp.autocast(args...)` is deprecated. Please use `torch.amp.autocast('cuda', args...)` instead.\n",
            "  with torch.cuda.amp.autocast(enabled=(device=='cuda')):\n"
          ]
        },
        {
          "output_type": "stream",
          "name": "stdout",
          "text": [
            "Epoch 009 | train_loss=0.5292 | val_AUC=0.9763\n"
          ]
        },
        {
          "output_type": "stream",
          "name": "stderr",
          "text": [
            "/tmp/ipython-input-1453774956.py:38: FutureWarning: `torch.cuda.amp.autocast(args...)` is deprecated. Please use `torch.amp.autocast('cuda', args...)` instead.\n",
            "  with torch.cuda.amp.autocast(enabled=(device=='cuda')):\n"
          ]
        },
        {
          "output_type": "stream",
          "name": "stdout",
          "text": [
            "Epoch 010 | train_loss=0.4473 | val_AUC=0.9809\n"
          ]
        },
        {
          "output_type": "stream",
          "name": "stderr",
          "text": [
            "/tmp/ipython-input-1453774956.py:38: FutureWarning: `torch.cuda.amp.autocast(args...)` is deprecated. Please use `torch.amp.autocast('cuda', args...)` instead.\n",
            "  with torch.cuda.amp.autocast(enabled=(device=='cuda')):\n"
          ]
        },
        {
          "output_type": "stream",
          "name": "stdout",
          "text": [
            "Epoch 011 | train_loss=0.3732 | val_AUC=0.9842\n"
          ]
        },
        {
          "output_type": "stream",
          "name": "stderr",
          "text": [
            "/tmp/ipython-input-1453774956.py:38: FutureWarning: `torch.cuda.amp.autocast(args...)` is deprecated. Please use `torch.amp.autocast('cuda', args...)` instead.\n",
            "  with torch.cuda.amp.autocast(enabled=(device=='cuda')):\n"
          ]
        },
        {
          "output_type": "stream",
          "name": "stdout",
          "text": [
            "Epoch 012 | train_loss=0.3322 | val_AUC=0.9854\n"
          ]
        },
        {
          "output_type": "stream",
          "name": "stderr",
          "text": [
            "/tmp/ipython-input-1453774956.py:38: FutureWarning: `torch.cuda.amp.autocast(args...)` is deprecated. Please use `torch.amp.autocast('cuda', args...)` instead.\n",
            "  with torch.cuda.amp.autocast(enabled=(device=='cuda')):\n"
          ]
        },
        {
          "output_type": "stream",
          "name": "stdout",
          "text": [
            "Epoch 013 | train_loss=0.3102 | val_AUC=0.9866\n"
          ]
        },
        {
          "output_type": "stream",
          "name": "stderr",
          "text": [
            "/tmp/ipython-input-1453774956.py:38: FutureWarning: `torch.cuda.amp.autocast(args...)` is deprecated. Please use `torch.amp.autocast('cuda', args...)` instead.\n",
            "  with torch.cuda.amp.autocast(enabled=(device=='cuda')):\n"
          ]
        },
        {
          "output_type": "stream",
          "name": "stdout",
          "text": [
            "Epoch 014 | train_loss=0.2742 | val_AUC=0.9896\n"
          ]
        },
        {
          "output_type": "stream",
          "name": "stderr",
          "text": [
            "/tmp/ipython-input-1453774956.py:38: FutureWarning: `torch.cuda.amp.autocast(args...)` is deprecated. Please use `torch.amp.autocast('cuda', args...)` instead.\n",
            "  with torch.cuda.amp.autocast(enabled=(device=='cuda')):\n"
          ]
        },
        {
          "output_type": "stream",
          "name": "stdout",
          "text": [
            "Epoch 015 | train_loss=0.2600 | val_AUC=0.9894\n"
          ]
        },
        {
          "output_type": "stream",
          "name": "stderr",
          "text": [
            "/tmp/ipython-input-1453774956.py:38: FutureWarning: `torch.cuda.amp.autocast(args...)` is deprecated. Please use `torch.amp.autocast('cuda', args...)` instead.\n",
            "  with torch.cuda.amp.autocast(enabled=(device=='cuda')):\n"
          ]
        },
        {
          "output_type": "stream",
          "name": "stdout",
          "text": [
            "Epoch 016 | train_loss=0.2385 | val_AUC=0.9901\n"
          ]
        },
        {
          "output_type": "stream",
          "name": "stderr",
          "text": [
            "/tmp/ipython-input-1453774956.py:38: FutureWarning: `torch.cuda.amp.autocast(args...)` is deprecated. Please use `torch.amp.autocast('cuda', args...)` instead.\n",
            "  with torch.cuda.amp.autocast(enabled=(device=='cuda')):\n"
          ]
        },
        {
          "output_type": "stream",
          "name": "stdout",
          "text": [
            "Epoch 017 | train_loss=0.2221 | val_AUC=0.9892\n"
          ]
        },
        {
          "output_type": "stream",
          "name": "stderr",
          "text": [
            "/tmp/ipython-input-1453774956.py:38: FutureWarning: `torch.cuda.amp.autocast(args...)` is deprecated. Please use `torch.amp.autocast('cuda', args...)` instead.\n",
            "  with torch.cuda.amp.autocast(enabled=(device=='cuda')):\n"
          ]
        },
        {
          "output_type": "stream",
          "name": "stdout",
          "text": [
            "Epoch 018 | train_loss=0.2009 | val_AUC=0.9896\n"
          ]
        },
        {
          "output_type": "stream",
          "name": "stderr",
          "text": [
            "/tmp/ipython-input-1453774956.py:38: FutureWarning: `torch.cuda.amp.autocast(args...)` is deprecated. Please use `torch.amp.autocast('cuda', args...)` instead.\n",
            "  with torch.cuda.amp.autocast(enabled=(device=='cuda')):\n"
          ]
        },
        {
          "output_type": "stream",
          "name": "stdout",
          "text": [
            "Epoch 019 | train_loss=0.1988 | val_AUC=0.9900\n"
          ]
        },
        {
          "output_type": "stream",
          "name": "stderr",
          "text": [
            "/tmp/ipython-input-1453774956.py:38: FutureWarning: `torch.cuda.amp.autocast(args...)` is deprecated. Please use `torch.amp.autocast('cuda', args...)` instead.\n",
            "  with torch.cuda.amp.autocast(enabled=(device=='cuda')):\n"
          ]
        },
        {
          "output_type": "stream",
          "name": "stdout",
          "text": [
            "Epoch 020 | train_loss=0.1965 | val_AUC=0.9873\n"
          ]
        },
        {
          "output_type": "stream",
          "name": "stderr",
          "text": [
            "/tmp/ipython-input-1453774956.py:38: FutureWarning: `torch.cuda.amp.autocast(args...)` is deprecated. Please use `torch.amp.autocast('cuda', args...)` instead.\n",
            "  with torch.cuda.amp.autocast(enabled=(device=='cuda')):\n"
          ]
        },
        {
          "output_type": "stream",
          "name": "stdout",
          "text": [
            "Epoch 021 | train_loss=0.2068 | val_AUC=0.9908\n"
          ]
        },
        {
          "output_type": "stream",
          "name": "stderr",
          "text": [
            "/tmp/ipython-input-1453774956.py:38: FutureWarning: `torch.cuda.amp.autocast(args...)` is deprecated. Please use `torch.amp.autocast('cuda', args...)` instead.\n",
            "  with torch.cuda.amp.autocast(enabled=(device=='cuda')):\n"
          ]
        },
        {
          "output_type": "stream",
          "name": "stdout",
          "text": [
            "Epoch 022 | train_loss=0.2004 | val_AUC=0.9890\n"
          ]
        },
        {
          "output_type": "stream",
          "name": "stderr",
          "text": [
            "/tmp/ipython-input-1453774956.py:38: FutureWarning: `torch.cuda.amp.autocast(args...)` is deprecated. Please use `torch.amp.autocast('cuda', args...)` instead.\n",
            "  with torch.cuda.amp.autocast(enabled=(device=='cuda')):\n"
          ]
        },
        {
          "output_type": "stream",
          "name": "stdout",
          "text": [
            "Epoch 023 | train_loss=0.1798 | val_AUC=0.9892\n"
          ]
        },
        {
          "output_type": "stream",
          "name": "stderr",
          "text": [
            "/tmp/ipython-input-1453774956.py:38: FutureWarning: `torch.cuda.amp.autocast(args...)` is deprecated. Please use `torch.amp.autocast('cuda', args...)` instead.\n",
            "  with torch.cuda.amp.autocast(enabled=(device=='cuda')):\n"
          ]
        },
        {
          "output_type": "stream",
          "name": "stdout",
          "text": [
            "Epoch 024 | train_loss=0.1736 | val_AUC=0.9891\n"
          ]
        },
        {
          "output_type": "stream",
          "name": "stderr",
          "text": [
            "/tmp/ipython-input-1453774956.py:38: FutureWarning: `torch.cuda.amp.autocast(args...)` is deprecated. Please use `torch.amp.autocast('cuda', args...)` instead.\n",
            "  with torch.cuda.amp.autocast(enabled=(device=='cuda')):\n"
          ]
        },
        {
          "output_type": "stream",
          "name": "stdout",
          "text": [
            "Epoch 025 | train_loss=0.1642 | val_AUC=0.9902\n"
          ]
        },
        {
          "output_type": "stream",
          "name": "stderr",
          "text": [
            "/tmp/ipython-input-1453774956.py:38: FutureWarning: `torch.cuda.amp.autocast(args...)` is deprecated. Please use `torch.amp.autocast('cuda', args...)` instead.\n",
            "  with torch.cuda.amp.autocast(enabled=(device=='cuda')):\n"
          ]
        },
        {
          "output_type": "stream",
          "name": "stdout",
          "text": [
            "Epoch 026 | train_loss=0.1701 | val_AUC=0.9911\n"
          ]
        },
        {
          "output_type": "stream",
          "name": "stderr",
          "text": [
            "/tmp/ipython-input-1453774956.py:38: FutureWarning: `torch.cuda.amp.autocast(args...)` is deprecated. Please use `torch.amp.autocast('cuda', args...)` instead.\n",
            "  with torch.cuda.amp.autocast(enabled=(device=='cuda')):\n"
          ]
        },
        {
          "output_type": "stream",
          "name": "stdout",
          "text": [
            "Epoch 027 | train_loss=0.1659 | val_AUC=0.9891\n"
          ]
        },
        {
          "output_type": "stream",
          "name": "stderr",
          "text": [
            "/tmp/ipython-input-1453774956.py:38: FutureWarning: `torch.cuda.amp.autocast(args...)` is deprecated. Please use `torch.amp.autocast('cuda', args...)` instead.\n",
            "  with torch.cuda.amp.autocast(enabled=(device=='cuda')):\n"
          ]
        },
        {
          "output_type": "stream",
          "name": "stdout",
          "text": [
            "Epoch 028 | train_loss=0.1642 | val_AUC=0.9885\n"
          ]
        },
        {
          "output_type": "stream",
          "name": "stderr",
          "text": [
            "/tmp/ipython-input-1453774956.py:38: FutureWarning: `torch.cuda.amp.autocast(args...)` is deprecated. Please use `torch.amp.autocast('cuda', args...)` instead.\n",
            "  with torch.cuda.amp.autocast(enabled=(device=='cuda')):\n"
          ]
        },
        {
          "output_type": "stream",
          "name": "stdout",
          "text": [
            "Epoch 029 | train_loss=0.1674 | val_AUC=0.9911\n"
          ]
        },
        {
          "output_type": "stream",
          "name": "stderr",
          "text": [
            "/tmp/ipython-input-1453774956.py:38: FutureWarning: `torch.cuda.amp.autocast(args...)` is deprecated. Please use `torch.amp.autocast('cuda', args...)` instead.\n",
            "  with torch.cuda.amp.autocast(enabled=(device=='cuda')):\n"
          ]
        },
        {
          "output_type": "stream",
          "name": "stdout",
          "text": [
            "Epoch 030 | train_loss=0.1497 | val_AUC=0.9912\n"
          ]
        },
        {
          "output_type": "stream",
          "name": "stderr",
          "text": [
            "/tmp/ipython-input-1453774956.py:38: FutureWarning: `torch.cuda.amp.autocast(args...)` is deprecated. Please use `torch.amp.autocast('cuda', args...)` instead.\n",
            "  with torch.cuda.amp.autocast(enabled=(device=='cuda')):\n"
          ]
        },
        {
          "output_type": "stream",
          "name": "stdout",
          "text": [
            "Epoch 031 | train_loss=0.1541 | val_AUC=0.9882\n"
          ]
        },
        {
          "output_type": "stream",
          "name": "stderr",
          "text": [
            "/tmp/ipython-input-1453774956.py:38: FutureWarning: `torch.cuda.amp.autocast(args...)` is deprecated. Please use `torch.amp.autocast('cuda', args...)` instead.\n",
            "  with torch.cuda.amp.autocast(enabled=(device=='cuda')):\n"
          ]
        },
        {
          "output_type": "stream",
          "name": "stdout",
          "text": [
            "Epoch 032 | train_loss=0.1461 | val_AUC=0.9899\n"
          ]
        },
        {
          "output_type": "stream",
          "name": "stderr",
          "text": [
            "/tmp/ipython-input-1453774956.py:38: FutureWarning: `torch.cuda.amp.autocast(args...)` is deprecated. Please use `torch.amp.autocast('cuda', args...)` instead.\n",
            "  with torch.cuda.amp.autocast(enabled=(device=='cuda')):\n"
          ]
        },
        {
          "output_type": "stream",
          "name": "stdout",
          "text": [
            "Epoch 033 | train_loss=0.1393 | val_AUC=0.9873\n"
          ]
        },
        {
          "output_type": "stream",
          "name": "stderr",
          "text": [
            "/tmp/ipython-input-1453774956.py:38: FutureWarning: `torch.cuda.amp.autocast(args...)` is deprecated. Please use `torch.amp.autocast('cuda', args...)` instead.\n",
            "  with torch.cuda.amp.autocast(enabled=(device=='cuda')):\n"
          ]
        },
        {
          "output_type": "stream",
          "name": "stdout",
          "text": [
            "Epoch 034 | train_loss=0.1546 | val_AUC=0.9910\n"
          ]
        },
        {
          "output_type": "stream",
          "name": "stderr",
          "text": [
            "/tmp/ipython-input-1453774956.py:38: FutureWarning: `torch.cuda.amp.autocast(args...)` is deprecated. Please use `torch.amp.autocast('cuda', args...)` instead.\n",
            "  with torch.cuda.amp.autocast(enabled=(device=='cuda')):\n"
          ]
        },
        {
          "output_type": "stream",
          "name": "stdout",
          "text": [
            "Epoch 035 | train_loss=0.1380 | val_AUC=0.9903\n"
          ]
        },
        {
          "output_type": "stream",
          "name": "stderr",
          "text": [
            "/tmp/ipython-input-1453774956.py:38: FutureWarning: `torch.cuda.amp.autocast(args...)` is deprecated. Please use `torch.amp.autocast('cuda', args...)` instead.\n",
            "  with torch.cuda.amp.autocast(enabled=(device=='cuda')):\n"
          ]
        },
        {
          "output_type": "stream",
          "name": "stdout",
          "text": [
            "Epoch 036 | train_loss=0.1359 | val_AUC=0.9899\n"
          ]
        },
        {
          "output_type": "stream",
          "name": "stderr",
          "text": [
            "/tmp/ipython-input-1453774956.py:38: FutureWarning: `torch.cuda.amp.autocast(args...)` is deprecated. Please use `torch.amp.autocast('cuda', args...)` instead.\n",
            "  with torch.cuda.amp.autocast(enabled=(device=='cuda')):\n"
          ]
        },
        {
          "output_type": "stream",
          "name": "stdout",
          "text": [
            "Epoch 037 | train_loss=0.1235 | val_AUC=0.9826\n"
          ]
        },
        {
          "output_type": "stream",
          "name": "stderr",
          "text": [
            "/tmp/ipython-input-1453774956.py:38: FutureWarning: `torch.cuda.amp.autocast(args...)` is deprecated. Please use `torch.amp.autocast('cuda', args...)` instead.\n",
            "  with torch.cuda.amp.autocast(enabled=(device=='cuda')):\n"
          ]
        },
        {
          "output_type": "stream",
          "name": "stdout",
          "text": [
            "Epoch 038 | train_loss=0.1288 | val_AUC=0.9890\n"
          ]
        },
        {
          "output_type": "stream",
          "name": "stderr",
          "text": [
            "/tmp/ipython-input-1453774956.py:38: FutureWarning: `torch.cuda.amp.autocast(args...)` is deprecated. Please use `torch.amp.autocast('cuda', args...)` instead.\n",
            "  with torch.cuda.amp.autocast(enabled=(device=='cuda')):\n"
          ]
        },
        {
          "output_type": "stream",
          "name": "stdout",
          "text": [
            "Epoch 039 | train_loss=0.1193 | val_AUC=0.9919\n"
          ]
        },
        {
          "output_type": "stream",
          "name": "stderr",
          "text": [
            "/tmp/ipython-input-1453774956.py:38: FutureWarning: `torch.cuda.amp.autocast(args...)` is deprecated. Please use `torch.amp.autocast('cuda', args...)` instead.\n",
            "  with torch.cuda.amp.autocast(enabled=(device=='cuda')):\n"
          ]
        },
        {
          "output_type": "stream",
          "name": "stdout",
          "text": [
            "Epoch 040 | train_loss=0.1377 | val_AUC=0.9910\n"
          ]
        },
        {
          "output_type": "stream",
          "name": "stderr",
          "text": [
            "/tmp/ipython-input-1453774956.py:38: FutureWarning: `torch.cuda.amp.autocast(args...)` is deprecated. Please use `torch.amp.autocast('cuda', args...)` instead.\n",
            "  with torch.cuda.amp.autocast(enabled=(device=='cuda')):\n"
          ]
        },
        {
          "output_type": "stream",
          "name": "stdout",
          "text": [
            "Epoch 041 | train_loss=0.1202 | val_AUC=0.9915\n"
          ]
        },
        {
          "output_type": "stream",
          "name": "stderr",
          "text": [
            "/tmp/ipython-input-1453774956.py:38: FutureWarning: `torch.cuda.amp.autocast(args...)` is deprecated. Please use `torch.amp.autocast('cuda', args...)` instead.\n",
            "  with torch.cuda.amp.autocast(enabled=(device=='cuda')):\n"
          ]
        },
        {
          "output_type": "stream",
          "name": "stdout",
          "text": [
            "Epoch 042 | train_loss=0.1312 | val_AUC=0.9887\n"
          ]
        },
        {
          "output_type": "stream",
          "name": "stderr",
          "text": [
            "/tmp/ipython-input-1453774956.py:38: FutureWarning: `torch.cuda.amp.autocast(args...)` is deprecated. Please use `torch.amp.autocast('cuda', args...)` instead.\n",
            "  with torch.cuda.amp.autocast(enabled=(device=='cuda')):\n"
          ]
        },
        {
          "output_type": "stream",
          "name": "stdout",
          "text": [
            "Epoch 043 | train_loss=0.1204 | val_AUC=0.9903\n"
          ]
        },
        {
          "output_type": "stream",
          "name": "stderr",
          "text": [
            "/tmp/ipython-input-1453774956.py:38: FutureWarning: `torch.cuda.amp.autocast(args...)` is deprecated. Please use `torch.amp.autocast('cuda', args...)` instead.\n",
            "  with torch.cuda.amp.autocast(enabled=(device=='cuda')):\n"
          ]
        },
        {
          "output_type": "stream",
          "name": "stdout",
          "text": [
            "Epoch 044 | train_loss=0.1123 | val_AUC=0.9891\n"
          ]
        },
        {
          "output_type": "stream",
          "name": "stderr",
          "text": [
            "/tmp/ipython-input-1453774956.py:38: FutureWarning: `torch.cuda.amp.autocast(args...)` is deprecated. Please use `torch.amp.autocast('cuda', args...)` instead.\n",
            "  with torch.cuda.amp.autocast(enabled=(device=='cuda')):\n"
          ]
        },
        {
          "output_type": "stream",
          "name": "stdout",
          "text": [
            "Epoch 045 | train_loss=0.1205 | val_AUC=0.9903\n"
          ]
        },
        {
          "output_type": "stream",
          "name": "stderr",
          "text": [
            "/tmp/ipython-input-1453774956.py:38: FutureWarning: `torch.cuda.amp.autocast(args...)` is deprecated. Please use `torch.amp.autocast('cuda', args...)` instead.\n",
            "  with torch.cuda.amp.autocast(enabled=(device=='cuda')):\n"
          ]
        },
        {
          "output_type": "stream",
          "name": "stdout",
          "text": [
            "Epoch 046 | train_loss=0.0974 | val_AUC=0.9922\n"
          ]
        },
        {
          "output_type": "stream",
          "name": "stderr",
          "text": [
            "/tmp/ipython-input-1453774956.py:38: FutureWarning: `torch.cuda.amp.autocast(args...)` is deprecated. Please use `torch.amp.autocast('cuda', args...)` instead.\n",
            "  with torch.cuda.amp.autocast(enabled=(device=='cuda')):\n"
          ]
        },
        {
          "output_type": "stream",
          "name": "stdout",
          "text": [
            "Epoch 047 | train_loss=0.0880 | val_AUC=0.9921\n"
          ]
        },
        {
          "output_type": "stream",
          "name": "stderr",
          "text": [
            "/tmp/ipython-input-1453774956.py:38: FutureWarning: `torch.cuda.amp.autocast(args...)` is deprecated. Please use `torch.amp.autocast('cuda', args...)` instead.\n",
            "  with torch.cuda.amp.autocast(enabled=(device=='cuda')):\n"
          ]
        },
        {
          "output_type": "stream",
          "name": "stdout",
          "text": [
            "Epoch 048 | train_loss=0.0915 | val_AUC=0.9889\n"
          ]
        },
        {
          "output_type": "stream",
          "name": "stderr",
          "text": [
            "/tmp/ipython-input-1453774956.py:38: FutureWarning: `torch.cuda.amp.autocast(args...)` is deprecated. Please use `torch.amp.autocast('cuda', args...)` instead.\n",
            "  with torch.cuda.amp.autocast(enabled=(device=='cuda')):\n"
          ]
        },
        {
          "output_type": "stream",
          "name": "stdout",
          "text": [
            "Epoch 049 | train_loss=0.1008 | val_AUC=0.9880\n"
          ]
        },
        {
          "output_type": "stream",
          "name": "stderr",
          "text": [
            "/tmp/ipython-input-1453774956.py:38: FutureWarning: `torch.cuda.amp.autocast(args...)` is deprecated. Please use `torch.amp.autocast('cuda', args...)` instead.\n",
            "  with torch.cuda.amp.autocast(enabled=(device=='cuda')):\n"
          ]
        },
        {
          "output_type": "stream",
          "name": "stdout",
          "text": [
            "Epoch 050 | train_loss=0.1001 | val_AUC=0.9916\n"
          ]
        },
        {
          "output_type": "stream",
          "name": "stderr",
          "text": [
            "/tmp/ipython-input-1453774956.py:38: FutureWarning: `torch.cuda.amp.autocast(args...)` is deprecated. Please use `torch.amp.autocast('cuda', args...)` instead.\n",
            "  with torch.cuda.amp.autocast(enabled=(device=='cuda')):\n"
          ]
        },
        {
          "output_type": "stream",
          "name": "stdout",
          "text": [
            "Epoch 051 | train_loss=0.0987 | val_AUC=0.9917\n"
          ]
        },
        {
          "output_type": "stream",
          "name": "stderr",
          "text": [
            "/tmp/ipython-input-1453774956.py:38: FutureWarning: `torch.cuda.amp.autocast(args...)` is deprecated. Please use `torch.amp.autocast('cuda', args...)` instead.\n",
            "  with torch.cuda.amp.autocast(enabled=(device=='cuda')):\n"
          ]
        },
        {
          "output_type": "stream",
          "name": "stdout",
          "text": [
            "Epoch 052 | train_loss=0.1107 | val_AUC=0.9889\n"
          ]
        },
        {
          "output_type": "stream",
          "name": "stderr",
          "text": [
            "/tmp/ipython-input-1453774956.py:38: FutureWarning: `torch.cuda.amp.autocast(args...)` is deprecated. Please use `torch.amp.autocast('cuda', args...)` instead.\n",
            "  with torch.cuda.amp.autocast(enabled=(device=='cuda')):\n"
          ]
        },
        {
          "output_type": "stream",
          "name": "stdout",
          "text": [
            "Epoch 053 | train_loss=0.1259 | val_AUC=0.9876\n"
          ]
        },
        {
          "output_type": "stream",
          "name": "stderr",
          "text": [
            "/tmp/ipython-input-1453774956.py:38: FutureWarning: `torch.cuda.amp.autocast(args...)` is deprecated. Please use `torch.amp.autocast('cuda', args...)` instead.\n",
            "  with torch.cuda.amp.autocast(enabled=(device=='cuda')):\n"
          ]
        },
        {
          "output_type": "stream",
          "name": "stdout",
          "text": [
            "Epoch 054 | train_loss=0.1245 | val_AUC=0.9910\n"
          ]
        },
        {
          "output_type": "stream",
          "name": "stderr",
          "text": [
            "/tmp/ipython-input-1453774956.py:38: FutureWarning: `torch.cuda.amp.autocast(args...)` is deprecated. Please use `torch.amp.autocast('cuda', args...)` instead.\n",
            "  with torch.cuda.amp.autocast(enabled=(device=='cuda')):\n"
          ]
        },
        {
          "output_type": "stream",
          "name": "stdout",
          "text": [
            "Epoch 055 | train_loss=0.0891 | val_AUC=0.9917\n"
          ]
        },
        {
          "output_type": "stream",
          "name": "stderr",
          "text": [
            "/tmp/ipython-input-1453774956.py:38: FutureWarning: `torch.cuda.amp.autocast(args...)` is deprecated. Please use `torch.amp.autocast('cuda', args...)` instead.\n",
            "  with torch.cuda.amp.autocast(enabled=(device=='cuda')):\n"
          ]
        },
        {
          "output_type": "stream",
          "name": "stdout",
          "text": [
            "Epoch 056 | train_loss=0.0856 | val_AUC=0.9921\n"
          ]
        },
        {
          "output_type": "stream",
          "name": "stderr",
          "text": [
            "/tmp/ipython-input-1453774956.py:38: FutureWarning: `torch.cuda.amp.autocast(args...)` is deprecated. Please use `torch.amp.autocast('cuda', args...)` instead.\n",
            "  with torch.cuda.amp.autocast(enabled=(device=='cuda')):\n"
          ]
        },
        {
          "output_type": "stream",
          "name": "stdout",
          "text": [
            "Epoch 057 | train_loss=0.0857 | val_AUC=0.9913\n"
          ]
        },
        {
          "output_type": "stream",
          "name": "stderr",
          "text": [
            "/tmp/ipython-input-1453774956.py:38: FutureWarning: `torch.cuda.amp.autocast(args...)` is deprecated. Please use `torch.amp.autocast('cuda', args...)` instead.\n",
            "  with torch.cuda.amp.autocast(enabled=(device=='cuda')):\n"
          ]
        },
        {
          "output_type": "stream",
          "name": "stdout",
          "text": [
            "Epoch 058 | train_loss=0.0810 | val_AUC=0.9915\n"
          ]
        },
        {
          "output_type": "stream",
          "name": "stderr",
          "text": [
            "/tmp/ipython-input-1453774956.py:38: FutureWarning: `torch.cuda.amp.autocast(args...)` is deprecated. Please use `torch.amp.autocast('cuda', args...)` instead.\n",
            "  with torch.cuda.amp.autocast(enabled=(device=='cuda')):\n"
          ]
        },
        {
          "output_type": "stream",
          "name": "stdout",
          "text": [
            "Epoch 059 | train_loss=0.0743 | val_AUC=0.9914\n"
          ]
        },
        {
          "output_type": "stream",
          "name": "stderr",
          "text": [
            "/tmp/ipython-input-1453774956.py:38: FutureWarning: `torch.cuda.amp.autocast(args...)` is deprecated. Please use `torch.amp.autocast('cuda', args...)` instead.\n",
            "  with torch.cuda.amp.autocast(enabled=(device=='cuda')):\n"
          ]
        },
        {
          "output_type": "stream",
          "name": "stdout",
          "text": [
            "Epoch 060 | train_loss=0.0690 | val_AUC=0.9901\n"
          ]
        },
        {
          "output_type": "stream",
          "name": "stderr",
          "text": [
            "/tmp/ipython-input-1453774956.py:38: FutureWarning: `torch.cuda.amp.autocast(args...)` is deprecated. Please use `torch.amp.autocast('cuda', args...)` instead.\n",
            "  with torch.cuda.amp.autocast(enabled=(device=='cuda')):\n"
          ]
        },
        {
          "output_type": "stream",
          "name": "stdout",
          "text": [
            "Epoch 061 | train_loss=0.0650 | val_AUC=0.9927\n"
          ]
        },
        {
          "output_type": "stream",
          "name": "stderr",
          "text": [
            "/tmp/ipython-input-1453774956.py:38: FutureWarning: `torch.cuda.amp.autocast(args...)` is deprecated. Please use `torch.amp.autocast('cuda', args...)` instead.\n",
            "  with torch.cuda.amp.autocast(enabled=(device=='cuda')):\n"
          ]
        },
        {
          "output_type": "stream",
          "name": "stdout",
          "text": [
            "Epoch 062 | train_loss=0.0709 | val_AUC=0.9927\n"
          ]
        },
        {
          "output_type": "stream",
          "name": "stderr",
          "text": [
            "/tmp/ipython-input-1453774956.py:38: FutureWarning: `torch.cuda.amp.autocast(args...)` is deprecated. Please use `torch.amp.autocast('cuda', args...)` instead.\n",
            "  with torch.cuda.amp.autocast(enabled=(device=='cuda')):\n"
          ]
        },
        {
          "output_type": "stream",
          "name": "stdout",
          "text": [
            "Epoch 063 | train_loss=0.0660 | val_AUC=0.9931\n"
          ]
        },
        {
          "output_type": "stream",
          "name": "stderr",
          "text": [
            "/tmp/ipython-input-1453774956.py:38: FutureWarning: `torch.cuda.amp.autocast(args...)` is deprecated. Please use `torch.amp.autocast('cuda', args...)` instead.\n",
            "  with torch.cuda.amp.autocast(enabled=(device=='cuda')):\n"
          ]
        },
        {
          "output_type": "stream",
          "name": "stdout",
          "text": [
            "Epoch 064 | train_loss=0.0625 | val_AUC=0.9927\n"
          ]
        },
        {
          "output_type": "stream",
          "name": "stderr",
          "text": [
            "/tmp/ipython-input-1453774956.py:38: FutureWarning: `torch.cuda.amp.autocast(args...)` is deprecated. Please use `torch.amp.autocast('cuda', args...)` instead.\n",
            "  with torch.cuda.amp.autocast(enabled=(device=='cuda')):\n"
          ]
        },
        {
          "output_type": "stream",
          "name": "stdout",
          "text": [
            "Epoch 065 | train_loss=0.0592 | val_AUC=0.9928\n"
          ]
        },
        {
          "output_type": "stream",
          "name": "stderr",
          "text": [
            "/tmp/ipython-input-1453774956.py:38: FutureWarning: `torch.cuda.amp.autocast(args...)` is deprecated. Please use `torch.amp.autocast('cuda', args...)` instead.\n",
            "  with torch.cuda.amp.autocast(enabled=(device=='cuda')):\n"
          ]
        },
        {
          "output_type": "stream",
          "name": "stdout",
          "text": [
            "Epoch 066 | train_loss=0.0542 | val_AUC=0.9927\n"
          ]
        },
        {
          "output_type": "stream",
          "name": "stderr",
          "text": [
            "/tmp/ipython-input-1453774956.py:38: FutureWarning: `torch.cuda.amp.autocast(args...)` is deprecated. Please use `torch.amp.autocast('cuda', args...)` instead.\n",
            "  with torch.cuda.amp.autocast(enabled=(device=='cuda')):\n"
          ]
        },
        {
          "output_type": "stream",
          "name": "stdout",
          "text": [
            "Epoch 067 | train_loss=0.0551 | val_AUC=0.9915\n"
          ]
        },
        {
          "output_type": "stream",
          "name": "stderr",
          "text": [
            "/tmp/ipython-input-1453774956.py:38: FutureWarning: `torch.cuda.amp.autocast(args...)` is deprecated. Please use `torch.amp.autocast('cuda', args...)` instead.\n",
            "  with torch.cuda.amp.autocast(enabled=(device=='cuda')):\n"
          ]
        },
        {
          "output_type": "stream",
          "name": "stdout",
          "text": [
            "Epoch 068 | train_loss=0.0589 | val_AUC=0.9911\n"
          ]
        },
        {
          "output_type": "stream",
          "name": "stderr",
          "text": [
            "/tmp/ipython-input-1453774956.py:38: FutureWarning: `torch.cuda.amp.autocast(args...)` is deprecated. Please use `torch.amp.autocast('cuda', args...)` instead.\n",
            "  with torch.cuda.amp.autocast(enabled=(device=='cuda')):\n"
          ]
        },
        {
          "output_type": "stream",
          "name": "stdout",
          "text": [
            "Epoch 069 | train_loss=0.0578 | val_AUC=0.9927\n"
          ]
        },
        {
          "output_type": "stream",
          "name": "stderr",
          "text": [
            "/tmp/ipython-input-1453774956.py:38: FutureWarning: `torch.cuda.amp.autocast(args...)` is deprecated. Please use `torch.amp.autocast('cuda', args...)` instead.\n",
            "  with torch.cuda.amp.autocast(enabled=(device=='cuda')):\n"
          ]
        },
        {
          "output_type": "stream",
          "name": "stdout",
          "text": [
            "Epoch 070 | train_loss=0.0544 | val_AUC=0.9923\n"
          ]
        },
        {
          "output_type": "stream",
          "name": "stderr",
          "text": [
            "/tmp/ipython-input-1453774956.py:38: FutureWarning: `torch.cuda.amp.autocast(args...)` is deprecated. Please use `torch.amp.autocast('cuda', args...)` instead.\n",
            "  with torch.cuda.amp.autocast(enabled=(device=='cuda')):\n"
          ]
        },
        {
          "output_type": "stream",
          "name": "stdout",
          "text": [
            "Epoch 071 | train_loss=0.0577 | val_AUC=0.9923\n"
          ]
        },
        {
          "output_type": "stream",
          "name": "stderr",
          "text": [
            "/tmp/ipython-input-1453774956.py:38: FutureWarning: `torch.cuda.amp.autocast(args...)` is deprecated. Please use `torch.amp.autocast('cuda', args...)` instead.\n",
            "  with torch.cuda.amp.autocast(enabled=(device=='cuda')):\n"
          ]
        },
        {
          "output_type": "stream",
          "name": "stdout",
          "text": [
            "Epoch 072 | train_loss=0.0538 | val_AUC=0.9907\n"
          ]
        },
        {
          "output_type": "stream",
          "name": "stderr",
          "text": [
            "/tmp/ipython-input-1453774956.py:38: FutureWarning: `torch.cuda.amp.autocast(args...)` is deprecated. Please use `torch.amp.autocast('cuda', args...)` instead.\n",
            "  with torch.cuda.amp.autocast(enabled=(device=='cuda')):\n"
          ]
        },
        {
          "output_type": "stream",
          "name": "stdout",
          "text": [
            "Epoch 073 | train_loss=0.0564 | val_AUC=0.9908\n"
          ]
        },
        {
          "output_type": "stream",
          "name": "stderr",
          "text": [
            "/tmp/ipython-input-1453774956.py:38: FutureWarning: `torch.cuda.amp.autocast(args...)` is deprecated. Please use `torch.amp.autocast('cuda', args...)` instead.\n",
            "  with torch.cuda.amp.autocast(enabled=(device=='cuda')):\n"
          ]
        },
        {
          "output_type": "stream",
          "name": "stdout",
          "text": [
            "Epoch 074 | train_loss=0.0528 | val_AUC=0.9907\n"
          ]
        },
        {
          "output_type": "stream",
          "name": "stderr",
          "text": [
            "/tmp/ipython-input-1453774956.py:38: FutureWarning: `torch.cuda.amp.autocast(args...)` is deprecated. Please use `torch.amp.autocast('cuda', args...)` instead.\n",
            "  with torch.cuda.amp.autocast(enabled=(device=='cuda')):\n"
          ]
        },
        {
          "output_type": "stream",
          "name": "stdout",
          "text": [
            "Epoch 075 | train_loss=0.0432 | val_AUC=0.9921\n"
          ]
        },
        {
          "output_type": "stream",
          "name": "stderr",
          "text": [
            "/tmp/ipython-input-1453774956.py:38: FutureWarning: `torch.cuda.amp.autocast(args...)` is deprecated. Please use `torch.amp.autocast('cuda', args...)` instead.\n",
            "  with torch.cuda.amp.autocast(enabled=(device=='cuda')):\n"
          ]
        },
        {
          "output_type": "stream",
          "name": "stdout",
          "text": [
            "Epoch 076 | train_loss=0.0420 | val_AUC=0.9928\n"
          ]
        },
        {
          "output_type": "stream",
          "name": "stderr",
          "text": [
            "/tmp/ipython-input-1453774956.py:38: FutureWarning: `torch.cuda.amp.autocast(args...)` is deprecated. Please use `torch.amp.autocast('cuda', args...)` instead.\n",
            "  with torch.cuda.amp.autocast(enabled=(device=='cuda')):\n"
          ]
        },
        {
          "output_type": "stream",
          "name": "stdout",
          "text": [
            "Epoch 077 | train_loss=0.0415 | val_AUC=0.9919\n"
          ]
        },
        {
          "output_type": "stream",
          "name": "stderr",
          "text": [
            "/tmp/ipython-input-1453774956.py:38: FutureWarning: `torch.cuda.amp.autocast(args...)` is deprecated. Please use `torch.amp.autocast('cuda', args...)` instead.\n",
            "  with torch.cuda.amp.autocast(enabled=(device=='cuda')):\n"
          ]
        },
        {
          "output_type": "stream",
          "name": "stdout",
          "text": [
            "Epoch 078 | train_loss=0.0411 | val_AUC=0.9919\n"
          ]
        },
        {
          "output_type": "stream",
          "name": "stderr",
          "text": [
            "/tmp/ipython-input-1453774956.py:38: FutureWarning: `torch.cuda.amp.autocast(args...)` is deprecated. Please use `torch.amp.autocast('cuda', args...)` instead.\n",
            "  with torch.cuda.amp.autocast(enabled=(device=='cuda')):\n"
          ]
        },
        {
          "output_type": "stream",
          "name": "stdout",
          "text": [
            "Epoch 079 | train_loss=0.0427 | val_AUC=0.9924\n"
          ]
        },
        {
          "output_type": "stream",
          "name": "stderr",
          "text": [
            "/tmp/ipython-input-1453774956.py:38: FutureWarning: `torch.cuda.amp.autocast(args...)` is deprecated. Please use `torch.amp.autocast('cuda', args...)` instead.\n",
            "  with torch.cuda.amp.autocast(enabled=(device=='cuda')):\n"
          ]
        },
        {
          "output_type": "stream",
          "name": "stdout",
          "text": [
            "Epoch 080 | train_loss=0.0434 | val_AUC=0.9924\n"
          ]
        },
        {
          "output_type": "stream",
          "name": "stderr",
          "text": [
            "/tmp/ipython-input-1453774956.py:38: FutureWarning: `torch.cuda.amp.autocast(args...)` is deprecated. Please use `torch.amp.autocast('cuda', args...)` instead.\n",
            "  with torch.cuda.amp.autocast(enabled=(device=='cuda')):\n"
          ]
        },
        {
          "output_type": "stream",
          "name": "stdout",
          "text": [
            "Epoch 081 | train_loss=0.0413 | val_AUC=0.9917\n"
          ]
        },
        {
          "output_type": "stream",
          "name": "stderr",
          "text": [
            "/tmp/ipython-input-1453774956.py:38: FutureWarning: `torch.cuda.amp.autocast(args...)` is deprecated. Please use `torch.amp.autocast('cuda', args...)` instead.\n",
            "  with torch.cuda.amp.autocast(enabled=(device=='cuda')):\n"
          ]
        },
        {
          "output_type": "stream",
          "name": "stdout",
          "text": [
            "Epoch 082 | train_loss=0.0376 | val_AUC=0.9921\n"
          ]
        },
        {
          "output_type": "stream",
          "name": "stderr",
          "text": [
            "/tmp/ipython-input-1453774956.py:38: FutureWarning: `torch.cuda.amp.autocast(args...)` is deprecated. Please use `torch.amp.autocast('cuda', args...)` instead.\n",
            "  with torch.cuda.amp.autocast(enabled=(device=='cuda')):\n"
          ]
        },
        {
          "output_type": "stream",
          "name": "stdout",
          "text": [
            "Epoch 083 | train_loss=0.0324 | val_AUC=0.9925\n",
            "Early stopping at epoch 83. Best val AUC = 0.9931\n",
            "Best threshold on val = 0.83 (val-acc=97.64%)\n"
          ]
        }
      ]
    },
    {
      "cell_type": "markdown",
      "metadata": {
        "id": "7b67da89"
      },
      "source": [
        "### Post-Training Evaluation and Visualization\n",
        "\n",
        "This cell performs a comprehensive evaluation of the trained models (specifically `model_NN` and `model_bnn` if they exist) on the test set and visualizes the results.\n",
        "\n",
        "- It includes helper functions for tensor handling, aligning logits and labels, collecting probabilities and labels, finding the best accuracy threshold, and computing various metrics.\n",
        "- It gathers available trained models from the global scope (looking for variables like `model_NN`, `model_bnn`, etc.).\n",
        "- For each found model, it calibrates the classification threshold on the **validation set** to find the threshold that maximizes accuracy (or uses a preset threshold if available).\n",
        "- It then evaluates the model's performance on the **test set** using the calibrated threshold and computes metrics like Accuracy, Precision, Recall, F1-score, AUC, and FPR.\n",
        "- It stores these results in a pandas DataFrame.\n",
        "- It also collects data for plotting ROC curves on the test set.\n",
        "- It displays the test results in a table, sorted by Accuracy.\n",
        "- It generates two plots:\n",
        "    - **ROC Curves**: Plots the Receiver Operating Characteristic (ROC) curve for each model on the test set, showing the trade-off between the True Positive Rate and False Positive Rate at various thresholds. The AUC is also displayed in the legend.\n",
        "    - **Accuracy Bar Chart**: A bar chart comparing the Test Accuracy of the evaluated models.\n",
        "- Finally, it prints a summary table comparing the performance of the Paper NN and the trained Better NN on Dataset 1.\n",
        "\n",
        "This cell provides a clear comparison of how the improved `BetterNN` performs against the original `NN` model on unseen test data, using metrics calibrated on the validation set to avoid data leakage."
      ]
    },
    {
      "cell_type": "code",
      "source": [
        "# ==== CELL X: Post-Cell-4 summary (tables + ROC + accuracy bar) ====\n",
        "import numpy as np, pandas as pd, torch\n",
        "import matplotlib.pyplot as plt\n",
        "from sklearn.metrics import roc_curve, auc\n",
        "\n",
        "# ---------- helpers (self-contained) ----------\n",
        "def _ensure_tensor_mask(action_mask, device):\n",
        "    if isinstance(action_mask, torch.Tensor):\n",
        "        return action_mask.to(device)\n",
        "    return torch.as_tensor(action_mask, dtype=torch.long, device=device)\n",
        "\n",
        "def _align_logits_labels(logits, Y, action_mask_t):\n",
        "    # logits: (B, N) or (B, N, 1); Y: (B, N) or (B, #action)\n",
        "    if logits.ndim == 3 and logits.size(-1) == 1:\n",
        "        logits = logits.squeeze(-1)\n",
        "    Nl = logits.shape[1]; Ny = Y.shape[1]; Ia = action_mask_t.numel()\n",
        "    if Nl == Ny:\n",
        "        if Ny == Ia:\n",
        "            return logits, Y.float()\n",
        "        else:\n",
        "            return logits.index_select(1, action_mask_t), Y.index_select(1, action_mask_t).float()\n",
        "    elif Ny == Ia and Nl > Ny:\n",
        "        return logits.index_select(1, action_mask_t), Y.float()\n",
        "    elif Nl == Ia and Ny > Nl:\n",
        "        return logits, Y.index_select(1, action_mask_t).float()\n",
        "    else:\n",
        "        raise ValueError(f\"Cannot align: logits nodes={Nl}, labels nodes={Ny}, action={Ia}\")\n",
        "\n",
        "@torch.no_grad()\n",
        "def _collect_probs_labels(model, X, Y, action_mask, device='cpu', batch=256):\n",
        "    model.eval(); model.to(device)\n",
        "    idx = _ensure_tensor_mask(action_mask, device)\n",
        "    P, T = [], []\n",
        "    for i in range(0, X.shape[0], batch):\n",
        "        xb = X[i:i+batch].to(device)\n",
        "        yb = Y[i:i+batch].to(device)\n",
        "        lo = model(xb)\n",
        "        lo, ys = _align_logits_labels(lo, yb, idx)\n",
        "        P.append(torch.sigmoid(lo).detach().cpu().numpy().ravel())\n",
        "        T.append(ys.detach().cpu().numpy().astype(int).ravel())\n",
        "    return np.concatenate(P), np.concatenate(T)\n",
        "\n",
        "def _best_acc_threshold(y, p):\n",
        "    best_t, best_a = 0.5, -1.0\n",
        "    # coarse -> fine sweep\n",
        "    for t in np.linspace(0.02, 0.98, 97):\n",
        "        a = ((p >= t).astype(int) == y).mean()\n",
        "        if a > best_a: best_a, best_t = a, float(t)\n",
        "    lo, hi = max(0.0, best_t-0.05), min(0.98, best_t+0.05)\n",
        "    for t in np.linspace(lo, hi, 101):\n",
        "        a = ((p >= t).astype(int) == y).mean()\n",
        "        if a > best_a: best_a, best_t = a, float(t)\n",
        "    return best_t, best_a\n",
        "\n",
        "def _metrics(y, p, thr):\n",
        "    pred = (p >= thr).astype(int)\n",
        "    TP = int(((pred==1)&(y==1)).sum()); FP = int(((pred==1)&(y==0)).sum())\n",
        "    TN = int(((pred==0)&(y==0)).sum()); FN = int(((pred==0)&(y==1)).sum())\n",
        "    acc = (TP+TN)/max(1,(TP+TN+FP+FN))\n",
        "    prec = TP/(TP+FP+1e-12); rec = TP/(TP+FN+1e-12)\n",
        "    f1 = 2*prec*rec/(prec+rec+1e-12)\n",
        "    try:\n",
        "        rocAUC = auc(*roc_curve(y, p)[:2])\n",
        "    except Exception:\n",
        "        rocAUC = float('nan')\n",
        "    return {\n",
        "        \"Accuracy (%)\": round(acc*100, 2),\n",
        "        \"Precision (%)\": round(prec*100, 2),\n",
        "        \"Recall (%)\": round(rec*100, 2),\n",
        "        \"F1-score (%)\": round(f1*100, 2),\n",
        "        \"AUC (%)\": round(rocAUC*100, 2) if rocAUC==rocAUC else \"nan\",\n",
        "        \"FPR\": FP, \"TP\": TP, \"TN\": TN, \"FN\": FN\n",
        "    }\n",
        "\n",
        "# ---------- gather available models ----------\n",
        "device = 'cuda' if torch.cuda.is_available() else 'cpu'\n",
        "candidates = {}  # name -> (model, preferred_threshold_if_any)\n",
        "\n",
        "# Try to include common variables if they exist\n",
        "for name in [\"model_NN\", \"model_bnn\", \"model_af\", \"model_better\", \"model_acc99\", \"model\"]:\n",
        "    if name in globals():\n",
        "        m = globals()[name]\n",
        "        try:\n",
        "            _ = m(X_val[:1].to(device))  # sanity forward\n",
        "            candidates[name] = (m, None)  # we'll calibrate thresholds ourselves\n",
        "        except Exception:\n",
        "            pass\n",
        "\n",
        "# Optional: use saved thresholds if you have them (e.g., thr_bnn from Cell 4)\n",
        "if \"thr_bnn\" in globals() and \"model_bnn\" in candidates:\n",
        "    m, _ = candidates[\"model_bnn\"]\n",
        "    candidates[\"model_bnn\"] = (m, float(thr_bnn))\n",
        "\n",
        "if not candidates:\n",
        "    raise RuntimeError(\"No trained models found (expected model_NN, model_bnn, etc.). Train first.\")\n",
        "\n",
        "# ---------- compute VAL calibration + TEST metrics ----------\n",
        "rows = []\n",
        "roc_data = []  # for plotting ROC\n",
        "\n",
        "for name, (model, preset_thr) in candidates.items():\n",
        "    # Calibrate on VALIDATION for a fair comparison\n",
        "    p_val, y_val = _collect_probs_labels(model, X_val, Y_val, action_mask, device=device)\n",
        "    if preset_thr is None:\n",
        "        thr, val_acc = _best_acc_threshold(y_val, p_val)\n",
        "    else:\n",
        "        thr, val_acc = preset_thr, ((p_val >= preset_thr).astype(int) == y_val).mean()\n",
        "\n",
        "    # TEST metrics at that threshold\n",
        "    p_test, y_test = _collect_probs_labels(model, X_test, Y_test, action_mask, device=device)\n",
        "    met = _metrics(y_test, p_test, thr)\n",
        "    rows.append({\n",
        "        \"Model\": name,\n",
        "        \"Calibrated Thr\": round(float(thr), 2),\n",
        "        \"Val Acc (%)\": round(val_acc*100, 2),\n",
        "        **met\n",
        "    })\n",
        "\n",
        "    # ROC data (test)\n",
        "    try:\n",
        "        fpr, tpr, _ = roc_curve(y_test, p_test)\n",
        "        rocAUC = auc(fpr, tpr)\n",
        "        roc_data.append((name, fpr, tpr, rocAUC))\n",
        "    except Exception:\n",
        "        pass\n",
        "\n",
        "# ---------- display table (sorted by Test Accuracy) ----------\n",
        "df = pd.DataFrame(rows).sort_values(by=\"Accuracy (%)\", ascending=False).reset_index(drop=True)\n",
        "print(\"=== TEST RESULTS (threshold calibrated on VAL) ===\")\n",
        "display(df)\n",
        "\n",
        "# ---------- plots ----------\n",
        "# 1) ROC curves\n",
        "plt.figure(figsize=(5.5, 5.5))\n",
        "for name, fpr, tpr, rocAUC in roc_data:\n",
        "    plt.plot(fpr, tpr, label=f\"{name} (AUC={rocAUC:.4f})\")\n",
        "plt.plot([0,1], [0,1], linestyle=\"--\")\n",
        "plt.xlabel(\"False Positive Rate\"); plt.ylabel(\"True Positive Rate\")\n",
        "plt.title(\"ROC Curves (TEST)\")\n",
        "plt.legend(loc=\"lower right\")\n",
        "plt.grid(True)\n",
        "plt.show()\n",
        "\n",
        "# 2) Accuracy bar chart\n",
        "plt.figure(figsize=(6.5, 4.0))\n",
        "plt.bar(df[\"Model\"], df[\"Accuracy (%)\"])\n",
        "plt.ylabel(\"Accuracy (%)\"); plt.title(\"Test Accuracy by Model\")\n",
        "plt.ylim(0, 100)\n",
        "for i, v in enumerate(df[\"Accuracy (%)\"]):\n",
        "    plt.text(i, v + 0.3, f\"{v:.2f}%\", ha=\"center\", va=\"bottom\", fontsize=9)\n",
        "plt.grid(axis='y', linestyle=':', alpha=0.6)\n",
        "plt.show()"
      ],
      "metadata": {
        "colab": {
          "base_uri": "https://localhost:8080/",
          "height": 1000
        },
        "id": "Pt3elFuMAx3X",
        "outputId": "0bda8543-adc3-4568-a6d5-41829ae3bd11"
      },
      "execution_count": null,
      "outputs": [
        {
          "output_type": "stream",
          "name": "stdout",
          "text": [
            "=== TEST RESULTS (threshold calibrated on VAL) ===\n"
          ]
        },
        {
          "output_type": "display_data",
          "data": {
            "text/plain": [
              "       Model  Calibrated Thr  Val Acc (%)  Accuracy (%)  Precision (%)  \\\n",
              "0  model_bnn            0.83        97.64         97.54          86.97   \n",
              "1   model_NN            0.91        97.13         97.19          84.79   \n",
              "\n",
              "   Recall (%)  F1-score (%)  AUC (%)  FPR   TP    TN  FN  \n",
              "0       88.71         87.84    99.02   93  621  6207  79  \n",
              "1       87.57         86.16    98.83  110  613  6190  87  "
            ],
            "text/html": [
              "\n",
              "  <div id=\"df-30f6a80c-dd90-4be2-88d4-0033825e089f\" class=\"colab-df-container\">\n",
              "    <div>\n",
              "<style scoped>\n",
              "    .dataframe tbody tr th:only-of-type {\n",
              "        vertical-align: middle;\n",
              "    }\n",
              "\n",
              "    .dataframe tbody tr th {\n",
              "        vertical-align: top;\n",
              "    }\n",
              "\n",
              "    .dataframe thead th {\n",
              "        text-align: right;\n",
              "    }\n",
              "</style>\n",
              "<table border=\"1\" class=\"dataframe\">\n",
              "  <thead>\n",
              "    <tr style=\"text-align: right;\">\n",
              "      <th></th>\n",
              "      <th>Model</th>\n",
              "      <th>Calibrated Thr</th>\n",
              "      <th>Val Acc (%)</th>\n",
              "      <th>Accuracy (%)</th>\n",
              "      <th>Precision (%)</th>\n",
              "      <th>Recall (%)</th>\n",
              "      <th>F1-score (%)</th>\n",
              "      <th>AUC (%)</th>\n",
              "      <th>FPR</th>\n",
              "      <th>TP</th>\n",
              "      <th>TN</th>\n",
              "      <th>FN</th>\n",
              "    </tr>\n",
              "  </thead>\n",
              "  <tbody>\n",
              "    <tr>\n",
              "      <th>0</th>\n",
              "      <td>model_bnn</td>\n",
              "      <td>0.83</td>\n",
              "      <td>97.64</td>\n",
              "      <td>97.54</td>\n",
              "      <td>86.97</td>\n",
              "      <td>88.71</td>\n",
              "      <td>87.84</td>\n",
              "      <td>99.02</td>\n",
              "      <td>93</td>\n",
              "      <td>621</td>\n",
              "      <td>6207</td>\n",
              "      <td>79</td>\n",
              "    </tr>\n",
              "    <tr>\n",
              "      <th>1</th>\n",
              "      <td>model_NN</td>\n",
              "      <td>0.91</td>\n",
              "      <td>97.13</td>\n",
              "      <td>97.19</td>\n",
              "      <td>84.79</td>\n",
              "      <td>87.57</td>\n",
              "      <td>86.16</td>\n",
              "      <td>98.83</td>\n",
              "      <td>110</td>\n",
              "      <td>613</td>\n",
              "      <td>6190</td>\n",
              "      <td>87</td>\n",
              "    </tr>\n",
              "  </tbody>\n",
              "</table>\n",
              "</div>\n",
              "    <div class=\"colab-df-buttons\">\n",
              "\n",
              "  <div class=\"colab-df-container\">\n",
              "    <button class=\"colab-df-convert\" onclick=\"convertToInteractive('df-30f6a80c-dd90-4be2-88d4-0033825e089f')\"\n",
              "            title=\"Convert this dataframe to an interactive table.\"\n",
              "            style=\"display:none;\">\n",
              "\n",
              "  <svg xmlns=\"http://www.w3.org/2000/svg\" height=\"24px\" viewBox=\"0 -960 960 960\">\n",
              "    <path d=\"M120-120v-720h720v720H120Zm60-500h600v-160H180v160Zm220 220h160v-160H400v160Zm0 220h160v-160H400v160ZM180-400h160v-160H180v160Zm440 0h160v-160H620v160ZM180-180h160v-160H180v160Zm440 0h160v-160H620v160Z\"/>\n",
              "  </svg>\n",
              "    </button>\n",
              "\n",
              "  <style>\n",
              "    .colab-df-container {\n",
              "      display:flex;\n",
              "      gap: 12px;\n",
              "    }\n",
              "\n",
              "    .colab-df-convert {\n",
              "      background-color: #E8F0FE;\n",
              "      border: none;\n",
              "      border-radius: 50%;\n",
              "      cursor: pointer;\n",
              "      display: none;\n",
              "      fill: #1967D2;\n",
              "      height: 32px;\n",
              "      padding: 0 0 0 0;\n",
              "      width: 32px;\n",
              "    }\n",
              "\n",
              "    .colab-df-convert:hover {\n",
              "      background-color: #E2EBFA;\n",
              "      box-shadow: 0px 1px 2px rgba(60, 64, 67, 0.3), 0px 1px 3px 1px rgba(60, 64, 67, 0.15);\n",
              "      fill: #174EA6;\n",
              "    }\n",
              "\n",
              "    .colab-df-buttons div {\n",
              "      margin-bottom: 4px;\n",
              "    }\n",
              "\n",
              "    [theme=dark] .colab-df-convert {\n",
              "      background-color: #3B4455;\n",
              "      fill: #D2E3FC;\n",
              "    }\n",
              "\n",
              "    [theme=dark] .colab-df-convert:hover {\n",
              "      background-color: #434B5C;\n",
              "      box-shadow: 0px 1px 3px 1px rgba(0, 0, 0, 0.15);\n",
              "      filter: drop-shadow(0px 1px 2px rgba(0, 0, 0, 0.3));\n",
              "      fill: #FFFFFF;\n",
              "    }\n",
              "  </style>\n",
              "\n",
              "    <script>\n",
              "      const buttonEl =\n",
              "        document.querySelector('#df-30f6a80c-dd90-4be2-88d4-0033825e089f button.colab-df-convert');\n",
              "      buttonEl.style.display =\n",
              "        google.colab.kernel.accessAllowed ? 'block' : 'none';\n",
              "\n",
              "      async function convertToInteractive(key) {\n",
              "        const element = document.querySelector('#df-30f6a80c-dd90-4be2-88d4-0033825e089f');\n",
              "        const dataTable =\n",
              "          await google.colab.kernel.invokeFunction('convertToInteractive',\n",
              "                                                    [key], {});\n",
              "        if (!dataTable) return;\n",
              "\n",
              "        const docLinkHtml = 'Like what you see? Visit the ' +\n",
              "          '<a target=\"_blank\" href=https://colab.research.google.com/notebooks/data_table.ipynb>data table notebook</a>'\n",
              "          + ' to learn more about interactive tables.';\n",
              "        element.innerHTML = '';\n",
              "        dataTable['output_type'] = 'display_data';\n",
              "        await google.colab.output.renderOutput(dataTable, element);\n",
              "        const docLink = document.createElement('div');\n",
              "        docLink.innerHTML = docLinkHtml;\n",
              "        element.appendChild(docLink);\n",
              "      }\n",
              "    </script>\n",
              "  </div>\n",
              "\n",
              "\n",
              "    <div id=\"df-0537c47f-16cf-48d7-85bf-b3851733cfb8\">\n",
              "      <button class=\"colab-df-quickchart\" onclick=\"quickchart('df-0537c47f-16cf-48d7-85bf-b3851733cfb8')\"\n",
              "                title=\"Suggest charts\"\n",
              "                style=\"display:none;\">\n",
              "\n",
              "<svg xmlns=\"http://www.w3.org/2000/svg\" height=\"24px\"viewBox=\"0 0 24 24\"\n",
              "     width=\"24px\">\n",
              "    <g>\n",
              "        <path d=\"M19 3H5c-1.1 0-2 .9-2 2v14c0 1.1.9 2 2 2h14c1.1 0 2-.9 2-2V5c0-1.1-.9-2-2-2zM9 17H7v-7h2v7zm4 0h-2V7h2v10zm4 0h-2v-4h2v4z\"/>\n",
              "    </g>\n",
              "</svg>\n",
              "      </button>\n",
              "\n",
              "<style>\n",
              "  .colab-df-quickchart {\n",
              "      --bg-color: #E8F0FE;\n",
              "      --fill-color: #1967D2;\n",
              "      --hover-bg-color: #E2EBFA;\n",
              "      --hover-fill-color: #174EA6;\n",
              "      --disabled-fill-color: #AAA;\n",
              "      --disabled-bg-color: #DDD;\n",
              "  }\n",
              "\n",
              "  [theme=dark] .colab-df-quickchart {\n",
              "      --bg-color: #3B4455;\n",
              "      --fill-color: #D2E3FC;\n",
              "      --hover-bg-color: #434B5C;\n",
              "      --hover-fill-color: #FFFFFF;\n",
              "      --disabled-bg-color: #3B4455;\n",
              "      --disabled-fill-color: #666;\n",
              "  }\n",
              "\n",
              "  .colab-df-quickchart {\n",
              "    background-color: var(--bg-color);\n",
              "    border: none;\n",
              "    border-radius: 50%;\n",
              "    cursor: pointer;\n",
              "    display: none;\n",
              "    fill: var(--fill-color);\n",
              "    height: 32px;\n",
              "    padding: 0;\n",
              "    width: 32px;\n",
              "  }\n",
              "\n",
              "  .colab-df-quickchart:hover {\n",
              "    background-color: var(--hover-bg-color);\n",
              "    box-shadow: 0 1px 2px rgba(60, 64, 67, 0.3), 0 1px 3px 1px rgba(60, 64, 67, 0.15);\n",
              "    fill: var(--button-hover-fill-color);\n",
              "  }\n",
              "\n",
              "  .colab-df-quickchart-complete:disabled,\n",
              "  .colab-df-quickchart-complete:disabled:hover {\n",
              "    background-color: var(--disabled-bg-color);\n",
              "    fill: var(--disabled-fill-color);\n",
              "    box-shadow: none;\n",
              "  }\n",
              "\n",
              "  .colab-df-spinner {\n",
              "    border: 2px solid var(--fill-color);\n",
              "    border-color: transparent;\n",
              "    border-bottom-color: var(--fill-color);\n",
              "    animation:\n",
              "      spin 1s steps(1) infinite;\n",
              "  }\n",
              "\n",
              "  @keyframes spin {\n",
              "    0% {\n",
              "      border-color: transparent;\n",
              "      border-bottom-color: var(--fill-color);\n",
              "      border-left-color: var(--fill-color);\n",
              "    }\n",
              "    20% {\n",
              "      border-color: transparent;\n",
              "      border-left-color: var(--fill-color);\n",
              "      border-top-color: var(--fill-color);\n",
              "    }\n",
              "    30% {\n",
              "      border-color: transparent;\n",
              "      border-left-color: var(--fill-color);\n",
              "      border-top-color: var(--fill-color);\n",
              "      border-right-color: var(--fill-color);\n",
              "    }\n",
              "    40% {\n",
              "      border-color: transparent;\n",
              "      border-right-color: var(--fill-color);\n",
              "      border-top-color: var(--fill-color);\n",
              "    }\n",
              "    60% {\n",
              "      border-color: transparent;\n",
              "      border-right-color: var(--fill-color);\n",
              "    }\n",
              "    80% {\n",
              "      border-color: transparent;\n",
              "      border-right-color: var(--fill-color);\n",
              "      border-bottom-color: var(--fill-color);\n",
              "    }\n",
              "    90% {\n",
              "      border-color: transparent;\n",
              "      border-bottom-color: var(--fill-color);\n",
              "    }\n",
              "  }\n",
              "</style>\n",
              "\n",
              "      <script>\n",
              "        async function quickchart(key) {\n",
              "          const quickchartButtonEl =\n",
              "            document.querySelector('#' + key + ' button');\n",
              "          quickchartButtonEl.disabled = true;  // To prevent multiple clicks.\n",
              "          quickchartButtonEl.classList.add('colab-df-spinner');\n",
              "          try {\n",
              "            const charts = await google.colab.kernel.invokeFunction(\n",
              "                'suggestCharts', [key], {});\n",
              "          } catch (error) {\n",
              "            console.error('Error during call to suggestCharts:', error);\n",
              "          }\n",
              "          quickchartButtonEl.classList.remove('colab-df-spinner');\n",
              "          quickchartButtonEl.classList.add('colab-df-quickchart-complete');\n",
              "        }\n",
              "        (() => {\n",
              "          let quickchartButtonEl =\n",
              "            document.querySelector('#df-0537c47f-16cf-48d7-85bf-b3851733cfb8 button');\n",
              "          quickchartButtonEl.style.display =\n",
              "            google.colab.kernel.accessAllowed ? 'block' : 'none';\n",
              "        })();\n",
              "      </script>\n",
              "    </div>\n",
              "\n",
              "  <div id=\"id_a600506c-f334-4859-82cc-6870eb3c122e\">\n",
              "    <style>\n",
              "      .colab-df-generate {\n",
              "        background-color: #E8F0FE;\n",
              "        border: none;\n",
              "        border-radius: 50%;\n",
              "        cursor: pointer;\n",
              "        display: none;\n",
              "        fill: #1967D2;\n",
              "        height: 32px;\n",
              "        padding: 0 0 0 0;\n",
              "        width: 32px;\n",
              "      }\n",
              "\n",
              "      .colab-df-generate:hover {\n",
              "        background-color: #E2EBFA;\n",
              "        box-shadow: 0px 1px 2px rgba(60, 64, 67, 0.3), 0px 1px 3px 1px rgba(60, 64, 67, 0.15);\n",
              "        fill: #174EA6;\n",
              "      }\n",
              "\n",
              "      [theme=dark] .colab-df-generate {\n",
              "        background-color: #3B4455;\n",
              "        fill: #D2E3FC;\n",
              "      }\n",
              "\n",
              "      [theme=dark] .colab-df-generate:hover {\n",
              "        background-color: #434B5C;\n",
              "        box-shadow: 0px 1px 3px 1px rgba(0, 0, 0, 0.15);\n",
              "        filter: drop-shadow(0px 1px 2px rgba(0, 0, 0, 0.3));\n",
              "        fill: #FFFFFF;\n",
              "      }\n",
              "    </style>\n",
              "    <button class=\"colab-df-generate\" onclick=\"generateWithVariable('df')\"\n",
              "            title=\"Generate code using this dataframe.\"\n",
              "            style=\"display:none;\">\n",
              "\n",
              "  <svg xmlns=\"http://www.w3.org/2000/svg\" height=\"24px\"viewBox=\"0 0 24 24\"\n",
              "       width=\"24px\">\n",
              "    <path d=\"M7,19H8.4L18.45,9,17,7.55,7,17.6ZM5,21V16.75L18.45,3.32a2,2,0,0,1,2.83,0l1.4,1.43a1.91,1.91,0,0,1,.58,1.4,1.91,1.91,0,0,1-.58,1.4L9.25,21ZM18.45,9,17,7.55Zm-12,3A5.31,5.31,0,0,0,4.9,8.1,5.31,5.31,0,0,0,1,6.5,5.31,5.31,0,0,0,4.9,4.9,5.31,5.31,0,0,0,6.5,1,5.31,5.31,0,0,0,8.1,4.9,5.31,5.31,0,0,0,12,6.5,5.46,5.46,0,0,0,6.5,12Z\"/>\n",
              "  </svg>\n",
              "    </button>\n",
              "    <script>\n",
              "      (() => {\n",
              "      const buttonEl =\n",
              "        document.querySelector('#id_a600506c-f334-4859-82cc-6870eb3c122e button.colab-df-generate');\n",
              "      buttonEl.style.display =\n",
              "        google.colab.kernel.accessAllowed ? 'block' : 'none';\n",
              "\n",
              "      buttonEl.onclick = () => {\n",
              "        google.colab.notebook.generateWithVariable('df');\n",
              "      }\n",
              "      })();\n",
              "    </script>\n",
              "  </div>\n",
              "\n",
              "    </div>\n",
              "  </div>\n"
            ],
            "application/vnd.google.colaboratory.intrinsic+json": {
              "type": "dataframe",
              "variable_name": "df",
              "summary": "{\n  \"name\": \"df\",\n  \"rows\": 2,\n  \"fields\": [\n    {\n      \"column\": \"Model\",\n      \"properties\": {\n        \"dtype\": \"string\",\n        \"num_unique_values\": 2,\n        \"samples\": [\n          \"model_NN\",\n          \"model_bnn\"\n        ],\n        \"semantic_type\": \"\",\n        \"description\": \"\"\n      }\n    },\n    {\n      \"column\": \"Calibrated Thr\",\n      \"properties\": {\n        \"dtype\": \"number\",\n        \"std\": 0.05656854249492385,\n        \"min\": 0.83,\n        \"max\": 0.91,\n        \"num_unique_values\": 2,\n        \"samples\": [\n          0.91,\n          0.83\n        ],\n        \"semantic_type\": \"\",\n        \"description\": \"\"\n      }\n    },\n    {\n      \"column\": \"Val Acc (%)\",\n      \"properties\": {\n        \"dtype\": \"number\",\n        \"std\": 0.36062445840514284,\n        \"min\": 97.13,\n        \"max\": 97.64,\n        \"num_unique_values\": 2,\n        \"samples\": [\n          97.13,\n          97.64\n        ],\n        \"semantic_type\": \"\",\n        \"description\": \"\"\n      }\n    },\n    {\n      \"column\": \"Accuracy (%)\",\n      \"properties\": {\n        \"dtype\": \"number\",\n        \"std\": 0.24748737341529767,\n        \"min\": 97.19,\n        \"max\": 97.54,\n        \"num_unique_values\": 2,\n        \"samples\": [\n          97.19,\n          97.54\n        ],\n        \"semantic_type\": \"\",\n        \"description\": \"\"\n      }\n    },\n    {\n      \"column\": \"Precision (%)\",\n      \"properties\": {\n        \"dtype\": \"number\",\n        \"std\": 1.5414927829866685,\n        \"min\": 84.79,\n        \"max\": 86.97,\n        \"num_unique_values\": 2,\n        \"samples\": [\n          84.79,\n          86.97\n        ],\n        \"semantic_type\": \"\",\n        \"description\": \"\"\n      }\n    },\n    {\n      \"column\": \"Recall (%)\",\n      \"properties\": {\n        \"dtype\": \"number\",\n        \"std\": 0.8061017305526645,\n        \"min\": 87.57,\n        \"max\": 88.71,\n        \"num_unique_values\": 2,\n        \"samples\": [\n          87.57,\n          88.71\n        ],\n        \"semantic_type\": \"\",\n        \"description\": \"\"\n      }\n    },\n    {\n      \"column\": \"F1-score (%)\",\n      \"properties\": {\n        \"dtype\": \"number\",\n        \"std\": 1.1879393923934047,\n        \"min\": 86.16,\n        \"max\": 87.84,\n        \"num_unique_values\": 2,\n        \"samples\": [\n          86.16,\n          87.84\n        ],\n        \"semantic_type\": \"\",\n        \"description\": \"\"\n      }\n    },\n    {\n      \"column\": \"AUC (%)\",\n      \"properties\": {\n        \"dtype\": \"number\",\n        \"std\": 0.13435028842544242,\n        \"min\": 98.83,\n        \"max\": 99.02,\n        \"num_unique_values\": 2,\n        \"samples\": [\n          98.83,\n          99.02\n        ],\n        \"semantic_type\": \"\",\n        \"description\": \"\"\n      }\n    },\n    {\n      \"column\": \"FPR\",\n      \"properties\": {\n        \"dtype\": \"number\",\n        \"std\": 12,\n        \"min\": 93,\n        \"max\": 110,\n        \"num_unique_values\": 2,\n        \"samples\": [\n          110,\n          93\n        ],\n        \"semantic_type\": \"\",\n        \"description\": \"\"\n      }\n    },\n    {\n      \"column\": \"TP\",\n      \"properties\": {\n        \"dtype\": \"number\",\n        \"std\": 5,\n        \"min\": 613,\n        \"max\": 621,\n        \"num_unique_values\": 2,\n        \"samples\": [\n          613,\n          621\n        ],\n        \"semantic_type\": \"\",\n        \"description\": \"\"\n      }\n    },\n    {\n      \"column\": \"TN\",\n      \"properties\": {\n        \"dtype\": \"number\",\n        \"std\": 12,\n        \"min\": 6190,\n        \"max\": 6207,\n        \"num_unique_values\": 2,\n        \"samples\": [\n          6190,\n          6207\n        ],\n        \"semantic_type\": \"\",\n        \"description\": \"\"\n      }\n    },\n    {\n      \"column\": \"FN\",\n      \"properties\": {\n        \"dtype\": \"number\",\n        \"std\": 5,\n        \"min\": 79,\n        \"max\": 87,\n        \"num_unique_values\": 2,\n        \"samples\": [\n          87,\n          79\n        ],\n        \"semantic_type\": \"\",\n        \"description\": \"\"\n      }\n    }\n  ]\n}"
            }
          },
          "metadata": {}
        },
        {
          "output_type": "display_data",
          "data": {
            "text/plain": [
              "<Figure size 550x550 with 1 Axes>"
            ],
            "image/png": "[encoded data removed]"
          },
          "metadata": {}
        },
        {
          "output_type": "display_data",
          "data": {
            "text/plain": [
              "<Figure size 650x400 with 1 Axes>"
            ],
            "image/png": "[encoded data removed]"
          },
          "metadata": {}
        }
      ]
    },
    {
      "cell_type": "code",
      "source": [
        "# ==== ONE-CELL: NN data-flow diagram + Paper-vs-Mine comparison (Dataset-1, NN) ====\n",
        "import numpy as np, torch, matplotlib.pyplot as plt\n",
        "from matplotlib.patches import FancyBboxPatch, FancyArrowPatch\n",
        "from sklearn.metrics import roc_auc_score\n",
        "\n",
        "# ---------- helpers (self-contained) ----------\n",
        "def _to_idx_tensor(mask, device):\n",
        "    return mask if isinstance(mask, torch.Tensor) else torch.as_tensor(mask, dtype=torch.long, device=device)\n",
        "\n",
        "def _align_logits_labels(logits, Y, idx):\n",
        "    # logits: (B,N) or (B,N,1) ; Y: (B,N) or (B,#action)\n",
        "    if logits.ndim == 3 and logits.size(-1) == 1:\n",
        "        logits = logits.squeeze(-1)\n",
        "    Nl, Ny, Ia = logits.shape[1], Y.shape[1], idx.numel()\n",
        "    if Nl == Ny:\n",
        "        if Ny == Ia:\n",
        "            return logits, Y.float()\n",
        "        else:\n",
        "            return logits.index_select(1, idx), Y.index_select(1, idx).float()\n",
        "    elif Ny == Ia and Nl > Ny:\n",
        "        return logits.index_select(1, idx), Y.float()\n",
        "    elif Nl == Ia and Ny > Nl:\n",
        "        return logits, Y.index_select(1, idx).float()\n",
        "    else:\n",
        "        raise ValueError(f\"Cannot align: logits nodes={Nl}, labels nodes={Ny}, action={Ia}\")\n",
        "\n",
        "@torch.no_grad()\n",
        "def _probs_labels_for(model, X, Y, action_mask, device='cpu', batch=256):\n",
        "    model.eval(); model.to(device)\n",
        "    idx = _to_idx_tensor(action_mask, device)\n",
        "    P, T = [], []\n",
        "    for i in range(0, X.shape[0], batch):\n",
        "        xb = X[i:i+batch].to(device); yb = Y[i:i+batch].to(device)\n",
        "        lo = model(xb)\n",
        "        lo, ys = _align_logits_labels(lo, yb, idx)\n",
        "        P.append(torch.sigmoid(lo).detach().cpu().numpy().ravel())\n",
        "        T.append(ys.detach().cpu().numpy().astype(int).ravel())\n",
        "    return np.concatenate(P), np.concatenate(T)\n",
        "\n",
        "def _metrics_from(py, thr=0.5):\n",
        "    p, y = py\n",
        "    pred = (p >= thr).astype(int)\n",
        "    TP = int(((pred==1)&(y==1)).sum())\n",
        "    FP = int(((pred==1)&(y==0)).sum())\n",
        "    TN = int(((pred==0)&(y==0)).sum())\n",
        "    FN = int(((pred==0)&(y==1)).sum())\n",
        "    acc = (TP+TN)/max(1,(TP+TN+FP+FN))\n",
        "    prec = TP/(TP+FP+1e-12)\n",
        "    rec  = TP/(TP+FN+1e-12)\n",
        "    f1   = 2*prec*rec/(prec+rec+1e-12)\n",
        "    auc  = roc_auc_score(y, p) if len(np.unique(y))==2 else float('nan')\n",
        "    fpr  = FP/(FP+TN+1e-12)\n",
        "    pct  = lambda v: round(v*100, 2)\n",
        "    return {\n",
        "        \"Accuracy (%)\": pct(acc), \"Precision (%)\": pct(prec), \"Recall (%)\": pct(rec),\n",
        "        \"F1 (%)\": pct(f1), \"AUC (%)\": pct(auc), \"FPR (%)\": pct(fpr),\n",
        "        \"TP\": TP, \"FP\": FP, \"TN\": TN, \"FN\": FN\n",
        "    }\n",
        "\n",
        "def _draw_box(ax, xy, wh, text, fc=\"#f9fafb\", ec=\"#111827\", lw=1.5, r=12):\n",
        "    x,y = xy; w,h = wh\n",
        "    box = FancyBboxPatch((x,y), w, h, boxstyle=f\"round,pad=0.02,rounding_size={r}\",\n",
        "                         linewidth=lw, edgecolor=ec, facecolor=fc)\n",
        "    ax.add_patch(box)\n",
        "    ax.text(x+w/2, y+h/2, text, ha=\"center\", va=\"center\", fontsize=12)\n",
        "    return (x,y,w,h)\n",
        "\n",
        "def _arrow(ax, src, dst):\n",
        "    (x1,y1,w1,h1) = src; (x2,y2,w2,h2) = dst\n",
        "    start = (x1+w1, y1+h1/2); end = (x2, y2+h2/2)\n",
        "    arr = FancyArrowPatch(start, end, arrowstyle=\"-|>\", mutation_scale=12, linewidth=1.5, color=\"#111827\")\n",
        "    ax.add_patch(arr)\n",
        "\n",
        "# ---------- 1) DATA-FLOW DIAGRAM ----------\n",
        "fig, ax = plt.subplots(figsize=(11, 4))\n",
        "ax.axis(\"off\"); ax.set_xlim(0, 22); ax.set_ylim(0, 6)\n",
        "\n",
        "# row y=3: features -> concat -> MLP -> logits -> sigmoid -> preds -> metrics\n",
        "b1 = _draw_box(ax, (0.5, 3.0), (4.0, 2.2), \"Attack Graph Features\\n(D)\")\n",
        "b2 = _draw_box(ax, (0.5, 0.8), (4.0, 2.2), \"Real-time Measurements\\n(K)\")\n",
        "b3 = _draw_box(ax, (5.5, 2.2), (4.0, 2.2), \"Concatenate\\n[D + K]\")\n",
        "b4 = _draw_box(ax, (10.0, 2.2), (5.2, 2.2), \"Two-Layer MLP (per node)\\nLinear→ReLU→Linear→ReLU→Dropout→Linear\")\n",
        "b5 = _draw_box(ax, (16.0, 2.2), (3.2, 2.2), \"Logits [B×N]\\nSigmoid + τ\")\n",
        "b6 = _draw_box(ax, (19.6, 2.2), (2.6, 2.2), \"Predictions [B×N]\\n(benign/malicious)\")\n",
        "\n",
        "_arrow(ax, b1, b3); _arrow(ax, b2, b3); _arrow(ax, b3, b4); _arrow(ax, b4, b5); _arrow(ax, b5, b6)\n",
        "\n",
        "ax.text(0.7, 0.3, \"Batch B, Nodes N, Features D\\n(min-max scaled)\", fontsize=10, ha=\"left\", va=\"center\")\n",
        "ax.text(19.7, 0.3, \"Metrics: Accuracy / Precision / Recall / F1 / AUC / FPR\", fontsize=10, ha=\"left\", va=\"center\")\n",
        "\n",
        "plt.title(\"My IDS NN Data Flow (Dataset-1, per-node MLP)\", fontsize=14)\n",
        "plt.tight_layout()\n",
        "plt.show()\n",
        "\n",
        "# ---------- 2) PAPER-vs-MINE METRIC COMPARISON ----------\n",
        "device = 'cuda' if torch.cuda.is_available() else 'cpu'\n",
        "\n",
        "# Paper (Dataset-1, NN row) — from Table 4; accuracy derived from 90/10 mix\n",
        "paper_metrics = {\n",
        "    \"Accuracy (%)\": 88.35,  # derived ≈ 0.10*Recall + 0.90*(1-FPR)\n",
        "    \"Precision (%)\": 71.35,\n",
        "    \"Recall (%)\": 85.82,\n",
        "    \"F1 (%)\": 75.62,\n",
        "    \"AUC (%)\": 93.76,\n",
        "    \"FPR (%)\": 11.37\n",
        "}\n",
        "\n",
        "# Try to compute YOUR metrics from model_bnn; otherwise fallback to your printed numbers\n",
        "my_metrics = None\n",
        "try:\n",
        "    # prefer an existing calibrated threshold if available\n",
        "    thr = float(globals().get(\"thr_bnn\", 0.83))\n",
        "    p, y = _probs_labels_for(globals()[\"model_bnn\"], globals()[\"X_test\"], globals()[\"Y_test\"], globals()[\"action_mask\"], device=device)\n",
        "    my_metrics = _metrics_from((p, y), thr=thr)\n",
        "except Exception as e:\n",
        "    # fallback to your posted results\n",
        "    my_metrics = {\n",
        "        \"Accuracy (%)\": 97.54,\n",
        "        \"Precision (%)\": 86.97,\n",
        "        \"Recall (%)\": 88.71,\n",
        "        \"F1 (%)\": 87.84,\n",
        "        \"AUC (%)\": 99.02,\n",
        "        \"FPR (%)\": round(93/(93+6207)*100, 2)  # from FP=93, TN=6207\n",
        "    }\n",
        "\n",
        "# Bar chart for 6 metrics\n",
        "labels = [\"Accuracy (%)\",\"Precision (%)\",\"Recall (%)\",\"F1 (%)\",\"AUC (%)\",\"FPR (%)\"]\n",
        "paper_vals = [paper_metrics[k] for k in labels]\n",
        "mine_vals  = [my_metrics[k]    for k in labels]\n",
        "\n",
        "x = np.arange(len(labels))\n",
        "w = 0.36\n",
        "\n",
        "plt.figure(figsize=(10, 4.5))\n",
        "plt.bar(x - w/2, paper_vals, width=w, label=\"Paper NN (Dataset-1)\")\n",
        "plt.bar(x + w/2, mine_vals,  width=w, label=\"My NN (model_bnn)\")\n",
        "plt.xticks(x, labels, rotation=20)\n",
        "plt.ylabel(\"Percent\")\n",
        "plt.title(\"Paper vs My NN (Dataset-1) — Metrics Comparison\")\n",
        "plt.ylim(0, 100)\n",
        "for i,(a,b) in enumerate(zip(paper_vals, mine_vals)):\n",
        "    plt.text(i - w/2, a + 0.8, f\"{a:.1f}\", ha=\"center\", va=\"bottom\", fontsize=9)\n",
        "    plt.text(i + w/2, b + 0.8, f\"{b:.1f}\", ha=\"center\", va=\"bottom\", fontsize=9)\n",
        "plt.legend()\n",
        "plt.grid(axis=\"y\", linestyle=\":\", alpha=0.6)\n",
        "plt.tight_layout()\n",
        "plt.show()\n",
        "\n",
        "# Also print a small summary table you can copy into slides\n",
        "import pandas as pd\n",
        "df_comp = pd.DataFrame(\n",
        "    {\"Metric\": labels,\n",
        "     \"Paper NN (D1) %\": paper_vals,\n",
        "     \"My NN (bnn) %\": mine_vals}\n",
        ")\n",
        "print(\"\\n=== Paper vs My NN (Dataset-1) ===\")\n",
        "display(df_comp)"
      ],
      "metadata": {
        "id": "oXbdomm9LR4p",
        "colab": {
          "base_uri": "https://localhost:8080/",
          "height": 1000
        },
        "outputId": "19c0b30e-dfa2-4f53-ed37-7e25e6ca0bcc"
      },
      "execution_count": null,
      "outputs": [
        {
          "output_type": "display_data",
          "data": {
            "text/plain": [
              "<Figure size 1100x400 with 1 Axes>"
            ],
            "image/png": "[encoded data removed]"
          },
          "metadata": {}
        },
        {
          "output_type": "display_data",
          "data": {
            "text/plain": [
              "<Figure size 1000x450 with 1 Axes>"
            ],
            "image/png": "[encoded data removed]"
          },
          "metadata": {}
        },
        {
          "output_type": "stream",
          "name": "stdout",
          "text": [
            "\n",
            "=== Paper vs My NN (Dataset-1) ===\n"
          ]
        },
        {
          "output_type": "display_data",
          "data": {
            "text/plain": [
              "          Metric  Paper NN (D1) %  My NN (bnn) %\n",
              "0   Accuracy (%)            88.35          97.54\n",
              "1  Precision (%)            71.35          86.97\n",
              "2     Recall (%)            85.82          88.71\n",
              "3         F1 (%)            75.62          87.84\n",
              "4        AUC (%)            93.76          99.02\n",
              "5        FPR (%)            11.37           1.48"
            ],
            "text/html": [
              "\n",
              "  <div id=\"df-bb7cb405-88cd-4de2-8771-40cb859bb7bd\" class=\"colab-df-container\">\n",
              "    <div>\n",
              "<style scoped>\n",
              "    .dataframe tbody tr th:only-of-type {\n",
              "        vertical-align: middle;\n",
              "    }\n",
              "\n",
              "    .dataframe tbody tr th {\n",
              "        vertical-align: top;\n",
              "    }\n",
              "\n",
              "    .dataframe thead th {\n",
              "        text-align: right;\n",
              "    }\n",
              "</style>\n",
              "<table border=\"1\" class=\"dataframe\">\n",
              "  <thead>\n",
              "    <tr style=\"text-align: right;\">\n",
              "      <th></th>\n",
              "      <th>Metric</th>\n",
              "      <th>Paper NN (D1) %</th>\n",
              "      <th>My NN (bnn) %</th>\n",
              "    </tr>\n",
              "  </thead>\n",
              "  <tbody>\n",
              "    <tr>\n",
              "      <th>0</th>\n",
              "      <td>Accuracy (%)</td>\n",
              "      <td>88.35</td>\n",
              "      <td>97.54</td>\n",
              "    </tr>\n",
              "    <tr>\n",
              "      <th>1</th>\n",
              "      <td>Precision (%)</td>\n",
              "      <td>71.35</td>\n",
              "      <td>86.97</td>\n",
              "    </tr>\n",
              "    <tr>\n",
              "      <th>2</th>\n",
              "      <td>Recall (%)</td>\n",
              "      <td>85.82</td>\n",
              "      <td>88.71</td>\n",
              "    </tr>\n",
              "    <tr>\n",
              "      <th>3</th>\n",
              "      <td>F1 (%)</td>\n",
              "      <td>75.62</td>\n",
              "      <td>87.84</td>\n",
              "    </tr>\n",
              "    <tr>\n",
              "      <th>4</th>\n",
              "      <td>AUC (%)</td>\n",
              "      <td>93.76</td>\n",
              "      <td>99.02</td>\n",
              "    </tr>\n",
              "    <tr>\n",
              "      <th>5</th>\n",
              "      <td>FPR (%)</td>\n",
              "      <td>11.37</td>\n",
              "      <td>1.48</td>\n",
              "    </tr>\n",
              "  </tbody>\n",
              "</table>\n",
              "</div>\n",
              "    <div class=\"colab-df-buttons\">\n",
              "\n",
              "  <div class=\"colab-df-container\">\n",
              "    <button class=\"colab-df-convert\" onclick=\"convertToInteractive('df-bb7cb405-88cd-4de2-8771-40cb859bb7bd')\"\n",
              "            title=\"Convert this dataframe to an interactive table.\"\n",
              "            style=\"display:none;\">\n",
              "\n",
              "  <svg xmlns=\"http://www.w3.org/2000/svg\" height=\"24px\" viewBox=\"0 -960 960 960\">\n",
              "    <path d=\"M120-120v-720h720v720H120Zm60-500h600v-160H180v160Zm220 220h160v-160H400v160Zm0 220h160v-160H400v160ZM180-400h160v-160H180v160Zm440 0h160v-160H620v160ZM180-180h160v-160H180v160Zm440 0h160v-160H620v160Z\"/>\n",
              "  </svg>\n",
              "    </button>\n",
              "\n",
              "  <style>\n",
              "    .colab-df-container {\n",
              "      display:flex;\n",
              "      gap: 12px;\n",
              "    }\n",
              "\n",
              "    .colab-df-convert {\n",
              "      background-color: #E8F0FE;\n",
              "      border: none;\n",
              "      border-radius: 50%;\n",
              "      cursor: pointer;\n",
              "      display: none;\n",
              "      fill: #1967D2;\n",
              "      height: 32px;\n",
              "      padding: 0 0 0 0;\n",
              "      width: 32px;\n",
              "    }\n",
              "\n",
              "    .colab-df-convert:hover {\n",
              "      background-color: #E2EBFA;\n",
              "      box-shadow: 0px 1px 2px rgba(60, 64, 67, 0.3), 0px 1px 3px 1px rgba(60, 64, 67, 0.15);\n",
              "      fill: #174EA6;\n",
              "    }\n",
              "\n",
              "    .colab-df-buttons div {\n",
              "      margin-bottom: 4px;\n",
              "    }\n",
              "\n",
              "    [theme=dark] .colab-df-convert {\n",
              "      background-color: #3B4455;\n",
              "      fill: #D2E3FC;\n",
              "    }\n",
              "\n",
              "    [theme=dark] .colab-df-convert:hover {\n",
              "      background-color: #434B5C;\n",
              "      box-shadow: 0px 1px 3px 1px rgba(0, 0, 0, 0.15);\n",
              "      filter: drop-shadow(0px 1px 2px rgba(0, 0, 0, 0.3));\n",
              "      fill: #FFFFFF;\n",
              "    }\n",
              "  </style>\n",
              "\n",
              "    <script>\n",
              "      const buttonEl =\n",
              "        document.querySelector('#df-bb7cb405-88cd-4de2-8771-40cb859bb7bd button.colab-df-convert');\n",
              "      buttonEl.style.display =\n",
              "        google.colab.kernel.accessAllowed ? 'block' : 'none';\n",
              "\n",
              "      async function convertToInteractive(key) {\n",
              "        const element = document.querySelector('#df-bb7cb405-88cd-4de2-8771-40cb859bb7bd');\n",
              "        const dataTable =\n",
              "          await google.colab.kernel.invokeFunction('convertToInteractive',\n",
              "                                                    [key], {});\n",
              "        if (!dataTable) return;\n",
              "\n",
              "        const docLinkHtml = 'Like what you see? Visit the ' +\n",
              "          '<a target=\"_blank\" href=https://colab.research.google.com/notebooks/data_table.ipynb>data table notebook</a>'\n",
              "          + ' to learn more about interactive tables.';\n",
              "        element.innerHTML = '';\n",
              "        dataTable['output_type'] = 'display_data';\n",
              "        await google.colab.output.renderOutput(dataTable, element);\n",
              "        const docLink = document.createElement('div');\n",
              "        docLink.innerHTML = docLinkHtml;\n",
              "        element.appendChild(docLink);\n",
              "      }\n",
              "    </script>\n",
              "  </div>\n",
              "\n",
              "\n",
              "    <div id=\"df-fd3138b7-e13c-42dd-a727-523ff31d56a0\">\n",
              "      <button class=\"colab-df-quickchart\" onclick=\"quickchart('df-fd3138b7-e13c-42dd-a727-523ff31d56a0')\"\n",
              "                title=\"Suggest charts\"\n",
              "                style=\"display:none;\">\n",
              "\n",
              "<svg xmlns=\"http://www.w3.org/2000/svg\" height=\"24px\"viewBox=\"0 0 24 24\"\n",
              "     width=\"24px\">\n",
              "    <g>\n",
              "        <path d=\"M19 3H5c-1.1 0-2 .9-2 2v14c0 1.1.9 2 2 2h14c1.1 0 2-.9 2-2V5c0-1.1-.9-2-2-2zM9 17H7v-7h2v7zm4 0h-2V7h2v10zm4 0h-2v-4h2v4z\"/>\n",
              "    </g>\n",
              "</svg>\n",
              "      </button>\n",
              "\n",
              "<style>\n",
              "  .colab-df-quickchart {\n",
              "      --bg-color: #E8F0FE;\n",
              "      --fill-color: #1967D2;\n",
              "      --hover-bg-color: #E2EBFA;\n",
              "      --hover-fill-color: #174EA6;\n",
              "      --disabled-fill-color: #AAA;\n",
              "      --disabled-bg-color: #DDD;\n",
              "  }\n",
              "\n",
              "  [theme=dark] .colab-df-quickchart {\n",
              "      --bg-color: #3B4455;\n",
              "      --fill-color: #D2E3FC;\n",
              "      --hover-bg-color: #434B5C;\n",
              "      --hover-fill-color: #FFFFFF;\n",
              "      --disabled-bg-color: #3B4455;\n",
              "      --disabled-fill-color: #666;\n",
              "  }\n",
              "\n",
              "  .colab-df-quickchart {\n",
              "    background-color: var(--bg-color);\n",
              "    border: none;\n",
              "    border-radius: 50%;\n",
              "    cursor: pointer;\n",
              "    display: none;\n",
              "    fill: var(--fill-color);\n",
              "    height: 32px;\n",
              "    padding: 0;\n",
              "    width: 32px;\n",
              "  }\n",
              "\n",
              "  .colab-df-quickchart:hover {\n",
              "    background-color: var(--hover-bg-color);\n",
              "    box-shadow: 0 1px 2px rgba(60, 64, 67, 0.3), 0 1px 3px 1px rgba(60, 64, 67, 0.15);\n",
              "    fill: var(--button-hover-fill-color);\n",
              "  }\n",
              "\n",
              "  .colab-df-quickchart-complete:disabled,\n",
              "  .colab-df-quickchart-complete:disabled:hover {\n",
              "    background-color: var(--disabled-bg-color);\n",
              "    fill: var(--disabled-fill-color);\n",
              "    box-shadow: none;\n",
              "  }\n",
              "\n",
              "  .colab-df-spinner {\n",
              "    border: 2px solid var(--fill-color);\n",
              "    border-color: transparent;\n",
              "    border-bottom-color: var(--fill-color);\n",
              "    animation:\n",
              "      spin 1s steps(1) infinite;\n",
              "  }\n",
              "\n",
              "  @keyframes spin {\n",
              "    0% {\n",
              "      border-color: transparent;\n",
              "      border-bottom-color: var(--fill-color);\n",
              "      border-left-color: var(--fill-color);\n",
              "    }\n",
              "    20% {\n",
              "      border-color: transparent;\n",
              "      border-left-color: var(--fill-color);\n",
              "      border-top-color: var(--fill-color);\n",
              "    }\n",
              "    30% {\n",
              "      border-color: transparent;\n",
              "      border-left-color: var(--fill-color);\n",
              "      border-top-color: var(--fill-color);\n",
              "      border-right-color: var(--fill-color);\n",
              "    }\n",
              "    40% {\n",
              "      border-color: transparent;\n",
              "      border-right-color: var(--fill-color);\n",
              "      border-top-color: var(--fill-color);\n",
              "    }\n",
              "    60% {\n",
              "      border-color: transparent;\n",
              "      border-right-color: var(--fill-color);\n",
              "    }\n",
              "    80% {\n",
              "      border-color: transparent;\n",
              "      border-right-color: var(--fill-color);\n",
              "      border-bottom-color: var(--fill-color);\n",
              "    }\n",
              "    90% {\n",
              "      border-color: transparent;\n",
              "      border-bottom-color: var(--fill-color);\n",
              "    }\n",
              "  }\n",
              "</style>\n",
              "\n",
              "      <script>\n",
              "        async function quickchart(key) {\n",
              "          const quickchartButtonEl =\n",
              "            document.querySelector('#' + key + ' button');\n",
              "          quickchartButtonEl.disabled = true;  // To prevent multiple clicks.\n",
              "          quickchartButtonEl.classList.add('colab-df-spinner');\n",
              "          try {\n",
              "            const charts = await google.colab.kernel.invokeFunction(\n",
              "                'suggestCharts', [key], {});\n",
              "          } catch (error) {\n",
              "            console.error('Error during call to suggestCharts:', error);\n",
              "          }\n",
              "          quickchartButtonEl.classList.remove('colab-df-spinner');\n",
              "          quickchartButtonEl.classList.add('colab-df-quickchart-complete');\n",
              "        }\n",
              "        (() => {\n",
              "          let quickchartButtonEl =\n",
              "            document.querySelector('#df-fd3138b7-e13c-42dd-a727-523ff31d56a0 button');\n",
              "          quickchartButtonEl.style.display =\n",
              "            google.colab.kernel.accessAllowed ? 'block' : 'none';\n",
              "        })();\n",
              "      </script>\n",
              "    </div>\n",
              "\n",
              "  <div id=\"id_cb44d0c3-62ab-438b-9bc3-f151db12f5d0\">\n",
              "    <style>\n",
              "      .colab-df-generate {\n",
              "        background-color: #E8F0FE;\n",
              "        border: none;\n",
              "        border-radius: 50%;\n",
              "        cursor: pointer;\n",
              "        display: none;\n",
              "        fill: #1967D2;\n",
              "        height: 32px;\n",
              "        padding: 0 0 0 0;\n",
              "        width: 32px;\n",
              "      }\n",
              "\n",
              "      .colab-df-generate:hover {\n",
              "        background-color: #E2EBFA;\n",
              "        box-shadow: 0px 1px 2px rgba(60, 64, 67, 0.3), 0px 1px 3px 1px rgba(60, 64, 67, 0.15);\n",
              "        fill: #174EA6;\n",
              "      }\n",
              "\n",
              "      [theme=dark] .colab-df-generate {\n",
              "        background-color: #3B4455;\n",
              "        fill: #D2E3FC;\n",
              "      }\n",
              "\n",
              "      [theme=dark] .colab-df-generate:hover {\n",
              "        background-color: #434B5C;\n",
              "        box-shadow: 0px 1px 3px 1px rgba(0, 0, 0, 0.15);\n",
              "        filter: drop-shadow(0px 1px 2px rgba(0, 0, 0, 0.3));\n",
              "        fill: #FFFFFF;\n",
              "      }\n",
              "    </style>\n",
              "    <button class=\"colab-df-generate\" onclick=\"generateWithVariable('df_comp')\"\n",
              "            title=\"Generate code using this dataframe.\"\n",
              "            style=\"display:none;\">\n",
              "\n",
              "  <svg xmlns=\"http://www.w3.org/2000/svg\" height=\"24px\"viewBox=\"0 0 24 24\"\n",
              "       width=\"24px\">\n",
              "    <path d=\"M7,19H8.4L18.45,9,17,7.55,7,17.6ZM5,21V16.75L18.45,3.32a2,2,0,0,1,2.83,0l1.4,1.43a1.91,1.91,0,0,1,.58,1.4,1.91,1.91,0,0,1-.58,1.4L9.25,21ZM18.45,9,17,7.55Zm-12,3A5.31,5.31,0,0,0,4.9,8.1,5.31,5.31,0,0,0,1,6.5,5.31,5.31,0,0,0,4.9,4.9,5.31,5.31,0,0,0,6.5,1,5.31,5.31,0,0,0,8.1,4.9,5.31,5.31,0,0,0,12,6.5,5.46,5.46,0,0,0,6.5,12Z\"/>\n",
              "  </svg>\n",
              "    </button>\n",
              "    <script>\n",
              "      (() => {\n",
              "      const buttonEl =\n",
              "        document.querySelector('#id_cb44d0c3-62ab-438b-9bc3-f151db12f5d0 button.colab-df-generate');\n",
              "      buttonEl.style.display =\n",
              "        google.colab.kernel.accessAllowed ? 'block' : 'none';\n",
              "\n",
              "      buttonEl.onclick = () => {\n",
              "        google.colab.notebook.generateWithVariable('df_comp');\n",
              "      }\n",
              "      })();\n",
              "    </script>\n",
              "  </div>\n",
              "\n",
              "    </div>\n",
              "  </div>\n"
            ],
            "application/vnd.google.colaboratory.intrinsic+json": {
              "type": "dataframe",
              "variable_name": "df_comp",
              "summary": "{\n  \"name\": \"df_comp\",\n  \"rows\": 6,\n  \"fields\": [\n    {\n      \"column\": \"Metric\",\n      \"properties\": {\n        \"dtype\": \"string\",\n        \"num_unique_values\": 6,\n        \"samples\": [\n          \"Accuracy (%)\",\n          \"Precision (%)\",\n          \"FPR (%)\"\n        ],\n        \"semantic_type\": \"\",\n        \"description\": \"\"\n      }\n    },\n    {\n      \"column\": \"Paper NN (D1) %\",\n      \"properties\": {\n        \"dtype\": \"number\",\n        \"std\": 30.38375931315939,\n        \"min\": 11.37,\n        \"max\": 93.76,\n        \"num_unique_values\": 6,\n        \"samples\": [\n          88.35,\n          71.35,\n          11.37\n        ],\n        \"semantic_type\": \"\",\n        \"description\": \"\"\n      }\n    },\n    {\n      \"column\": \"My NN (bnn) %\",\n      \"properties\": {\n        \"dtype\": \"number\",\n        \"std\": 37.32034494302895,\n        \"min\": 1.48,\n        \"max\": 99.02,\n        \"num_unique_values\": 6,\n        \"samples\": [\n          97.54,\n          86.97,\n          1.48\n        ],\n        \"semantic_type\": \"\",\n        \"description\": \"\"\n      }\n    }\n  ]\n}"
            }
          },
          "metadata": {}
        }
      ]
    },
    {
      "cell_type": "markdown",
      "metadata": {
        "id": "3d1ec19f"
      },
      "source": [
        "### NN Data-Flow Diagram and Paper vs. My NN Comparison\n",
        "\n",
        "This cell is a comprehensive one that includes both a visual representation of the Neural Network's data flow and a comparison of the performance metrics of the trained `BetterNN` model against the results reported for the NN model in the associated paper (Dataset-1).\n",
        "\n",
        "**Part 1: Data-Flow Diagram**\n",
        "- It defines helper functions (`_draw_box`, `_arrow`) using `matplotlib.patches` to draw boxes and arrows for creating a diagram.\n",
        "- It creates a matplotlib figure and axes and sets the axis to off.\n",
        "- It uses the helper functions to draw boxes representing different stages of the NN's data processing: Attack Graph Features, Real-time Measurements, Concatenate, Two-Layer MLP, Logits (with Sigmoid + Threshold), and Predictions.\n",
        "- Arrows are drawn to show the flow of data between these stages.\n",
        "- Text annotations are added to provide context about the input data shapes and the final output (metrics).\n",
        "- The diagram is titled \"My IDS NN Data Flow (Dataset-1, per-node MLP)\" and displayed.\n",
        "\n",
        "**Part 2: Paper vs. My NN Metric Comparison**\n",
        "- It defines helper functions (`_to_idx_tensor`, `_align_logits_labels`, `_probs_labels_for`, `_metrics_from`) for collecting probabilities, true labels, and computing metrics, similar to the previous evaluation cell.\n",
        "- It includes the performance metrics for the \"Paper NN (Dataset-1)\" based on values from Table 4 in the paper.\n",
        "- It computes the metrics for the trained `model_bnn` on the test set, using the calibrated threshold (`thr_bnn`) if available, or falling back to pre-defined values if necessary.\n",
        "- It then creates a bar chart comparing the Paper NN's metrics with the `model_bnn`'s metrics for key performance indicators like Accuracy, Precision, Recall, F1-score, AUC, and FPR.\n",
        "- The bar chart is titled \"Paper vs My NN (Dataset-1) — Metrics Comparison\" and displayed.\n",
        "- Finally, it prints a pandas DataFrame summarizing the comparison table, making it easy to see the differences in performance between the paper's reported results and the results achieved with the trained `BetterNN`.\n",
        "\n",
        "This cell effectively visualizes the processing steps of the NN and provides a direct comparison of the implemented model's performance against the reported baseline."
      ]
    },
    {
      "cell_type": "code",
      "source": [
        "# ==== CELL: NN-only GAP ANALYSIS (Paper NN vs My BetterNN) ====\n",
        "import numpy as np, pandas as pd, torch, time, matplotlib.pyplot as plt\n",
        "from IPython.display import display, Markdown\n",
        "from sklearn.metrics import roc_auc_score, roc_curve, auc\n",
        "\n",
        "# ---------- helpers ----------\n",
        "def _to_idx(mask, device):\n",
        "    return mask if isinstance(mask, torch.Tensor) else torch.as_tensor(mask, dtype=torch.long, device=device)\n",
        "\n",
        "def _align_logits_labels(logits, Y, idx):\n",
        "    # logits: (B,N) or (B,N,1); Y: (B,N) or (B,#action)\n",
        "    if logits.ndim == 3 and logits.size(-1) == 1:\n",
        "        logits = logits.squeeze(-1)\n",
        "    Nl, Ny, Ia = logits.shape[1], Y.shape[1], idx.numel()\n",
        "    if Nl == Ny:\n",
        "        if Ny == Ia:\n",
        "            return logits, Y.float()\n",
        "        else:\n",
        "            return logits.index_select(1, idx), Y.index_select(1, idx).float()\n",
        "    elif Ny == Ia and Nl > Ny:\n",
        "        return logits.index_select(1, idx), Y.float()\n",
        "    elif Nl == Ia and Ny > Nl:\n",
        "        return logits, Y.index_select(1, idx).float()\n",
        "    else:\n",
        "        raise ValueError(f\"Cannot align: logits nodes={Nl}, labels nodes={Ny}, action={Ia}\")\n",
        "\n",
        "@torch.no_grad()\n",
        "def _probs_labels(model, X, Y, action_mask, device='cpu', batch=256):\n",
        "    model.eval(); model.to(device)\n",
        "    idx = _to_idx(action_mask, device)\n",
        "    P, T = [], []\n",
        "    for i in range(0, X.shape[0], batch):\n",
        "        xb = X[i:i+batch].to(device); yb = Y[i:i+batch].to(device)\n",
        "        lo = model(xb)\n",
        "        lo, ys = _align_logits_labels(lo, yb, idx)\n",
        "        P.append(torch.sigmoid(lo).detach().cpu().numpy().ravel())\n",
        "        T.append(ys.detach().cpu().numpy().astype(int).ravel())\n",
        "    return np.concatenate(P), np.concatenate(T)\n",
        "\n",
        "def _metrics_from(p, y, thr):\n",
        "    pred = (p >= thr).astype(int)\n",
        "    TP = int(((pred==1)&(y==1)).sum())\n",
        "    FP = int(((pred==1)&(y==0)).sum())\n",
        "    TN = int(((pred==0)&(y==0)).sum())\n",
        "    FN = int(((pred==0)&(y==1)).sum())\n",
        "    acc = (TP+TN)/max(1,(TP+TN+FP+FN))\n",
        "    prec = TP/(TP+FP+1e-12)\n",
        "    rec  = TP/(TP+FN+1e-12)\n",
        "    f1   = 2*prec*rec/(prec+rec+1e-12)\n",
        "    aucv = roc_auc_score(y, p) if len(np.unique(y))==2 else float('nan')\n",
        "    fpr  = FP/(FP+TN+1e-12)\n",
        "    pct  = lambda v: round(v*100, 2)\n",
        "    return {\n",
        "        \"Accuracy (%)\": pct(acc),\n",
        "        \"Precision (%)\": pct(prec),\n",
        "        \"Recall (%)\": pct(rec),\n",
        "        \"F1 (%)\": pct(f1),\n",
        "        \"AUC (%)\": pct(aucv) if aucv==aucv else \"nan\",\n",
        "        \"FPR (%)\": pct(fpr),\n",
        "        \"TP\": TP, \"FP\": FP, \"TN\": TN, \"FN\": FN\n",
        "    }\n",
        "\n",
        "def _delta(ours, theirs, higher_is_better=True):\n",
        "    if ours is None or theirs is None or isinstance(ours, str) or isinstance(theirs, str):\n",
        "        return \"\"\n",
        "    d = ours - theirs\n",
        "    sign = \"+\" if d >= 0 else \"−\"\n",
        "    arrow = \"↑\" if (d>0 and higher_is_better) or (d<0 and not higher_is_better) else (\"→\" if d==0 else \"↓\")\n",
        "    return f\"{arrow} {sign}{abs(d):.2f} pts\"\n",
        "\n",
        "# ---------- PAPER NN (Dataset-1, Table 4) ----------\n",
        "paper = {\n",
        "    \"Precision (%)\": 71.35,\n",
        "    \"Recall (%)\":    85.82,\n",
        "    \"F1 (%)\":        75.62,\n",
        "    \"AUC (%)\":       93.76,\n",
        "    \"FPR (%)\":       11.37,\n",
        "}\n",
        "# Paper doesn't report Accuracy. Derive with 90/10 class mix:\n",
        "# Acc ≈ 0.10*Recall + 0.90*(1 - FPR)\n",
        "paper[\"Accuracy (%)\"] = round(0.10*paper[\"Recall (%)\"] + 0.90*(100 - paper[\"FPR (%)\"]), 2)\n",
        "\n",
        "# ---------- OUR BetterNN (model_bnn) ----------\n",
        "device = 'cuda' if torch.cuda.is_available() else 'cpu'\n",
        "thr = 0.83  # your calibrated threshold from earlier\n",
        "ours = None\n",
        "try:\n",
        "    thr = float(globals().get(\"thr_bnn\", thr))\n",
        "    p, y = _probs_labels(globals()[\"model_bnn\"], globals()[\"X_test\"], globals()[\"Y_test\"], globals()[\"action_mask\"], device=device)\n",
        "    ours = _metrics_from(p, y, thr)\n",
        "except Exception:\n",
        "    # Fallback to your posted numbers (from your table)\n",
        "    ours = {\n",
        "        \"Accuracy (%)\": 97.54,\n",
        "        \"Precision (%)\": 86.97,\n",
        "        \"Recall (%)\": 88.71,\n",
        "        \"F1 (%)\": 87.84,\n",
        "        \"AUC (%)\": 99.02,\n",
        "        # You provided FP=93, TN=6207 -> FPR = 93/(93+6207) ≈ 1.48%\n",
        "        \"FPR (%)\": round(93/(93+6207)*100, 2),\n",
        "        \"TP\": 621, \"FP\": 93, \"TN\": 6207, \"FN\": 79\n",
        "    }\n",
        "\n",
        "# ---------- comparison table ----------\n",
        "metrics_order = [\"Accuracy (%)\",\"Precision (%)\",\"Recall (%)\",\"F1 (%)\",\"AUC (%)\",\"FPR (%)\"]\n",
        "paper_row = [paper[m] for m in metrics_order]\n",
        "ours_row  = [ours[m]  for m in metrics_order]\n",
        "delta_row = []\n",
        "for m in metrics_order:\n",
        "    higher_is_better = (m != \"FPR (%)\")  # lower FPR is better\n",
        "    d = None\n",
        "    try:\n",
        "        d = round(float(ours[m]) - float(paper[m]), 2) if higher_is_better else round(float(paper[m]) - float(ours[m]), 2)\n",
        "    except Exception:\n",
        "        d = np.nan\n",
        "    # For display use the directional helper:\n",
        "    delta_row.append(_delta(float(ours[m]) if not isinstance(ours[m], str) else np.nan,\n",
        "                            float(paper[m]) if not isinstance(paper[m], str) else np.nan,\n",
        "                            higher_is_better=higher_is_better))\n",
        "\n",
        "df_cmp = pd.DataFrame({\n",
        "    \"Metric\": metrics_order,\n",
        "    \"Paper NN (D1) %\": paper_row,\n",
        "    \"My BetterNN %\":   ours_row,\n",
        "    \"Delta (ours - paper)\": delta_row\n",
        "})\n",
        "\n",
        "print(\"=== NN-only Comparison (Paper vs My BetterNN, Dataset-1) ===\")\n",
        "display(df_cmp)\n",
        "\n",
        "# ---------- 2×2 GAP ANALYSIS bullets ----------\n",
        "they_better = [\n",
        "    \"Include **robustness & explainability** in their NN study (noise stress test + GNN explainability section).\",\n",
        "    \"Provide a **reproducible baseline** with fixed narrow width (hidden=20) and report **threshold-free AUC**, ensuring consistent comparisons.\"\n",
        "]\n",
        "\n",
        "we_better = [\n",
        "    (f\"**Substantially better NN performance** on Dataset-1 at calibrated τ={thr:.2f}: \"\n",
        "     f\"Accuracy {ours['Accuracy (%)']}% ({_delta(ours['Accuracy (%)'], paper['Accuracy (%)'])}), \"\n",
        "     f\"Precision {ours['Precision (%)']}% ({_delta(ours['Precision (%)'], paper['Precision (%)'])}), \"\n",
        "     f\"Recall {ours['Recall (%)']}% ({_delta(ours['Recall (%)'], paper['Recall (%)'])}), \"\n",
        "     f\"F1 {ours['F1 (%)']}% ({_delta(ours['F1 (%)'], paper['F1 (%)'])}), \"\n",
        "     f\"AUC {ours['AUC (%)']}% ({_delta(ours['AUC (%)'], paper['AUC (%)'])}), \"\n",
        "     f\"and **FPR {ours['FPR (%)']}%** ({_delta(ours['FPR (%)'], paper['FPR (%)'], higher_is_better=False)}) lower).\"),\n",
        "    \"Stronger **training recipe** for NN: BN+GELU MLP, AdamW + OneCycle, **early stop on AUC** then **threshold calibration for accuracy** — simple to deploy, fast to run.\"\n",
        "]\n",
        "\n",
        "md = [\n",
        "\"### Gap analysis — NN only (Paper vs My BetterNN)\",\n",
        "\"**What *they* do better**\",\n",
        "f\"- {they_better[0]}\",\n",
        "f\"- {they_better[1]}\",\n",
        "\"\",\n",
        "\"**What *we* do better**\",\n",
        "f\"- {we_better[0]}\",\n",
        "f\"- {we_better[1]}\",\n",
        "\"\",\n",
        "\"_Notes:_ Paper’s Accuracy is not reported; we derived it from Recall & FPR assuming the 90/10 class mix in Dataset-1. Our Accuracy depends on the chosen threshold τ (calibrated on validation).\"\n",
        "]\n",
        "display(Markdown(\"\\n\".join(md)))\n",
        "\n",
        "# ---------- optional: quick bar chart for 6 metrics ----------\n",
        "x = np.arange(len(metrics_order)); w = 0.38\n",
        "paper_vals = [float(v) if not isinstance(v, str) else np.nan for v in paper_row]\n",
        "ours_vals  = [float(v) if not isinstance(v, str) else np.nan for v in ours_row]\n",
        "\n",
        "plt.figure(figsize=(9.0,4.5))\n",
        "plt.bar(x - w/2, paper_vals, width=w, label=\"Paper NN (D1)\")\n",
        "plt.bar(x + w/2, ours_vals,  width=w, label=\"My BetterNN\")\n",
        "plt.xticks(x, metrics_order, rotation=15)\n",
        "plt.ylabel(\"Percent\")\n",
        "plt.ylim(0, 100)\n",
        "plt.title(\"NN-only Metrics — Paper vs My BetterNN (Dataset-1)\")\n",
        "for i,(a,b) in enumerate(zip(paper_vals, ours_vals)):\n",
        "    if not np.isnan(a): plt.text(i - w/2, a + 0.8, f\"{a:.1f}\", ha=\"center\", va=\"bottom\", fontsize=9)\n",
        "    if not np.isnan(b): plt.text(i + w/2, b + 0.8, f\"{b:.1f}\", ha=\"center\", va=\"bottom\", fontsize=9)\n",
        "plt.legend()\n",
        "plt.grid(axis='y', linestyle=':', alpha=0.6)\n",
        "plt.tight_layout()\n",
        "plt.show()"
      ],
      "metadata": {
        "colab": {
          "base_uri": "https://localhost:8080/",
          "height": 942
        },
        "id": "jb1wpw8QkMkZ",
        "outputId": "14169893-b67e-467a-ac93-562e48035f58"
      },
      "execution_count": null,
      "outputs": [
        {
          "output_type": "stream",
          "name": "stdout",
          "text": [
            "=== NN-only Comparison (Paper vs My BetterNN, Dataset-1) ===\n"
          ]
        },
        {
          "output_type": "display_data",
          "data": {
            "text/plain": [
              "          Metric  Paper NN (D1) %  My BetterNN % Delta (ours - paper)\n",
              "0   Accuracy (%)            88.35          97.54          ↑ +9.19 pts\n",
              "1  Precision (%)            71.35          86.97         ↑ +15.62 pts\n",
              "2     Recall (%)            85.82          88.71          ↑ +2.89 pts\n",
              "3         F1 (%)            75.62          87.84         ↑ +12.22 pts\n",
              "4        AUC (%)            93.76          99.02          ↑ +5.26 pts\n",
              "5        FPR (%)            11.37           1.48          ↑ −9.89 pts"
            ],
            "text/html": [
              "\n",
              "  <div id=\"df-dddaaa84-aadf-40a5-b55e-73a8ad1e88ee\" class=\"colab-df-container\">\n",
              "    <div>\n",
              "<style scoped>\n",
              "    .dataframe tbody tr th:only-of-type {\n",
              "        vertical-align: middle;\n",
              "    }\n",
              "\n",
              "    .dataframe tbody tr th {\n",
              "        vertical-align: top;\n",
              "    }\n",
              "\n",
              "    .dataframe thead th {\n",
              "        text-align: right;\n",
              "    }\n",
              "</style>\n",
              "<table border=\"1\" class=\"dataframe\">\n",
              "  <thead>\n",
              "    <tr style=\"text-align: right;\">\n",
              "      <th></th>\n",
              "      <th>Metric</th>\n",
              "      <th>Paper NN (D1) %</th>\n",
              "      <th>My BetterNN %</th>\n",
              "      <th>Delta (ours - paper)</th>\n",
              "    </tr>\n",
              "  </thead>\n",
              "  <tbody>\n",
              "    <tr>\n",
              "      <th>0</th>\n",
              "      <td>Accuracy (%)</td>\n",
              "      <td>88.35</td>\n",
              "      <td>97.54</td>\n",
              "      <td>↑ +9.19 pts</td>\n",
              "    </tr>\n",
              "    <tr>\n",
              "      <th>1</th>\n",
              "      <td>Precision (%)</td>\n",
              "      <td>71.35</td>\n",
              "      <td>86.97</td>\n",
              "      <td>↑ +15.62 pts</td>\n",
              "    </tr>\n",
              "    <tr>\n",
              "      <th>2</th>\n",
              "      <td>Recall (%)</td>\n",
              "      <td>85.82</td>\n",
              "      <td>88.71</td>\n",
              "      <td>↑ +2.89 pts</td>\n",
              "    </tr>\n",
              "    <tr>\n",
              "      <th>3</th>\n",
              "      <td>F1 (%)</td>\n",
              "      <td>75.62</td>\n",
              "      <td>87.84</td>\n",
              "      <td>↑ +12.22 pts</td>\n",
              "    </tr>\n",
              "    <tr>\n",
              "      <th>4</th>\n",
              "      <td>AUC (%)</td>\n",
              "      <td>93.76</td>\n",
              "      <td>99.02</td>\n",
              "      <td>↑ +5.26 pts</td>\n",
              "    </tr>\n",
              "    <tr>\n",
              "      <th>5</th>\n",
              "      <td>FPR (%)</td>\n",
              "      <td>11.37</td>\n",
              "      <td>1.48</td>\n",
              "      <td>↑ −9.89 pts</td>\n",
              "    </tr>\n",
              "  </tbody>\n",
              "</table>\n",
              "</div>\n",
              "    <div class=\"colab-df-buttons\">\n",
              "\n",
              "  <div class=\"colab-df-container\">\n",
              "    <button class=\"colab-df-convert\" onclick=\"convertToInteractive('df-dddaaa84-aadf-40a5-b55e-73a8ad1e88ee')\"\n",
              "            title=\"Convert this dataframe to an interactive table.\"\n",
              "            style=\"display:none;\">\n",
              "\n",
              "  <svg xmlns=\"http://www.w3.org/2000/svg\" height=\"24px\" viewBox=\"0 -960 960 960\">\n",
              "    <path d=\"M120-120v-720h720v720H120Zm60-500h600v-160H180v160Zm220 220h160v-160H400v160Zm0 220h160v-160H400v160ZM180-400h160v-160H180v160Zm440 0h160v-160H620v160ZM180-180h160v-160H180v160Zm440 0h160v-160H620v160Z\"/>\n",
              "  </svg>\n",
              "    </button>\n",
              "\n",
              "  <style>\n",
              "    .colab-df-container {\n",
              "      display:flex;\n",
              "      gap: 12px;\n",
              "    }\n",
              "\n",
              "    .colab-df-convert {\n",
              "      background-color: #E8F0FE;\n",
              "      border: none;\n",
              "      border-radius: 50%;\n",
              "      cursor: pointer;\n",
              "      display: none;\n",
              "      fill: #1967D2;\n",
              "      height: 32px;\n",
              "      padding: 0 0 0 0;\n",
              "      width: 32px;\n",
              "    }\n",
              "\n",
              "    .colab-df-convert:hover {\n",
              "      background-color: #E2EBFA;\n",
              "      box-shadow: 0px 1px 2px rgba(60, 64, 67, 0.3), 0px 1px 3px 1px rgba(60, 64, 67, 0.15);\n",
              "      fill: #174EA6;\n",
              "    }\n",
              "\n",
              "    .colab-df-buttons div {\n",
              "      margin-bottom: 4px;\n",
              "    }\n",
              "\n",
              "    [theme=dark] .colab-df-convert {\n",
              "      background-color: #3B4455;\n",
              "      fill: #D2E3FC;\n",
              "    }\n",
              "\n",
              "    [theme=dark] .colab-df-convert:hover {\n",
              "      background-color: #434B5C;\n",
              "      box-shadow: 0px 1px 3px 1px rgba(0, 0, 0, 0.15);\n",
              "      filter: drop-shadow(0px 1px 2px rgba(0, 0, 0, 0.3));\n",
              "      fill: #FFFFFF;\n",
              "    }\n",
              "  </style>\n",
              "\n",
              "    <script>\n",
              "      const buttonEl =\n",
              "        document.querySelector('#df-dddaaa84-aadf-40a5-b55e-73a8ad1e88ee button.colab-df-convert');\n",
              "      buttonEl.style.display =\n",
              "        google.colab.kernel.accessAllowed ? 'block' : 'none';\n",
              "\n",
              "      async function convertToInteractive(key) {\n",
              "        const element = document.querySelector('#df-dddaaa84-aadf-40a5-b55e-73a8ad1e88ee');\n",
              "        const dataTable =\n",
              "          await google.colab.kernel.invokeFunction('convertToInteractive',\n",
              "                                                    [key], {});\n",
              "        if (!dataTable) return;\n",
              "\n",
              "        const docLinkHtml = 'Like what you see? Visit the ' +\n",
              "          '<a target=\"_blank\" href=https://colab.research.google.com/notebooks/data_table.ipynb>data table notebook</a>'\n",
              "          + ' to learn more about interactive tables.';\n",
              "        element.innerHTML = '';\n",
              "        dataTable['output_type'] = 'display_data';\n",
              "        await google.colab.output.renderOutput(dataTable, element);\n",
              "        const docLink = document.createElement('div');\n",
              "        docLink.innerHTML = docLinkHtml;\n",
              "        element.appendChild(docLink);\n",
              "      }\n",
              "    </script>\n",
              "  </div>\n",
              "\n",
              "\n",
              "    <div id=\"df-fb5def87-3ea5-4696-8cc7-8e4c99e55df5\">\n",
              "      <button class=\"colab-df-quickchart\" onclick=\"quickchart('df-fb5def87-3ea5-4696-8cc7-8e4c99e55df5')\"\n",
              "                title=\"Suggest charts\"\n",
              "                style=\"display:none;\">\n",
              "\n",
              "<svg xmlns=\"http://www.w3.org/2000/svg\" height=\"24px\"viewBox=\"0 0 24 24\"\n",
              "     width=\"24px\">\n",
              "    <g>\n",
              "        <path d=\"M19 3H5c-1.1 0-2 .9-2 2v14c0 1.1.9 2 2 2h14c1.1 0 2-.9 2-2V5c0-1.1-.9-2-2-2zM9 17H7v-7h2v7zm4 0h-2V7h2v10zm4 0h-2v-4h2v4z\"/>\n",
              "    </g>\n",
              "</svg>\n",
              "      </button>\n",
              "\n",
              "<style>\n",
              "  .colab-df-quickchart {\n",
              "      --bg-color: #E8F0FE;\n",
              "      --fill-color: #1967D2;\n",
              "      --hover-bg-color: #E2EBFA;\n",
              "      --hover-fill-color: #174EA6;\n",
              "      --disabled-fill-color: #AAA;\n",
              "      --disabled-bg-color: #DDD;\n",
              "  }\n",
              "\n",
              "  [theme=dark] .colab-df-quickchart {\n",
              "      --bg-color: #3B4455;\n",
              "      --fill-color: #D2E3FC;\n",
              "      --hover-bg-color: #434B5C;\n",
              "      --hover-fill-color: #FFFFFF;\n",
              "      --disabled-bg-color: #3B4455;\n",
              "      --disabled-fill-color: #666;\n",
              "  }\n",
              "\n",
              "  .colab-df-quickchart {\n",
              "    background-color: var(--bg-color);\n",
              "    border: none;\n",
              "    border-radius: 50%;\n",
              "    cursor: pointer;\n",
              "    display: none;\n",
              "    fill: var(--fill-color);\n",
              "    height: 32px;\n",
              "    padding: 0;\n",
              "    width: 32px;\n",
              "  }\n",
              "\n",
              "  .colab-df-quickchart:hover {\n",
              "    background-color: var(--hover-bg-color);\n",
              "    box-shadow: 0 1px 2px rgba(60, 64, 67, 0.3), 0 1px 3px 1px rgba(60, 64, 67, 0.15);\n",
              "    fill: var(--button-hover-fill-color);\n",
              "  }\n",
              "\n",
              "  .colab-df-quickchart-complete:disabled,\n",
              "  .colab-df-quickchart-complete:disabled:hover {\n",
              "    background-color: var(--disabled-bg-color);\n",
              "    fill: var(--disabled-fill-color);\n",
              "    box-shadow: none;\n",
              "  }\n",
              "\n",
              "  .colab-df-spinner {\n",
              "    border: 2px solid var(--fill-color);\n",
              "    border-color: transparent;\n",
              "    border-bottom-color: var(--fill-color);\n",
              "    animation:\n",
              "      spin 1s steps(1) infinite;\n",
              "  }\n",
              "\n",
              "  @keyframes spin {\n",
              "    0% {\n",
              "      border-color: transparent;\n",
              "      border-bottom-color: var(--fill-color);\n",
              "      border-left-color: var(--fill-color);\n",
              "    }\n",
              "    20% {\n",
              "      border-color: transparent;\n",
              "      border-left-color: var(--fill-color);\n",
              "      border-top-color: var(--fill-color);\n",
              "    }\n",
              "    30% {\n",
              "      border-color: transparent;\n",
              "      border-left-color: var(--fill-color);\n",
              "      border-top-color: var(--fill-color);\n",
              "      border-right-color: var(--fill-color);\n",
              "    }\n",
              "    40% {\n",
              "      border-color: transparent;\n",
              "      border-right-color: var(--fill-color);\n",
              "      border-top-color: var(--fill-color);\n",
              "    }\n",
              "    60% {\n",
              "      border-color: transparent;\n",
              "      border-right-color: var(--fill-color);\n",
              "    }\n",
              "    80% {\n",
              "      border-color: transparent;\n",
              "      border-right-color: var(--fill-color);\n",
              "      border-bottom-color: var(--fill-color);\n",
              "    }\n",
              "    90% {\n",
              "      border-color: transparent;\n",
              "      border-bottom-color: var(--fill-color);\n",
              "    }\n",
              "  }\n",
              "</style>\n",
              "\n",
              "      <script>\n",
              "        async function quickchart(key) {\n",
              "          const quickchartButtonEl =\n",
              "            document.querySelector('#' + key + ' button');\n",
              "          quickchartButtonEl.disabled = true;  // To prevent multiple clicks.\n",
              "          quickchartButtonEl.classList.add('colab-df-spinner');\n",
              "          try {\n",
              "            const charts = await google.colab.kernel.invokeFunction(\n",
              "                'suggestCharts', [key], {});\n",
              "          } catch (error) {\n",
              "            console.error('Error during call to suggestCharts:', error);\n",
              "          }\n",
              "          quickchartButtonEl.classList.remove('colab-df-spinner');\n",
              "          quickchartButtonEl.classList.add('colab-df-quickchart-complete');\n",
              "        }\n",
              "        (() => {\n",
              "          let quickchartButtonEl =\n",
              "            document.querySelector('#df-fb5def87-3ea5-4696-8cc7-8e4c99e55df5 button');\n",
              "          quickchartButtonEl.style.display =\n",
              "            google.colab.kernel.accessAllowed ? 'block' : 'none';\n",
              "        })();\n",
              "      </script>\n",
              "    </div>\n",
              "\n",
              "  <div id=\"id_6a8c058a-88b4-418e-8afa-aa5a65aafccd\">\n",
              "    <style>\n",
              "      .colab-df-generate {\n",
              "        background-color: #E8F0FE;\n",
              "        border: none;\n",
              "        border-radius: 50%;\n",
              "        cursor: pointer;\n",
              "        display: none;\n",
              "        fill: #1967D2;\n",
              "        height: 32px;\n",
              "        padding: 0 0 0 0;\n",
              "        width: 32px;\n",
              "      }\n",
              "\n",
              "      .colab-df-generate:hover {\n",
              "        background-color: #E2EBFA;\n",
              "        box-shadow: 0px 1px 2px rgba(60, 64, 67, 0.3), 0px 1px 3px 1px rgba(60, 64, 67, 0.15);\n",
              "        fill: #174EA6;\n",
              "      }\n",
              "\n",
              "      [theme=dark] .colab-df-generate {\n",
              "        background-color: #3B4455;\n",
              "        fill: #D2E3FC;\n",
              "      }\n",
              "\n",
              "      [theme=dark] .colab-df-generate:hover {\n",
              "        background-color: #434B5C;\n",
              "        box-shadow: 0px 1px 3px 1px rgba(0, 0, 0, 0.15);\n",
              "        filter: drop-shadow(0px 1px 2px rgba(0, 0, 0, 0.3));\n",
              "        fill: #FFFFFF;\n",
              "      }\n",
              "    </style>\n",
              "    <button class=\"colab-df-generate\" onclick=\"generateWithVariable('df_cmp')\"\n",
              "            title=\"Generate code using this dataframe.\"\n",
              "            style=\"display:none;\">\n",
              "\n",
              "  <svg xmlns=\"http://www.w3.org/2000/svg\" height=\"24px\"viewBox=\"0 0 24 24\"\n",
              "       width=\"24px\">\n",
              "    <path d=\"M7,19H8.4L18.45,9,17,7.55,7,17.6ZM5,21V16.75L18.45,3.32a2,2,0,0,1,2.83,0l1.4,1.43a1.91,1.91,0,0,1,.58,1.4,1.91,1.91,0,0,1-.58,1.4L9.25,21ZM18.45,9,17,7.55Zm-12,3A5.31,5.31,0,0,0,4.9,8.1,5.31,5.31,0,0,0,1,6.5,5.31,5.31,0,0,0,4.9,4.9,5.31,5.31,0,0,0,6.5,1,5.31,5.31,0,0,0,8.1,4.9,5.31,5.31,0,0,0,12,6.5,5.46,5.46,0,0,0,6.5,12Z\"/>\n",
              "  </svg>\n",
              "    </button>\n",
              "    <script>\n",
              "      (() => {\n",
              "      const buttonEl =\n",
              "        document.querySelector('#id_6a8c058a-88b4-418e-8afa-aa5a65aafccd button.colab-df-generate');\n",
              "      buttonEl.style.display =\n",
              "        google.colab.kernel.accessAllowed ? 'block' : 'none';\n",
              "\n",
              "      buttonEl.onclick = () => {\n",
              "        google.colab.notebook.generateWithVariable('df_cmp');\n",
              "      }\n",
              "      })();\n",
              "    </script>\n",
              "  </div>\n",
              "\n",
              "    </div>\n",
              "  </div>\n"
            ],
            "application/vnd.google.colaboratory.intrinsic+json": {
              "type": "dataframe",
              "variable_name": "df_cmp",
              "summary": "{\n  \"name\": \"df_cmp\",\n  \"rows\": 6,\n  \"fields\": [\n    {\n      \"column\": \"Metric\",\n      \"properties\": {\n        \"dtype\": \"string\",\n        \"num_unique_values\": 6,\n        \"samples\": [\n          \"Accuracy (%)\",\n          \"Precision (%)\",\n          \"FPR (%)\"\n        ],\n        \"semantic_type\": \"\",\n        \"description\": \"\"\n      }\n    },\n    {\n      \"column\": \"Paper NN (D1) %\",\n      \"properties\": {\n        \"dtype\": \"number\",\n        \"std\": 30.38375931315939,\n        \"min\": 11.37,\n        \"max\": 93.76,\n        \"num_unique_values\": 6,\n        \"samples\": [\n          88.35,\n          71.35,\n          11.37\n        ],\n        \"semantic_type\": \"\",\n        \"description\": \"\"\n      }\n    },\n    {\n      \"column\": \"My BetterNN %\",\n      \"properties\": {\n        \"dtype\": \"number\",\n        \"std\": 37.32034494302895,\n        \"min\": 1.48,\n        \"max\": 99.02,\n        \"num_unique_values\": 6,\n        \"samples\": [\n          97.54,\n          86.97,\n          1.48\n        ],\n        \"semantic_type\": \"\",\n        \"description\": \"\"\n      }\n    },\n    {\n      \"column\": \"Delta (ours - paper)\",\n      \"properties\": {\n        \"dtype\": \"string\",\n        \"num_unique_values\": 6,\n        \"samples\": [\n          \"\\u2191 +9.19 pts\",\n          \"\\u2191 +15.62 pts\",\n          \"\\u2191 \\u22129.89 pts\"\n        ],\n        \"semantic_type\": \"\",\n        \"description\": \"\"\n      }\n    }\n  ]\n}"
            }
          },
          "metadata": {}
        },
        {
          "output_type": "display_data",
          "data": {
            "text/plain": [
              "<IPython.core.display.Markdown object>"
            ],
            "text/markdown": "### Gap analysis — NN only (Paper vs My BetterNN)\n**What *they* do better**\n- Include **robustness & explainability** in their NN study (noise stress test + GNN explainability section).\n- Provide a **reproducible baseline** with fixed narrow width (hidden=20) and report **threshold-free AUC**, ensuring consistent comparisons.\n\n**What *we* do better**\n- **Substantially better NN performance** on Dataset-1 at calibrated τ=0.83: Accuracy 97.54% (↑ +9.19 pts), Precision 86.97% (↑ +15.62 pts), Recall 88.71% (↑ +2.89 pts), F1 87.84% (↑ +12.22 pts), AUC 99.02% (↑ +5.26 pts), and **FPR 1.48%** (↑ −9.89 pts) lower).\n- Stronger **training recipe** for NN: BN+GELU MLP, AdamW + OneCycle, **early stop on AUC** then **threshold calibration for accuracy** — simple to deploy, fast to run.\n\n_Notes:_ Paper’s Accuracy is not reported; we derived it from Recall & FPR assuming the 90/10 class mix in Dataset-1. Our Accuracy depends on the chosen threshold τ (calibrated on validation)."
          },
          "metadata": {}
        },
        {
          "output_type": "display_data",
          "data": {
            "text/plain": [
              "<Figure size 900x450 with 1 Axes>"
            ],
            "image/png": "[encoded data removed]"
          },
          "metadata": {}
        }
      ]
    }
  ]
}