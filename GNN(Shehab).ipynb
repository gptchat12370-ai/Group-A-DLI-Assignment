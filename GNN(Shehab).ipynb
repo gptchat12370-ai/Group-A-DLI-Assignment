{
  "nbformat": 4,
  "nbformat_minor": 0,
  "metadata": {
    "colab": {
      "provenance": [],
      "authorship_tag": "ABX9TyO5XHxOf5PJ5y1P8i1dVTvJ",
      "include_colab_link": true
    },
    "kernelspec": {
      "name": "python3",
      "display_name": "Python 3"
    },
    "language_info": {
      "name": "python"
    }
  },
  "cells": [
    {
      "cell_type": "markdown",
      "metadata": {
        "id": "view-in-github",
        "colab_type": "text"
      },
      "source": [
        "<a href=\"https://colab.research.google.com/github/shihab1/Group-A-DLI-Assignment/blob/main/GNN(Shehab).ipynb\" target=\"_parent\"><img src=\"https://colab.research.google.com/assets/colab-badge.svg\" alt=\"Open In Colab\"/></a>"
      ]
    },
    {
      "cell_type": "code",
      "source": [
        "# In a single cell\n",
        "%pip uninstall -y torch-geometric torch-scatter torch-sparse torch-cluster torch-spline-conv\n",
        "\n",
        "# Reinstall the CUDA 12.4 + torch 2.6 wheels with NO CACHE\n",
        "%pip install --no-cache-dir \\\n",
        "  torch-scatter==2.1.2+pt26cu124 \\\n",
        "  torch-sparse==0.6.18+pt26cu124 \\\n",
        "  torch-cluster==1.6.3+pt26cu124 \\\n",
        "  torch-spline-conv==1.2.2+pt26cu124 \\\n",
        "  -f https://data.pyg.org/whl/torch-2.6.0+cu124.html\n",
        "\n",
        "%pip install --no-cache-dir --force-reinstall torch-geometric==2.6.1\n",
        "\n",
        "# Force a clean runtime restart (Colab/Jupyter)\n",
        "import os, sys\n",
        "os.kill(os.getpid(), 9)"
      ],
      "metadata": {
        "colab": {
          "base_uri": "https://localhost:8080/"
        },
        "id": "NVmgXDsda3w8",
        "outputId": "d1e1a35c-6acc-4320-810e-51c85f9ffe61"
      },
      "execution_count": null,
      "outputs": [
        {
          "output_type": "stream",
          "name": "stdout",
          "text": [
            "Found existing installation: torch-geometric 2.6.1\n",
            "Uninstalling torch-geometric-2.6.1:\n",
            "  Successfully uninstalled torch-geometric-2.6.1\n",
            "Found existing installation: torch_scatter 2.1.2+pt26cu124\n",
            "Uninstalling torch_scatter-2.1.2+pt26cu124:\n",
            "  Successfully uninstalled torch_scatter-2.1.2+pt26cu124\n",
            "Found existing installation: torch_sparse 0.6.18+pt26cu124\n",
            "Uninstalling torch_sparse-0.6.18+pt26cu124:\n",
            "  Successfully uninstalled torch_sparse-0.6.18+pt26cu124\n",
            "Found existing installation: torch_cluster 1.6.3+pt26cu124\n",
            "Uninstalling torch_cluster-1.6.3+pt26cu124:\n",
            "  Successfully uninstalled torch_cluster-1.6.3+pt26cu124\n",
            "Found existing installation: torch_spline_conv 1.2.2+pt26cu124\n",
            "Uninstalling torch_spline_conv-1.2.2+pt26cu124:\n",
            "  Successfully uninstalled torch_spline_conv-1.2.2+pt26cu124\n",
            "Looking in links: https://data.pyg.org/whl/torch-2.6.0+cu124.html\n",
            "Collecting torch-scatter==2.1.2+pt26cu124\n",
            "  Downloading https://data.pyg.org/whl/torch-2.6.0%2Bcu124/torch_scatter-2.1.2%2Bpt26cu124-cp311-cp311-linux_x86_64.whl (10.8 MB)\n",
            "\u001b[2K     \u001b[90m━━━━━━━━━━━━━━━━━━━━━━━━━━━━━━━━━━━━━━━━\u001b[0m \u001b[32m10.8/10.8 MB\u001b[0m \u001b[31m89.0 MB/s\u001b[0m eta \u001b[36m0:00:00\u001b[0m\n",
            "\u001b[?25hCollecting torch-sparse==0.6.18+pt26cu124\n",
            "  Downloading https://data.pyg.org/whl/torch-2.6.0%2Bcu124/torch_sparse-0.6.18%2Bpt26cu124-cp311-cp311-linux_x86_64.whl (5.0 MB)\n",
            "\u001b[2K     \u001b[90m━━━━━━━━━━━━━━━━━━━━━━━━━━━━━━━━━━━━━━━━\u001b[0m \u001b[32m5.0/5.0 MB\u001b[0m \u001b[31m157.2 MB/s\u001b[0m eta \u001b[36m0:00:00\u001b[0m\n",
            "\u001b[?25hCollecting torch-cluster==1.6.3+pt26cu124\n",
            "  Downloading https://data.pyg.org/whl/torch-2.6.0%2Bcu124/torch_cluster-1.6.3%2Bpt26cu124-cp311-cp311-linux_x86_64.whl (3.4 MB)\n",
            "\u001b[2K     \u001b[90m━━━━━━━━━━━━━━━━━━━━━━━━━━━━━━━━━━━━━━━━\u001b[0m \u001b[32m3.4/3.4 MB\u001b[0m \u001b[31m229.2 MB/s\u001b[0m eta \u001b[36m0:00:00\u001b[0m\n",
            "\u001b[?25hCollecting torch-spline-conv==1.2.2+pt26cu124\n",
            "  Downloading https://data.pyg.org/whl/torch-2.6.0%2Bcu124/torch_spline_conv-1.2.2%2Bpt26cu124-cp311-cp311-linux_x86_64.whl (1.0 MB)\n",
            "\u001b[2K     \u001b[90m━━━━━━━━━━━━━━━━━━━━━━━━━━━━━━━━━━━━━━━━\u001b[0m \u001b[32m1.0/1.0 MB\u001b[0m \u001b[31m301.1 MB/s\u001b[0m eta \u001b[36m0:00:00\u001b[0m\n",
            "\u001b[?25hRequirement already satisfied: scipy in /usr/local/lib/python3.11/dist-packages (from torch-sparse==0.6.18+pt26cu124) (1.16.1)\n",
            "Requirement already satisfied: numpy<2.6,>=1.25.2 in /usr/local/lib/python3.11/dist-packages (from scipy->torch-sparse==0.6.18+pt26cu124) (2.3.2)\n",
            "Installing collected packages: torch-spline-conv, torch-scatter, torch-sparse, torch-cluster\n",
            "Successfully installed torch-cluster-1.6.3+pt26cu124 torch-scatter-2.1.2+pt26cu124 torch-sparse-0.6.18+pt26cu124 torch-spline-conv-1.2.2+pt26cu124\n",
            "Collecting torch-geometric==2.6.1\n",
            "  Downloading torch_geometric-2.6.1-py3-none-any.whl.metadata (63 kB)\n",
            "\u001b[2K     \u001b[90m━━━━━━━━━━━━━━━━━━━━━━━━━━━━━━━━━━━━━━━━\u001b[0m \u001b[32m63.1/63.1 kB\u001b[0m \u001b[31m10.5 MB/s\u001b[0m eta \u001b[36m0:00:00\u001b[0m\n",
            "\u001b[?25hCollecting aiohttp (from torch-geometric==2.6.1)\n",
            "  Downloading aiohttp-3.12.15-cp311-cp311-manylinux_2_17_x86_64.manylinux2014_x86_64.whl.metadata (7.7 kB)\n",
            "Collecting fsspec (from torch-geometric==2.6.1)\n",
            "  Downloading fsspec-2025.7.0-py3-none-any.whl.metadata (12 kB)\n",
            "Collecting jinja2 (from torch-geometric==2.6.1)\n",
            "  Downloading jinja2-3.1.6-py3-none-any.whl.metadata (2.9 kB)\n",
            "Collecting numpy (from torch-geometric==2.6.1)\n",
            "  Downloading numpy-2.3.2-cp311-cp311-manylinux_2_27_x86_64.manylinux_2_28_x86_64.whl.metadata (62 kB)\n",
            "\u001b[2K     \u001b[90m━━━━━━━━━━━━━━━━━━━━━━━━━━━━━━━━━━━━━━━\u001b[0m \u001b[32m62.1/62.1 kB\u001b[0m \u001b[31m100.1 MB/s\u001b[0m eta \u001b[36m0:00:00\u001b[0m\n",
            "\u001b[?25hCollecting psutil>=5.8.0 (from torch-geometric==2.6.1)\n",
            "  Downloading psutil-7.0.0-cp36-abi3-manylinux_2_12_x86_64.manylinux2010_x86_64.manylinux_2_17_x86_64.manylinux2014_x86_64.whl.metadata (22 kB)\n",
            "Collecting pyparsing (from torch-geometric==2.6.1)\n",
            "  Downloading pyparsing-3.2.3-py3-none-any.whl.metadata (5.0 kB)\n",
            "Collecting requests (from torch-geometric==2.6.1)\n",
            "  Downloading requests-2.32.5-py3-none-any.whl.metadata (4.9 kB)\n",
            "Collecting tqdm (from torch-geometric==2.6.1)\n",
            "  Downloading tqdm-4.67.1-py3-none-any.whl.metadata (57 kB)\n",
            "\u001b[2K     \u001b[90m━━━━━━━━━━━━━━━━━━━━━━━━━━━━━━━━━━━━━━━\u001b[0m \u001b[32m57.7/57.7 kB\u001b[0m \u001b[31m143.7 MB/s\u001b[0m eta \u001b[36m0:00:00\u001b[0m\n",
            "\u001b[?25hCollecting aiohappyeyeballs>=2.5.0 (from aiohttp->torch-geometric==2.6.1)\n",
            "  Downloading aiohappyeyeballs-2.6.1-py3-none-any.whl.metadata (5.9 kB)\n",
            "Collecting aiosignal>=1.4.0 (from aiohttp->torch-geometric==2.6.1)\n",
            "  Downloading aiosignal-1.4.0-py3-none-any.whl.metadata (3.7 kB)\n",
            "Collecting attrs>=17.3.0 (from aiohttp->torch-geometric==2.6.1)\n",
            "  Downloading attrs-25.3.0-py3-none-any.whl.metadata (10 kB)\n",
            "Collecting frozenlist>=1.1.1 (from aiohttp->torch-geometric==2.6.1)\n",
            "  Downloading frozenlist-1.7.0-cp311-cp311-manylinux_2_5_x86_64.manylinux1_x86_64.manylinux_2_17_x86_64.manylinux2014_x86_64.whl.metadata (18 kB)\n",
            "Collecting multidict<7.0,>=4.5 (from aiohttp->torch-geometric==2.6.1)\n",
            "  Downloading multidict-6.6.4-cp311-cp311-manylinux2014_x86_64.manylinux_2_17_x86_64.manylinux_2_28_x86_64.whl.metadata (5.3 kB)\n",
            "Collecting propcache>=0.2.0 (from aiohttp->torch-geometric==2.6.1)\n",
            "  Downloading propcache-0.3.2-cp311-cp311-manylinux_2_17_x86_64.manylinux2014_x86_64.whl.metadata (12 kB)\n",
            "Collecting yarl<2.0,>=1.17.0 (from aiohttp->torch-geometric==2.6.1)\n",
            "  Downloading yarl-1.20.1-cp311-cp311-manylinux_2_17_x86_64.manylinux2014_x86_64.whl.metadata (73 kB)\n",
            "\u001b[2K     \u001b[90m━━━━━━━━━━━━━━━━━━━━━━━━━━━━━━━━━━━━━━━━\u001b[0m \u001b[32m73.9/73.9 kB\u001b[0m \u001b[31m73.0 MB/s\u001b[0m eta \u001b[36m0:00:00\u001b[0m\n",
            "\u001b[?25hCollecting MarkupSafe>=2.0 (from jinja2->torch-geometric==2.6.1)\n",
            "  Downloading MarkupSafe-3.0.2-cp311-cp311-manylinux_2_17_x86_64.manylinux2014_x86_64.whl.metadata (4.0 kB)\n",
            "Collecting charset_normalizer<4,>=2 (from requests->torch-geometric==2.6.1)\n",
            "  Downloading charset_normalizer-3.4.3-cp311-cp311-manylinux2014_x86_64.manylinux_2_17_x86_64.manylinux_2_28_x86_64.whl.metadata (36 kB)\n",
            "Collecting idna<4,>=2.5 (from requests->torch-geometric==2.6.1)\n",
            "  Downloading idna-3.10-py3-none-any.whl.metadata (10 kB)\n",
            "Collecting urllib3<3,>=1.21.1 (from requests->torch-geometric==2.6.1)\n",
            "  Downloading urllib3-2.5.0-py3-none-any.whl.metadata (6.5 kB)\n",
            "Collecting certifi>=2017.4.17 (from requests->torch-geometric==2.6.1)\n",
            "  Downloading certifi-2025.8.3-py3-none-any.whl.metadata (2.4 kB)\n",
            "Collecting typing-extensions>=4.2 (from aiosignal>=1.4.0->aiohttp->torch-geometric==2.6.1)\n",
            "  Downloading typing_extensions-4.14.1-py3-none-any.whl.metadata (3.0 kB)\n",
            "Downloading torch_geometric-2.6.1-py3-none-any.whl (1.1 MB)\n",
            "\u001b[2K   \u001b[90m━━━━━━━━━━━━━━━━━━━━━━━━━━━━━━━━━━━━━━━━\u001b[0m \u001b[32m1.1/1.1 MB\u001b[0m \u001b[31m81.9 MB/s\u001b[0m eta \u001b[36m0:00:00\u001b[0m\n",
            "\u001b[?25hDownloading psutil-7.0.0-cp36-abi3-manylinux_2_12_x86_64.manylinux2010_x86_64.manylinux_2_17_x86_64.manylinux2014_x86_64.whl (277 kB)\n",
            "\u001b[2K   \u001b[90m━━━━━━━━━━━━━━━━━━━━━━━━━━━━━━━━━━━━━━━\u001b[0m \u001b[32m278.0/278.0 kB\u001b[0m \u001b[31m221.3 MB/s\u001b[0m eta \u001b[36m0:00:00\u001b[0m\n",
            "\u001b[?25hDownloading aiohttp-3.12.15-cp311-cp311-manylinux_2_17_x86_64.manylinux2014_x86_64.whl (1.7 MB)\n",
            "\u001b[2K   \u001b[90m━━━━━━━━━━━━━━━━━━━━━━━━━━━━━━━━━━━━━━━━\u001b[0m \u001b[32m1.7/1.7 MB\u001b[0m \u001b[31m124.6 MB/s\u001b[0m eta \u001b[36m0:00:00\u001b[0m\n",
            "\u001b[?25hDownloading fsspec-2025.7.0-py3-none-any.whl (199 kB)\n",
            "\u001b[2K   \u001b[90m━━━━━━━━━━━━━━━━━━━━━━━━━━━━━━━━━━━━━━━━\u001b[0m \u001b[32m199.6/199.6 kB\u001b[0m \u001b[31m75.0 MB/s\u001b[0m eta \u001b[36m0:00:00\u001b[0m\n",
            "\u001b[?25hDownloading jinja2-3.1.6-py3-none-any.whl (134 kB)\n",
            "\u001b[2K   \u001b[90m━━━━━━━━━━━━━━━━━━━━━━━━━━━━━━━━━━━━━━━\u001b[0m \u001b[32m134.9/134.9 kB\u001b[0m \u001b[31m165.7 MB/s\u001b[0m eta \u001b[36m0:00:00\u001b[0m\n",
            "\u001b[?25hDownloading numpy-2.3.2-cp311-cp311-manylinux_2_27_x86_64.manylinux_2_28_x86_64.whl (16.9 MB)\n",
            "\u001b[2K   \u001b[90m━━━━━━━━━━━━━━━━━━━━━━━━━━━━━━━━━━━━━━━━\u001b[0m \u001b[32m16.9/16.9 MB\u001b[0m \u001b[31m159.7 MB/s\u001b[0m eta \u001b[36m0:00:00\u001b[0m\n",
            "\u001b[?25hDownloading pyparsing-3.2.3-py3-none-any.whl (111 kB)\n",
            "\u001b[2K   \u001b[90m━━━━━━━━━━━━━━━━━━━━━━━━━━━━━━━━━━━━━━━\u001b[0m \u001b[32m111.1/111.1 kB\u001b[0m \u001b[31m129.8 MB/s\u001b[0m eta \u001b[36m0:00:00\u001b[0m\n",
            "\u001b[?25hDownloading requests-2.32.5-py3-none-any.whl (64 kB)\n",
            "\u001b[2K   \u001b[90m━━━━━━━━━━━━━━━━━━━━━━━━━━━━━━━━━━━━━━━━\u001b[0m \u001b[32m64.7/64.7 kB\u001b[0m \u001b[31m98.2 MB/s\u001b[0m eta \u001b[36m0:00:00\u001b[0m\n",
            "\u001b[?25hDownloading tqdm-4.67.1-py3-none-any.whl (78 kB)\n",
            "\u001b[2K   \u001b[90m━━━━━━━━━━━━━━━━━━━━━━━━━━━━━━━━━━━━━━━━\u001b[0m \u001b[32m78.5/78.5 kB\u001b[0m \u001b[31m139.3 MB/s\u001b[0m eta \u001b[36m0:00:00\u001b[0m\n",
            "\u001b[?25hDownloading aiohappyeyeballs-2.6.1-py3-none-any.whl (15 kB)\n",
            "Downloading aiosignal-1.4.0-py3-none-any.whl (7.5 kB)\n",
            "Downloading attrs-25.3.0-py3-none-any.whl (63 kB)\n",
            "\u001b[2K   \u001b[90m━━━━━━━━━━━━━━━━━━━━━━━━━━━━━━━━━━━━━━━━\u001b[0m \u001b[32m63.8/63.8 kB\u001b[0m \u001b[31m155.1 MB/s\u001b[0m eta \u001b[36m0:00:00\u001b[0m\n",
            "\u001b[?25hDownloading certifi-2025.8.3-py3-none-any.whl (161 kB)\n",
            "\u001b[2K   \u001b[90m━━━━━━━━━━━━━━━━━━━━━━━━━━━━━━━━━━━━━━━\u001b[0m \u001b[32m161.2/161.2 kB\u001b[0m \u001b[31m169.9 MB/s\u001b[0m eta \u001b[36m0:00:00\u001b[0m\n",
            "\u001b[?25hDownloading charset_normalizer-3.4.3-cp311-cp311-manylinux2014_x86_64.manylinux_2_17_x86_64.manylinux_2_28_x86_64.whl (150 kB)\n",
            "\u001b[2K   \u001b[90m━━━━━━━━━━━━━━━━━━━━━━━━━━━━━━━━━━━━━━━\u001b[0m \u001b[32m150.3/150.3 kB\u001b[0m \u001b[31m226.0 MB/s\u001b[0m eta \u001b[36m0:00:00\u001b[0m\n",
            "\u001b[?25hDownloading frozenlist-1.7.0-cp311-cp311-manylinux_2_5_x86_64.manylinux1_x86_64.manylinux_2_17_x86_64.manylinux2014_x86_64.whl (235 kB)\n",
            "\u001b[2K   \u001b[90m━━━━━━━━━━━━━━━━━━━━━━━━━━━━━━━━━━━━━━━\u001b[0m \u001b[32m235.3/235.3 kB\u001b[0m \u001b[31m295.1 MB/s\u001b[0m eta \u001b[36m0:00:00\u001b[0m\n",
            "\u001b[?25hDownloading idna-3.10-py3-none-any.whl (70 kB)\n",
            "\u001b[2K   \u001b[90m━━━━━━━━━━━━━━━━━━━━━━━━━━━━━━━━━━━━━━━━\u001b[0m \u001b[32m70.4/70.4 kB\u001b[0m \u001b[31m138.6 MB/s\u001b[0m eta \u001b[36m0:00:00\u001b[0m\n",
            "\u001b[?25hDownloading MarkupSafe-3.0.2-cp311-cp311-manylinux_2_17_x86_64.manylinux2014_x86_64.whl (23 kB)\n",
            "Downloading multidict-6.6.4-cp311-cp311-manylinux2014_x86_64.manylinux_2_17_x86_64.manylinux_2_28_x86_64.whl (246 kB)\n",
            "\u001b[2K   \u001b[90m━━━━━━━━━━━━━━━━━━━━━━━━━━━━━━━━━━━━━━━\u001b[0m \u001b[32m246.7/246.7 kB\u001b[0m \u001b[31m286.5 MB/s\u001b[0m eta \u001b[36m0:00:00\u001b[0m\n",
            "\u001b[?25hDownloading propcache-0.3.2-cp311-cp311-manylinux_2_17_x86_64.manylinux2014_x86_64.whl (213 kB)\n",
            "\u001b[2K   \u001b[90m━━━━━━━━━━━━━━━━━━━━━━━━━━━━━━━━━━━━━━━\u001b[0m \u001b[32m213.5/213.5 kB\u001b[0m \u001b[31m309.1 MB/s\u001b[0m eta \u001b[36m0:00:00\u001b[0m\n",
            "\u001b[?25hDownloading urllib3-2.5.0-py3-none-any.whl (129 kB)\n",
            "\u001b[2K   \u001b[90m━━━━━━━━━━━━━━━━━━━━━━━━━━━━━━━━━━━━━━━\u001b[0m \u001b[32m129.8/129.8 kB\u001b[0m \u001b[31m173.3 MB/s\u001b[0m eta \u001b[36m0:00:00\u001b[0m\n",
            "\u001b[?25hDownloading yarl-1.20.1-cp311-cp311-manylinux_2_17_x86_64.manylinux2014_x86_64.whl (348 kB)\n",
            "\u001b[2K   \u001b[90m━━━━━━━━━━━━━━━━━━━━━━━━━━━━━━━━━━━━━━━\u001b[0m \u001b[32m349.0/349.0 kB\u001b[0m \u001b[31m183.2 MB/s\u001b[0m eta \u001b[36m0:00:00\u001b[0m\n",
            "\u001b[?25hDownloading typing_extensions-4.14.1-py3-none-any.whl (43 kB)\n",
            "\u001b[2K   \u001b[90m━━━━━━━━━━━━━━━━━━━━━━━━━━━━━━━━━━━━━━━━\u001b[0m \u001b[32m43.9/43.9 kB\u001b[0m \u001b[31m141.7 MB/s\u001b[0m eta \u001b[36m0:00:00\u001b[0m\n",
            "\u001b[?25hInstalling collected packages: urllib3, typing-extensions, tqdm, pyparsing, psutil, propcache, numpy, multidict, MarkupSafe, idna, fsspec, frozenlist, charset_normalizer, certifi, attrs, aiohappyeyeballs, yarl, requests, jinja2, aiosignal, aiohttp, torch-geometric\n",
            "  Attempting uninstall: urllib3\n",
            "    Found existing installation: urllib3 2.5.0\n",
            "    Uninstalling urllib3-2.5.0:\n",
            "      Successfully uninstalled urllib3-2.5.0\n",
            "  Attempting uninstall: typing-extensions\n",
            "    Found existing installation: typing_extensions 4.14.1\n",
            "    Uninstalling typing_extensions-4.14.1:\n",
            "      Successfully uninstalled typing_extensions-4.14.1\n",
            "  Attempting uninstall: tqdm\n",
            "    Found existing installation: tqdm 4.67.1\n",
            "    Uninstalling tqdm-4.67.1:\n",
            "      Successfully uninstalled tqdm-4.67.1\n",
            "  Attempting uninstall: pyparsing\n",
            "    Found existing installation: pyparsing 3.2.3\n",
            "    Uninstalling pyparsing-3.2.3:\n",
            "      Successfully uninstalled pyparsing-3.2.3\n",
            "  Attempting uninstall: psutil\n",
            "    Found existing installation: psutil 7.0.0\n",
            "    Uninstalling psutil-7.0.0:\n",
            "      Successfully uninstalled psutil-7.0.0\n",
            "  Attempting uninstall: propcache\n",
            "    Found existing installation: propcache 0.3.2\n",
            "    Uninstalling propcache-0.3.2:\n",
            "      Successfully uninstalled propcache-0.3.2\n",
            "  Attempting uninstall: numpy\n",
            "    Found existing installation: numpy 2.3.2\n",
            "    Uninstalling numpy-2.3.2:\n",
            "      Successfully uninstalled numpy-2.3.2\n",
            "  Attempting uninstall: multidict\n",
            "    Found existing installation: multidict 6.6.4\n",
            "    Uninstalling multidict-6.6.4:\n",
            "      Successfully uninstalled multidict-6.6.4\n",
            "  Attempting uninstall: MarkupSafe\n",
            "    Found existing installation: MarkupSafe 3.0.2\n",
            "    Uninstalling MarkupSafe-3.0.2:\n",
            "      Successfully uninstalled MarkupSafe-3.0.2\n",
            "  Attempting uninstall: idna\n",
            "    Found existing installation: idna 3.10\n",
            "    Uninstalling idna-3.10:\n",
            "      Successfully uninstalled idna-3.10\n",
            "  Attempting uninstall: fsspec\n",
            "    Found existing installation: fsspec 2025.7.0\n",
            "    Uninstalling fsspec-2025.7.0:\n",
            "      Successfully uninstalled fsspec-2025.7.0\n",
            "  Attempting uninstall: frozenlist\n",
            "    Found existing installation: frozenlist 1.7.0\n",
            "    Uninstalling frozenlist-1.7.0:\n",
            "      Successfully uninstalled frozenlist-1.7.0\n",
            "  Attempting uninstall: charset_normalizer\n",
            "    Found existing installation: charset-normalizer 3.4.3\n",
            "    Uninstalling charset-normalizer-3.4.3:\n",
            "      Successfully uninstalled charset-normalizer-3.4.3\n",
            "  Attempting uninstall: certifi\n",
            "    Found existing installation: certifi 2025.8.3\n",
            "    Uninstalling certifi-2025.8.3:\n",
            "      Successfully uninstalled certifi-2025.8.3\n",
            "  Attempting uninstall: attrs\n",
            "    Found existing installation: attrs 25.3.0\n",
            "    Uninstalling attrs-25.3.0:\n",
            "      Successfully uninstalled attrs-25.3.0\n",
            "  Attempting uninstall: aiohappyeyeballs\n",
            "    Found existing installation: aiohappyeyeballs 2.6.1\n",
            "    Uninstalling aiohappyeyeballs-2.6.1:\n",
            "      Successfully uninstalled aiohappyeyeballs-2.6.1\n",
            "  Attempting uninstall: yarl\n",
            "    Found existing installation: yarl 1.20.1\n",
            "    Uninstalling yarl-1.20.1:\n",
            "      Successfully uninstalled yarl-1.20.1\n",
            "  Attempting uninstall: requests\n",
            "    Found existing installation: requests 2.32.5\n",
            "    Uninstalling requests-2.32.5:\n",
            "      Successfully uninstalled requests-2.32.5\n",
            "  Attempting uninstall: jinja2\n",
            "    Found existing installation: Jinja2 3.1.6\n",
            "    Uninstalling Jinja2-3.1.6:\n",
            "      Successfully uninstalled Jinja2-3.1.6\n",
            "  Attempting uninstall: aiosignal\n",
            "    Found existing installation: aiosignal 1.4.0\n",
            "    Uninstalling aiosignal-1.4.0:\n",
            "      Successfully uninstalled aiosignal-1.4.0\n",
            "  Attempting uninstall: aiohttp\n",
            "    Found existing installation: aiohttp 3.12.15\n",
            "    Uninstalling aiohttp-3.12.15:\n",
            "      Successfully uninstalled aiohttp-3.12.15\n",
            "\u001b[31mERROR: pip's dependency resolver does not currently take into account all the packages that are installed. This behaviour is the source of the following dependency conflicts.\n",
            "google-colab 1.0.0 requires requests==2.32.3, but you have requests 2.32.5 which is incompatible.\n",
            "tensorflow 2.19.0 requires numpy<2.2.0,>=1.26.0, but you have numpy 2.3.2 which is incompatible.\n",
            "gcsfs 2025.3.0 requires fsspec==2025.3.0, but you have fsspec 2025.7.0 which is incompatible.\n",
            "opencv-python 4.12.0.88 requires numpy<2.3.0,>=2; python_version >= \"3.9\", but you have numpy 2.3.2 which is incompatible.\n",
            "opencv-contrib-python 4.12.0.88 requires numpy<2.3.0,>=2; python_version >= \"3.9\", but you have numpy 2.3.2 which is incompatible.\n",
            "cupy-cuda12x 13.3.0 requires numpy<2.3,>=1.22, but you have numpy 2.3.2 which is incompatible.\n",
            "datasets 4.0.0 requires fsspec[http]<=2025.3.0,>=2023.1.0, but you have fsspec 2025.7.0 which is incompatible.\n",
            "opencv-python-headless 4.12.0.88 requires numpy<2.3.0,>=2; python_version >= \"3.9\", but you have numpy 2.3.2 which is incompatible.\n",
            "torch 2.6.0+cu124 requires nvidia-cublas-cu12==12.4.5.8; platform_system == \"Linux\" and platform_machine == \"x86_64\", but you have nvidia-cublas-cu12 12.5.3.2 which is incompatible.\n",
            "torch 2.6.0+cu124 requires nvidia-cuda-cupti-cu12==12.4.127; platform_system == \"Linux\" and platform_machine == \"x86_64\", but you have nvidia-cuda-cupti-cu12 12.5.82 which is incompatible.\n",
            "torch 2.6.0+cu124 requires nvidia-cuda-nvrtc-cu12==12.4.127; platform_system == \"Linux\" and platform_machine == \"x86_64\", but you have nvidia-cuda-nvrtc-cu12 12.5.82 which is incompatible.\n",
            "torch 2.6.0+cu124 requires nvidia-cuda-runtime-cu12==12.4.127; platform_system == \"Linux\" and platform_machine == \"x86_64\", but you have nvidia-cuda-runtime-cu12 12.5.82 which is incompatible.\n",
            "torch 2.6.0+cu124 requires nvidia-cudnn-cu12==9.1.0.70; platform_system == \"Linux\" and platform_machine == \"x86_64\", but you have nvidia-cudnn-cu12 9.3.0.75 which is incompatible.\n",
            "torch 2.6.0+cu124 requires nvidia-cufft-cu12==11.2.1.3; platform_system == \"Linux\" and platform_machine == \"x86_64\", but you have nvidia-cufft-cu12 11.2.3.61 which is incompatible.\n",
            "torch 2.6.0+cu124 requires nvidia-curand-cu12==10.3.5.147; platform_system == \"Linux\" and platform_machine == \"x86_64\", but you have nvidia-curand-cu12 10.3.6.82 which is incompatible.\n",
            "torch 2.6.0+cu124 requires nvidia-cusolver-cu12==11.6.1.9; platform_system == \"Linux\" and platform_machine == \"x86_64\", but you have nvidia-cusolver-cu12 11.6.3.83 which is incompatible.\n",
            "torch 2.6.0+cu124 requires nvidia-cusparse-cu12==12.3.1.170; platform_system == \"Linux\" and platform_machine == \"x86_64\", but you have nvidia-cusparse-cu12 12.5.1.3 which is incompatible.\n",
            "torch 2.6.0+cu124 requires nvidia-nccl-cu12==2.21.5; platform_system == \"Linux\" and platform_machine == \"x86_64\", but you have nvidia-nccl-cu12 2.23.4 which is incompatible.\n",
            "torch 2.6.0+cu124 requires nvidia-nvjitlink-cu12==12.4.127; platform_system == \"Linux\" and platform_machine == \"x86_64\", but you have nvidia-nvjitlink-cu12 12.5.82 which is incompatible.\n",
            "numba 0.60.0 requires numpy<2.1,>=1.22, but you have numpy 2.3.2 which is incompatible.\u001b[0m\u001b[31m\n",
            "\u001b[0mSuccessfully installed MarkupSafe-3.0.2 aiohappyeyeballs-2.6.1 aiohttp-3.12.15 aiosignal-1.4.0 attrs-25.3.0 certifi-2025.8.3 charset_normalizer-3.4.3 frozenlist-1.7.0 fsspec-2025.7.0 idna-3.10 jinja2-3.1.6 multidict-6.6.4 numpy-2.3.2 propcache-0.3.2 psutil-7.0.0 pyparsing-3.2.3 requests-2.32.5 torch-geometric-2.6.1 tqdm-4.67.1 typing-extensions-4.14.1 urllib3-2.5.0 yarl-1.20.1\n"
          ]
        }
      ]
    },
    {
      "cell_type": "code",
      "execution_count": 23,
      "metadata": {
        "id": "JV144EFFbZpX",
        "colab": {
          "base_uri": "https://localhost:8080/"
        },
        "outputId": "c8df5b0b-0bf4-4d9d-913c-6521e20969a4"
      },
      "outputs": [
        {
          "output_type": "stream",
          "name": "stdout",
          "text": [
            "The autoreload extension is already loaded. To reload it, use:\n",
            "  %reload_ext autoreload\n"
          ]
        }
      ],
      "source": [
        "%load_ext autoreload\n",
        "%autoreload 2\n",
        "import os\n",
        "import time\n",
        "import random\n",
        "import pandas as pd\n",
        "import numpy as np\n",
        "import matplotlib.pyplot as plt\n",
        "\n",
        "from sklearn.preprocessing import MinMaxScaler\n",
        "from sklearn.model_selection import train_test_split\n",
        "\n",
        "import torch\n",
        "import torch.nn as nn\n",
        "\n",
        "import sys\n",
        "sys.path.append('/content')\n",
        "\n",
        "from ag_utils import Corpus, parse_ag_file, parse_node_properties\n",
        "from synthetic_data import gene_dataset\n",
        "from models import NN, GCN, GAT, GCN_EW\n",
        "from model_utils import train, predict_prob, evaluate_performance\n"
      ]
    },
    {
      "cell_type": "code",
      "source": [
        "# parse attack graph file generated by MulVAL tool\n",
        "attack_graph_path = '/content/AttackGraph.dot'\n",
        "nodes, edges, node_properties = parse_ag_file(attack_graph_path)\n",
        "node_dict = parse_node_properties(nodes, node_properties)\n",
        "\n",
        "# save node label into corpus object\n",
        "corpus = Corpus(node_dict)\n",
        "num_tokens = corpus.get_num_tokens()\n",
        "node_features = corpus.get_node_features()\n",
        "node_types = corpus.get_node_types()\n",
        "vocab_size = len(corpus.dictionary)\n",
        "print('vocab_size: ', vocab_size)\n",
        "print('num_tokens: ', num_tokens)\n",
        "print('node_features shape: ', node_features.shape)"
      ],
      "metadata": {
        "colab": {
          "base_uri": "https://localhost:8080/"
        },
        "id": "OTYfbNqDexsE",
        "outputId": "e3c6cd32-8777-4dab-c2da-c078a7745f0d"
      },
      "execution_count": 2,
      "outputs": [
        {
          "output_type": "stream",
          "name": "stdout",
          "text": [
            "vocab_size:  57\n",
            "num_tokens:  118\n",
            "node_features shape:  torch.Size([26, 57])\n"
          ]
        }
      ]
    },
    {
      "cell_type": "code",
      "source": [
        "# statistics of the encoded attack graph\n",
        "num_nodes = len(nodes)\n",
        "print('num_nodes: ', num_nodes)\n",
        "\n",
        "num_node_features = node_features.shape[1]\n",
        "print('num_node_features: ', num_node_features)\n",
        "\n",
        "num_edges = len(edges)\n",
        "print('num_edges: ', num_edges)\n",
        "\n",
        "action_nodes = corpus.get_action_nodes()\n",
        "action_node_idx = list(action_nodes.keys())\n",
        "num_action_nodes = len(action_node_idx)\n",
        "print('action_node_idx: ', action_node_idx)\n",
        "print('num_action_nodes: ', num_action_nodes)\n",
        "\n",
        "# var 'action_mask' is for representing the attack scenarios in attack graph (i.e., the privilege nodes)\n",
        "action_mask = action_node_idx"
      ],
      "metadata": {
        "colab": {
          "base_uri": "https://localhost:8080/"
        },
        "id": "ODq1BzCje2-v",
        "outputId": "afba490c-a900-4b40-f3f8-d4b4c076d56f"
      },
      "execution_count": 3,
      "outputs": [
        {
          "output_type": "stream",
          "name": "stdout",
          "text": [
            "num_nodes:  26\n",
            "num_node_features:  57\n",
            "num_edges:  26\n",
            "action_node_idx:  [0, 2, 4, 7, 9, 12, 14]\n",
            "num_action_nodes:  7\n"
          ]
        }
      ]
    },
    {
      "cell_type": "code",
      "source": [
        "# adj matrix and edge index\n",
        "adj_matrix = torch.zeros(len(nodes), len(nodes))\n",
        "\n",
        "for edge in edges:\n",
        "    source_node, target_node = edge\n",
        "    source_index = nodes.index(source_node)\n",
        "    target_index = nodes.index(target_node)\n",
        "    adj_matrix[source_index][target_index] = 1\n",
        "\n",
        "edge_index = adj_matrix.nonzero().t().contiguous()\n",
        "\n",
        "assert edge_index.shape[0]==2"
      ],
      "metadata": {
        "id": "3tOL3ktLe7DP"
      },
      "execution_count": 4,
      "outputs": []
    },
    {
      "cell_type": "code",
      "source": [
        "# prepare Dataset 1\n",
        "num_benign = 1500\n",
        "num_malic = 500\n",
        "rt_meas_dim = 78\n",
        "sample_method = 'synthetic'\n",
        "\n",
        "X, Y = gene_dataset(num_benign, num_malic, num_nodes, action_nodes, rt_meas_dim)\n",
        "num_samples = X.shape[0]\n",
        "\n",
        "# rescale the data with min-max scaler\n",
        "scaler = MinMaxScaler(feature_range=(0, 1))\n",
        "X = scaler.fit_transform(X.view(-1, rt_meas_dim))\n",
        "X = torch.from_numpy(X).float().view(num_samples, num_nodes, rt_meas_dim)\n",
        "\n",
        "# associate node features in attack graph with real-time measurements\n",
        "node_feat_ts = torch.stack([node_features for _ in range(len(X))], dim=0)\n",
        "X = torch.cat((node_feat_ts, X), dim=2)\n",
        "\n",
        "# split the data into training, validation and test set\n",
        "X_train, X_test, Y_train, Y_test = train_test_split(X, Y, test_size=0.2, random_state=42, stratify=Y)\n",
        "X_train, X_val, Y_train, Y_val = train_test_split(X_train, Y_train, test_size=0.25, random_state=42, stratify=Y_train)\n",
        "print(X_train.shape, Y_train.shape, X_val.shape, Y_val.shape, X_test.shape, Y_test.shape)"
      ],
      "metadata": {
        "id": "oQO7ypWEfAlL",
        "colab": {
          "base_uri": "https://localhost:8080/"
        },
        "outputId": "afb3fa8c-3741-4cd1-9456-e1c167246c9f"
      },
      "execution_count": 5,
      "outputs": [
        {
          "output_type": "stream",
          "name": "stdout",
          "text": [
            "torch.Size([3000, 26, 135]) torch.Size([3000, 7]) torch.Size([1000, 26, 135]) torch.Size([1000, 7]) torch.Size([1000, 26, 135]) torch.Size([1000, 7])\n"
          ]
        }
      ]
    },
    {
      "cell_type": "code",
      "source": [
        "# load Dataset 1 used in the paper\n",
        "data_path = '/content/datasets/'\n",
        "X_train = torch.load(data_path+'X_train-{}.pth'.format(sample_method))\n",
        "X_val   = torch.load(data_path+'X_val-{}.pth'.format(sample_method))\n",
        "X_test  = torch.load(data_path+'X_test-{}.pth'.format(sample_method))\n",
        "Y_train = torch.load(data_path+'Y_train-{}.pth'.format(sample_method))\n",
        "Y_val   = torch.load(data_path+'Y_val-{}.pth'.format(sample_method))\n",
        "Y_test  = torch.load(data_path+'Y_test-{}.pth'.format(sample_method))\n",
        "print(X_train.shape, Y_train.shape, X_val.shape, Y_val.shape, X_test.shape, Y_test.shape)"
      ],
      "metadata": {
        "id": "BufB1IkefGzJ",
        "colab": {
          "base_uri": "https://localhost:8080/"
        },
        "outputId": "acc396c3-dc17-418f-da2a-c1d77e0f2d73"
      },
      "execution_count": 6,
      "outputs": [
        {
          "output_type": "stream",
          "name": "stdout",
          "text": [
            "torch.Size([3000, 26, 135]) torch.Size([3000, 7]) torch.Size([1000, 26, 135]) torch.Size([1000, 7]) torch.Size([1000, 26, 135]) torch.Size([1000, 7])\n"
          ]
        }
      ]
    },
    {
      "cell_type": "code",
      "source": [
        "# hyperparameters for training\n",
        "in_dim = X_train.shape[-1]  # Use the actual input dim\n",
        "hidden_dim = 20\n",
        "out_dim = 1\n",
        "lr = 0.001\n",
        "device = 'cpu'\n",
        "\n",
        "# Model initialization (only NN)\n",
        "model_NN = NN(in_dim, hidden_dim, out_dim)  # <-- use in_dim, not rt_meas_dim\n",
        "model_NN.name = 'NN'\n",
        "model_NN.action_mask = action_mask\n",
        "\n",
        "num_epochs = 200  # Approximate early stopping point in paper\n",
        "\n",
        "print(f'{model_NN.name} start training...')\n",
        "time_start = time.time()\n",
        "print('model: ', model_NN)\n",
        "\n",
        "train(model_NN, lr, num_epochs, X_train, Y_train, X_val, Y_val, edge_index, in_dim, device)\n",
        "\n",
        "time_end = time.time()\n",
        "print('time cost: ', time_end - time_start)\n",
        "print(f'{model_NN.name} training finished!')\n",
        "\n",
        "print(f'{model_NN.name} accuracy on training set: {model_NN.stat[\"acc_train\"][-1]}')\n",
        "print(f'{model_NN.name} accuracy on validation set: {model_NN.stat[\"acc_val\"][-1]}')"
      ],
      "metadata": {
        "colab": {
          "base_uri": "https://localhost:8080/"
        },
        "id": "h18psscdwRgC",
        "outputId": "c224d98d-2b10-4e2d-c020-3dead25bf731"
      },
      "execution_count": 19,
      "outputs": [
        {
          "output_type": "stream",
          "name": "stdout",
          "text": [
            "NN start training...\n",
            "model:  NN(\n",
            "  (lin1): Linear(in_features=135, out_features=20, bias=True)\n",
            "  (lin2): Linear(in_features=20, out_features=20, bias=True)\n",
            "  (out_layer): Linear(in_features=20, out_features=1, bias=True)\n",
            ")\n",
            "Epoch: 010, Training Loss: 0.5147, Traning Accuracy: 0.8631, Validation Loss: 0.5413, Validation Accuracy: 0.8614\n",
            "Epoch: 020, Training Loss: 0.3809, Traning Accuracy: 0.9010, Validation Loss: 0.4188, Validation Accuracy: 0.8997\n",
            "Epoch: 030, Training Loss: 0.3104, Traning Accuracy: 0.9260, Validation Loss: 0.3519, Validation Accuracy: 0.9230\n",
            "Epoch: 040, Training Loss: 0.2775, Traning Accuracy: 0.9373, Validation Loss: 0.3361, Validation Accuracy: 0.9326\n",
            "Epoch: 050, Training Loss: 0.2504, Traning Accuracy: 0.9461, Validation Loss: 0.3224, Validation Accuracy: 0.9396\n",
            "Epoch: 060, Training Loss: 0.2291, Traning Accuracy: 0.9508, Validation Loss: 0.3172, Validation Accuracy: 0.9450\n",
            "Epoch: 070, Training Loss: 0.2163, Traning Accuracy: 0.9538, Validation Loss: 0.3179, Validation Accuracy: 0.9490\n",
            "Epoch: 080, Training Loss: 0.2059, Traning Accuracy: 0.9551, Validation Loss: 0.3151, Validation Accuracy: 0.9509\n",
            "Epoch: 090, Training Loss: 0.1990, Traning Accuracy: 0.9572, Validation Loss: 0.3180, Validation Accuracy: 0.9520\n",
            "Epoch: 100, Training Loss: 0.1912, Traning Accuracy: 0.9578, Validation Loss: 0.3165, Validation Accuracy: 0.9521\n",
            "Epoch: 110, Training Loss: 0.1845, Traning Accuracy: 0.9586, Validation Loss: 0.3178, Validation Accuracy: 0.9523\n",
            "Epoch: 120, Training Loss: 0.1767, Traning Accuracy: 0.9577, Validation Loss: 0.3139, Validation Accuracy: 0.9513\n",
            "Epoch: 130, Training Loss: 0.1694, Traning Accuracy: 0.9592, Validation Loss: 0.3119, Validation Accuracy: 0.9529\n",
            "Epoch: 140, Training Loss: 0.1599, Traning Accuracy: 0.9607, Validation Loss: 0.3034, Validation Accuracy: 0.9540\n",
            "Epoch: 150, Training Loss: 0.1494, Traning Accuracy: 0.9597, Validation Loss: 0.2870, Validation Accuracy: 0.9540\n",
            "Epoch: 160, Training Loss: 0.1437, Traning Accuracy: 0.9591, Validation Loss: 0.2801, Validation Accuracy: 0.9530\n",
            "Epoch: 170, Training Loss: 0.1383, Traning Accuracy: 0.9602, Validation Loss: 0.2764, Validation Accuracy: 0.9546\n",
            "Epoch: 180, Training Loss: 0.1337, Traning Accuracy: 0.9611, Validation Loss: 0.2747, Validation Accuracy: 0.9550\n",
            "Epoch: 190, Training Loss: 0.1288, Traning Accuracy: 0.9633, Validation Loss: 0.2737, Validation Accuracy: 0.9561\n",
            "Epoch: 200, Training Loss: 0.1302, Traning Accuracy: 0.9606, Validation Loss: 0.2729, Validation Accuracy: 0.9534\n",
            "time cost:  50.50821852684021\n",
            "NN training finished!\n",
            "NN accuracy on training set: 0.9605714285714285\n",
            "NN accuracy on validation set: 0.9534285714285714\n"
          ]
        }
      ]
    },
    {
      "cell_type": "code",
      "source": [
        "import torch\n",
        "import pandas as pd\n",
        "from sklearn.metrics import precision_score, recall_score, f1_score, roc_auc_score\n",
        "import numpy as np\n",
        "\n",
        "@torch.no_grad()\n",
        "def evaluate_trained_nn(model, X_test, Y_test, device='cpu', threshold=0.5):\n",
        "    model.eval()\n",
        "    model.to(device)\n",
        "    X_test = X_test.to(device)\n",
        "    Y_test = Y_test.to(device)\n",
        "\n",
        "    # Forward pass\n",
        "    logits = model(X_test)  # (B, N) or (B, N, 1)\n",
        "    if logits.ndim == 3 and logits.size(-1) == 1:\n",
        "        logits = logits.squeeze(-1)\n",
        "\n",
        "    # Indices of vulnerable nodes (list)\n",
        "    idx = torch.as_tensor(model.action_mask, dtype=torch.long, device=device)\n",
        "\n",
        "    # Align node dimension between logits and labels\n",
        "    N_logits = logits.shape[1]\n",
        "    N_labels = Y_test.shape[1]\n",
        "\n",
        "    if N_logits == N_labels:\n",
        "        # Both are full graphs -> index both\n",
        "        logits_sel = logits.index_select(1, idx)\n",
        "        Y_sel     = Y_test.index_select(1, idx)\n",
        "    elif N_labels == idx.numel() and N_logits > N_labels:\n",
        "        # Labels already masked to vulnerable nodes -> only index logits\n",
        "        logits_sel = logits.index_select(1, idx)\n",
        "        Y_sel     = Y_test\n",
        "    elif N_logits == idx.numel() and N_labels > N_logits:\n",
        "        # Logits already masked (rare) -> only index labels\n",
        "        logits_sel = logits\n",
        "        Y_sel     = Y_test.index_select(1, idx)\n",
        "    else:\n",
        "        raise ValueError(\n",
        "            f\"Mismatch: logits nodes={N_logits}, labels nodes={N_labels}, \"\n",
        "            f\"indices={idx.numel()}. Can't align automatically.\"\n",
        "        )\n",
        "\n",
        "    # Probabilities & predictions\n",
        "    probs = torch.sigmoid(logits_sel).detach().cpu().numpy().ravel()\n",
        "    y_true = Y_sel.detach().cpu().numpy().astype(int).ravel()\n",
        "    preds = (probs >= threshold).astype(int)\n",
        "\n",
        "    # Metrics (micro/pooled)\n",
        "    TP = int(((preds == 1) & (y_true == 1)).sum())\n",
        "    FP = int(((preds == 1) & (y_true == 0)).sum())\n",
        "    TN = int(((preds == 0) & (y_true == 0)).sum())\n",
        "    FN = int(((preds == 0) & (y_true == 1)).sum())\n",
        "\n",
        "    precision = TP / (TP + FP + 1e-12)\n",
        "    recall    = TP / (TP + FN + 1e-12)\n",
        "    f1        = 2 * precision * recall / (precision + recall + 1e-12)\n",
        "    fpr       = FP / (FP + TN + 1e-12)\n",
        "    fnr       = FN / (FN + TP + 1e-12)\n",
        "    auc       = roc_auc_score(y_true, probs) if len(np.unique(y_true)) == 2 else float('nan')\n",
        "\n",
        "    # Paper-style DataFrame\n",
        "    return pd.DataFrame([{\n",
        "        'Model': 'NN',\n",
        "        'Precision': round(precision * 100, 2),\n",
        "        'Recall':    round(recall * 100, 2),\n",
        "        'F1-score':  round(f1 * 100, 2),\n",
        "        'AUC':       round(auc * 100, 2),\n",
        "        'FPR':       round(fpr * 100, 2),\n",
        "        'FNR':       round(fnr * 100, 2),\n",
        "        'TP': TP, 'FP': FP, 'TN': TN, 'FN': FN\n",
        "    }])\n",
        "\n",
        "# ---- Usage after training ----\n",
        "df_nn = evaluate_trained_nn(model_NN, X_test, Y_test, device=device, threshold=0.5)\n",
        "print(df_nn)\n"
      ],
      "metadata": {
        "colab": {
          "base_uri": "https://localhost:8080/"
        },
        "id": "-7kgeONsxHxO",
        "outputId": "da717c7e-fa54-47ec-de4f-36242a6b8387"
      },
      "execution_count": 20,
      "outputs": [
        {
          "output_type": "stream",
          "name": "stdout",
          "text": [
            "  Model  Precision  Recall  F1-score    AUC   FPR   FNR   TP   FP    TN  FN\n",
            "0    NN      68.82   95.86     80.12  98.83  4.83  4.14  671  304  5996  29\n"
          ]
        }
      ]
    },
    {
      "cell_type": "code",
      "source": [
        "# plot the roc curve\n",
        "from sklearn.metrics import roc_curve, auc\n",
        "fig, ax = plt.subplots(figsize=(5, 5))\n",
        "for name, model in models.items():\n",
        "    prob = predict_prob(model, X_test, edge_index)\n",
        "    y_probs = prob.view(-1, 2)\n",
        "\n",
        "    fpr, tpr, thresholds = roc_curve(Y_test.view(-1), y_probs[:, 1])\n",
        "    roc_auc = auc(fpr, tpr)\n",
        "\n",
        "    ax.plot(fpr, tpr, label='{} (AUC = {:.4f})'.format(model.name, roc_auc))\n",
        "    ax.set_xlabel('False Positive Rate')\n",
        "    ax.set_ylabel('True Positive Rate')\n",
        "    ax.plot([0, 1], [0, 1], color='navy', lw=2, linestyle='--')\n",
        "    ax.set_xlim([0.0, 1.0])\n",
        "    ax.set_ylim([0.0, 1.05])\n",
        "    ax.set_title('Receiver Operating Characteristic (ROC) Curve')\n",
        "    ax.legend(loc=\"lower right\")\n",
        "ax.grid()\n",
        "plt.show()"
      ],
      "metadata": {
        "id": "3IKdaSI_fOYX",
        "colab": {
          "base_uri": "https://localhost:8080/",
          "height": 487
        },
        "outputId": "769854e1-849c-4618-b30c-da51953eeb79"
      },
      "execution_count": 21,
      "outputs": [
        {
          "output_type": "display_data",
          "data": {
            "text/plain": [
              "<Figure size 500x500 with 1 Axes>"
            ],
            "image/png": "[encoded data removed]"
          },
          "metadata": {}
        }
      ]
    },
    {
      "cell_type": "code",
      "source": [
        "from torch_geometric.data import Data\n",
        "from torch_geometric.explain import GNNExplainer, Explainer\n",
        "\n",
        "# individual case analysis\n",
        "found = False\n",
        "while not found:\n",
        "    indi_case_id = torch.randint(0, X_test.shape[0], (1,)).item()\n",
        "    y_true = Y_test[indi_case_id]\n",
        "    if y_true.sum() != 0:\n",
        "        found = True\n",
        "        print('indi_case_id: ', indi_case_id)\n",
        "\n",
        "indi_case_x = X_test[indi_case_id]\n",
        "indi_case_x = indi_case_x.unsqueeze(0)"
      ],
      "metadata": {
        "id": "pBIBaXb7ftCu",
        "colab": {
          "base_uri": "https://localhost:8080/"
        },
        "outputId": "85ed705e-cd2d-47fe-da90-cb7c024d1fe7"
      },
      "execution_count": 27,
      "outputs": [
        {
          "output_type": "stream",
          "name": "stdout",
          "text": [
            "indi_case_id:  555\n"
          ]
        }
      ]
    }
  ]
}